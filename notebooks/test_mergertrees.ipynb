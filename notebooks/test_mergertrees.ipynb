{
 "cells": [
  {
   "cell_type": "code",
   "execution_count": 1,
   "id": "60a79625",
   "metadata": {},
   "outputs": [],
   "source": [
    "import h5py\n",
    "import numpy as np\n",
    "import matplotlib.pyplot as plt\n",
    "import sys\n",
    "import importlib\n",
    "\n",
    "from utils.orb_paths import SetupPaths\n",
    "from utils.merger_trees import TraceMergerTree\n",
    "\n",
    "paths = SetupPaths()\n",
    "\n"
   ]
  },
  {
   "cell_type": "code",
   "execution_count": 2,
   "id": "8c97cd2e",
   "metadata": {},
   "outputs": [],
   "source": [
    "f = h5py.File(f\"../data/lowmass_z1p5.hdf5\", 'r')\n",
    "pairs = {}\n",
    "for key, val in f.items():\n",
    "    if key == \"Header\":\n",
    "        continue\n",
    "    pairs[key]=np.array(val)\n",
    "    \n",
    "f.close()\n",
    "    "
   ]
  },
  {
   "cell_type": "code",
   "execution_count": 3,
   "id": "2257ea0c",
   "metadata": {},
   "outputs": [],
   "source": [
    "test1 = pairs['Sub1 ID'][0]\n",
    "test2 = pairs['Sub2 ID'][0]"
   ]
  },
  {
   "cell_type": "code",
   "execution_count": 4,
   "id": "690d9bca",
   "metadata": {},
   "outputs": [
    {
     "data": {
      "text/plain": [
       "222536"
      ]
     },
     "execution_count": 4,
     "metadata": {},
     "output_type": "execute_result"
    }
   ],
   "source": [
    "test1"
   ]
  },
  {
   "cell_type": "code",
   "execution_count": 5,
   "id": "5a96bbaa",
   "metadata": {},
   "outputs": [
    {
     "data": {
      "text/plain": [
       "222537"
      ]
     },
     "execution_count": 5,
     "metadata": {},
     "output_type": "execute_result"
    }
   ],
   "source": [
    "test2"
   ]
  },
  {
   "cell_type": "code",
   "execution_count": 6,
   "id": "30d8aa6e",
   "metadata": {},
   "outputs": [],
   "source": [
    "# first, get merger tree data! \n",
    "tree1 = TraceMergerTree(snapshot=40,physics=\"hydro\",sim=\"TNG\",subfindID=test1)\n",
    "tree2 = TraceMergerTree(snapshot=40,physics=\"hydro\",sim=\"TNG\",subfindID=test2)"
   ]
  },
  {
   "cell_type": "code",
   "execution_count": 7,
   "id": "017da4dd",
   "metadata": {},
   "outputs": [
    {
     "data": {
      "text/plain": [
       "array([40, 39, 38, 37, 36, 35, 34, 33, 32, 31, 30, 29, 28, 27, 26, 25, 24,\n",
       "       23, 22, 21, 20, 19, 18, 17, 16, 15, 14, 13, 12, 11, 10,  9,  8,  7,\n",
       "        6,  5,  4], dtype=int16)"
      ]
     },
     "execution_count": 7,
     "metadata": {},
     "output_type": "execute_result"
    }
   ],
   "source": [
    "tree1.pastbranch.SnapNum"
   ]
  },
  {
   "cell_type": "code",
   "execution_count": 8,
   "id": "11d5043e",
   "metadata": {},
   "outputs": [
    {
     "data": {
      "text/plain": [
       "array([99, 98, 97, 96, 95, 94, 93, 92, 91, 90, 89, 88, 87, 86, 85, 84, 83,\n",
       "       82, 81, 80, 79, 78, 77, 76, 75, 74, 73, 72, 71, 70, 69, 68, 67, 66,\n",
       "       65, 64, 63, 62, 61, 60, 59, 58, 57, 56, 55, 54, 53, 52, 51, 50, 49,\n",
       "       48, 47, 46, 45, 44, 43, 42, 41, 40], dtype=int16)"
      ]
     },
     "execution_count": 8,
     "metadata": {},
     "output_type": "execute_result"
    }
   ],
   "source": [
    "tree1.futurebranch.SnapNum"
   ]
  },
  {
   "cell_type": "code",
   "execution_count": 9,
   "id": "5aabde88",
   "metadata": {},
   "outputs": [
    {
     "data": {
      "text/plain": [
       "array([99, 98, 97, 96, 95, 94, 93, 92, 91, 90, 89, 88, 87, 86, 85, 84, 83,\n",
       "       82, 81, 80, 79, 78, 77, 76, 75, 74, 73, 72, 71, 70, 69, 68, 67, 66,\n",
       "       65, 64, 63, 62, 61, 60, 59, 58, 57, 56, 55, 54, 53, 52, 51, 50, 49,\n",
       "       48, 47, 46, 45, 44, 43, 42, 41, 40, 39, 38, 37, 36, 35, 34, 33, 32,\n",
       "       31, 30, 29, 28, 27, 26, 25, 24, 23, 22, 21, 20, 19, 18, 17, 16, 15,\n",
       "       14, 13, 12, 11, 10,  9,  8,  7,  6,  5,  4], dtype=int16)"
      ]
     },
     "execution_count": 9,
     "metadata": {},
     "output_type": "execute_result"
    }
   ],
   "source": [
    "tree1.mergedbranch['SnapNum']"
   ]
  },
  {
   "cell_type": "code",
   "execution_count": 10,
   "id": "4c07b4be",
   "metadata": {},
   "outputs": [
    {
     "data": {
      "text/plain": [
       "array([0, 1, 2, 3])"
      ]
     },
     "execution_count": 10,
     "metadata": {},
     "output_type": "execute_result"
    }
   ],
   "source": [
    "tree1.missingsnaps"
   ]
  },
  {
   "cell_type": "code",
   "execution_count": 13,
   "id": "3d8c8530",
   "metadata": {},
   "outputs": [
    {
     "data": {
      "text/plain": [
       "array([0, 1, 2])"
      ]
     },
     "execution_count": 13,
     "metadata": {},
     "output_type": "execute_result"
    }
   ],
   "source": [
    "tree2.missingsnaps"
   ]
  },
  {
   "cell_type": "code",
   "execution_count": 14,
   "id": "817772d9",
   "metadata": {},
   "outputs": [
    {
     "data": {
      "text/plain": [
       "array([2.4081417e+01, 2.1221460e+01, 1.6476969e+01, 1.4280122e+01,\n",
       "       1.0116123e+01, 1.0358728e+01, 9.0264778e+00, 8.2710876e+00,\n",
       "       7.0040917e+00, 5.7423835e+00, 5.2246075e+00, 4.4421158e+00,\n",
       "       4.2051177e+00, 3.5143964e+00, 2.8173337e+00, 2.2296493e+00,\n",
       "       1.3718630e+00, 1.2951264e+00, 1.1443082e+00, 4.7132045e-02,\n",
       "       4.9267104e-01, 3.2491899e-01, 2.8471234e-01, 2.5954860e-01,\n",
       "       2.2340354e-01, 2.1921957e-01, 1.9230458e-01, 1.4661829e-01,\n",
       "       1.0562025e-01, 9.7850554e-02, 8.6785659e-02, 5.8654752e-02,\n",
       "       5.3799119e-02, 4.3909069e-02, 4.2700227e-02, 3.0816216e-02,\n",
       "       1.2310912e-02], dtype=float32)"
      ]
     },
     "execution_count": 14,
     "metadata": {},
     "output_type": "execute_result"
    }
   ],
   "source": [
    "tree1.pastbranch.SubhaloMass"
   ]
  },
  {
   "cell_type": "code",
   "execution_count": 16,
   "id": "6a557171",
   "metadata": {},
   "outputs": [
    {
     "data": {
      "text/plain": [
       "array([1.85981064e+01, 1.98067112e+01, 1.77721367e+01, 1.88507805e+01,\n",
       "       1.63042164e+01, 1.52925110e+01, 1.45630932e+01, 1.40764084e+01,\n",
       "       1.33844261e+01, 1.18531675e+01, 1.14695759e+01, 1.05642109e+01,\n",
       "       3.89443517e-01, 7.21200526e-01, 8.30368817e-01, 1.12344289e+00,\n",
       "       1.24771297e+00, 1.63387692e+00, 1.59541380e+00, 1.44803417e+00,\n",
       "       1.35707617e+00, 1.08588195e+00, 1.07274234e+00, 7.30952144e-01,\n",
       "       3.77249479e-01, 1.58581987e-01, 1.93066746e-01, 2.03049973e-01,\n",
       "       2.23053217e-01, 1.81916863e-01, 1.68409169e-01, 1.30530268e-01,\n",
       "       1.20016925e-01, 1.23447776e-01, 1.01084612e-01, 7.68628567e-02,\n",
       "       3.75691354e-02, 1.73454396e-02], dtype=float32)"
      ]
     },
     "execution_count": 16,
     "metadata": {},
     "output_type": "execute_result"
    }
   ],
   "source": [
    "tree2.pastbranch.SubhaloMass"
   ]
  },
  {
   "cell_type": "code",
   "execution_count": 23,
   "id": "51adc48e",
   "metadata": {},
   "outputs": [
    {
     "data": {
      "image/png": "[encoded data removed]",
      "text/plain": [
       "<Figure size 432x288 with 1 Axes>"
      ]
     },
     "metadata": {
      "needs_background": "light"
     },
     "output_type": "display_data"
    }
   ],
   "source": [
    "# past mass history\n",
    "fig = plt.figure()\n",
    "plt.plot(tree1.pastbranch.SubhaloMass,'k',label='halo1')\n",
    "plt.plot(tree2.pastbranch.SubhaloMass,'r',label='halo2')\n",
    "plt.legend()\n",
    "plt.show()"
   ]
  },
  {
   "cell_type": "code",
   "execution_count": 27,
   "id": "db026f2e",
   "metadata": {},
   "outputs": [
    {
     "data": {
      "image/png": "[encoded data removed]",
      "text/plain": [
       "<Figure size 432x288 with 1 Axes>"
      ]
     },
     "metadata": {
      "needs_background": "light"
     },
     "output_type": "display_data"
    }
   ],
   "source": [
    "# past and future\n",
    "fig = plt.figure()\n",
    "plt.plot(tree1.snaphist,np.concatenate([tree1.futurebranch.SubhaloMass[:-1],tree1.pastbranch.SubhaloMass]),'k',label='halo1')\n",
    "plt.plot(tree2.snaphist,np.concatenate([tree2.futurebranch.SubhaloMass[:-1],tree2.pastbranch.SubhaloMass]),'r',label='halo2')\n",
    "plt.legend()\n",
    "plt.show()"
   ]
  },
  {
   "cell_type": "code",
   "execution_count": 27,
   "id": "b16b3bb2",
   "metadata": {},
   "outputs": [
    {
     "data": {
      "text/plain": [
       "17163865"
      ]
     },
     "execution_count": 27,
     "metadata": {},
     "output_type": "execute_result"
    }
   ],
   "source": [
    "tree1.mergedbranch['SubhaloID'][-1]"
   ]
  },
  {
   "cell_type": "code",
   "execution_count": 26,
   "id": "6d1e578a",
   "metadata": {},
   "outputs": [
    {
     "data": {
      "text/plain": [
       "17161518"
      ]
     },
     "execution_count": 26,
     "metadata": {},
     "output_type": "execute_result"
    }
   ],
   "source": [
    "tree2.mergedbranch['SubhaloID'][-1]"
   ]
  },
  {
   "cell_type": "code",
   "execution_count": 36,
   "id": "88641c74",
   "metadata": {},
   "outputs": [
    {
     "data": {
      "text/plain": [
       "array([ True,  True,  True,  True,  True,  True,  True,  True,  True,\n",
       "        True,  True,  True,  True,  True,  True,  True,  True,  True,\n",
       "        True,  True,  True,  True,  True,  True,  True,  True,  True,\n",
       "        True,  True,  True,  True,  True,  True,  True,  True,  True,\n",
       "        True,  True,  True,  True,  True,  True,  True,  True,  True,\n",
       "        True,  True,  True,  True,  True,  True,  True,  True,  True,\n",
       "        True,  True,  True,  True,  True,  True,  True,  True,  True,\n",
       "        True,  True,  True,  True,  True,  True,  True,  True,  True,\n",
       "        True,  True,  True,  True,  True,  True,  True,  True,  True,\n",
       "        True,  True,  True,  True,  True,  True,  True,  True,  True,\n",
       "        True,  True,  True,  True,  True,  True])"
      ]
     },
     "execution_count": 36,
     "metadata": {},
     "output_type": "execute_result"
    }
   ],
   "source": [
    "mask1"
   ]
  },
  {
   "cell_type": "code",
   "execution_count": 35,
   "id": "89d06909",
   "metadata": {},
   "outputs": [],
   "source": [
    "mask1 = np.isin(tree1.mergedbranch['SnapNum'],tree2.mergedbranch['SnapNum'])\n",
    "mask2 = np.isin(tree2.mergedbranch['SnapNum'],tree1.mergedbranch['SnapNum'])"
   ]
  },
  {
   "cell_type": "code",
   "execution_count": 38,
   "id": "5a682704",
   "metadata": {},
   "outputs": [
    {
     "name": "stdout",
     "output_type": "stream",
     "text": [
      "96\n",
      "96\n"
     ]
    }
   ],
   "source": [
    "print(len(tree1.mergedbranch['SnapNum'][mask1]))\n",
    "print(len(tree2.mergedbranch['SnapNum'][mask2]))"
   ]
  },
  {
   "cell_type": "code",
   "execution_count": 40,
   "id": "6f44c0d9",
   "metadata": {},
   "outputs": [],
   "source": [
    "samemask = np.where(tree1.mergedbranch['SubhaloID'][mask1]==tree2.mergedbranch['SubhaloID'][mask2])"
   ]
  },
  {
   "cell_type": "code",
   "execution_count": 28,
   "id": "999a4116",
   "metadata": {},
   "outputs": [
    {
     "name": "stdout",
     "output_type": "stream",
     "text": [
      "4\n",
      "3\n"
     ]
    }
   ],
   "source": [
    "snap=-1\n",
    "print(tree1.mergedbranch['SnapNum'][snap])\n",
    "print(tree2.mergedbranch['SnapNum'][snap])"
   ]
  },
  {
   "cell_type": "code",
   "execution_count": 11,
   "id": "58639869",
   "metadata": {},
   "outputs": [
    {
     "data": {
      "image/png": "[encoded data removed]",
      "text/plain": [
       "<Figure size 432x288 with 1 Axes>"
      ]
     },
     "metadata": {
      "needs_background": "light"
     },
     "output_type": "display_data"
    }
   ],
   "source": [
    "# past and future\n",
    "fig = plt.figure()\n",
    "plt.plot(tree1.mergedbranch['SnapNum'],tree1.mergedbranch['SubhaloMass'],'k',label='halo1')\n",
    "plt.plot(tree2.mergedbranch['SnapNum'],tree2.mergedbranch['SubhaloMass'],'r',label='halo2')\n",
    "plt.\n",
    "plt.legend()\n",
    "plt.show()"
   ]
  },
  {
   "cell_type": "code",
   "execution_count": 31,
   "id": "be7b4271",
   "metadata": {},
   "outputs": [],
   "source": [
    "from utils.readtreeHDF5_public import TreeDB\n",
    "\n",
    "treepath = paths.path_tnghydro_trees\n",
    "treeDirectory = treepath\n",
    "tree = TreeDB(treeDirectory)"
   ]
  },
  {
   "cell_type": "code",
   "execution_count": 32,
   "id": "bbb0e7b9",
   "metadata": {},
   "outputs": [
    {
     "data": {
      "text/plain": [
       "<utils.readtreeHDF5_public.TreeDB at 0x2ada37ea3d30>"
      ]
     },
     "execution_count": 32,
     "metadata": {},
     "output_type": "execute_result"
    }
   ],
   "source": [
    "tree"
   ]
  },
  {
   "cell_type": "code",
   "execution_count": 36,
   "id": "370ab1d2",
   "metadata": {},
   "outputs": [],
   "source": [
    "main = tree.get_main_branch(40,test1)\n",
    "future = tree.get_future_branch(40,test1)\n",
    "proj = tree.get_all_progenitors(40,test1)\n",
    "direct = tree.get_direct_progenitors(40,test1)"
   ]
  },
  {
   "cell_type": "code",
   "execution_count": 39,
   "id": "2ae5ece4",
   "metadata": {
    "scrolled": false
   },
   "outputs": [
    {
     "data": {
      "text/plain": [
       "['DescendantID',\n",
       " 'FirstProgenitorID',\n",
       " 'FirstSubhaloInFOFGroupID',\n",
       " 'GroupBHMass',\n",
       " 'GroupBHMdot',\n",
       " 'GroupCM',\n",
       " 'GroupFirstSub',\n",
       " 'GroupGasMetalFractions',\n",
       " 'GroupGasMetallicity',\n",
       " 'GroupLen',\n",
       " 'GroupLenType',\n",
       " 'GroupMass',\n",
       " 'GroupMassType',\n",
       " 'GroupNsubs',\n",
       " 'GroupPos',\n",
       " 'GroupSFR',\n",
       " 'GroupStarMetalFractions',\n",
       " 'GroupStarMetallicity',\n",
       " 'GroupVel',\n",
       " 'GroupWindMass',\n",
       " 'Group_M_Crit200',\n",
       " 'Group_M_Crit500',\n",
       " 'Group_M_Mean200',\n",
       " 'Group_M_TopHat200',\n",
       " 'Group_R_Crit200',\n",
       " 'Group_R_Crit500',\n",
       " 'Group_R_Mean200',\n",
       " 'Group_R_TopHat200',\n",
       " 'LastProgenitorID',\n",
       " 'MainLeafProgenitorID',\n",
       " 'Mass',\n",
       " 'MassHistory',\n",
       " 'NextProgenitorID',\n",
       " 'NextSubhaloInFOFGroupID',\n",
       " 'NumParticles',\n",
       " 'RootDescendantID',\n",
       " 'SnapNum',\n",
       " 'SubfindID',\n",
       " 'SubhaloBHMass',\n",
       " 'SubhaloBHMdot',\n",
       " 'SubhaloBfldDisk',\n",
       " 'SubhaloBfldHalo',\n",
       " 'SubhaloCM',\n",
       " 'SubhaloGasMetalFractions',\n",
       " 'SubhaloGasMetalFractionsHalfRad',\n",
       " 'SubhaloGasMetalFractionsMaxRad',\n",
       " 'SubhaloGasMetalFractionsSfr',\n",
       " 'SubhaloGasMetalFractionsSfrWeighted',\n",
       " 'SubhaloGasMetallicity',\n",
       " 'SubhaloGasMetallicityHalfRad',\n",
       " 'SubhaloGasMetallicityMaxRad',\n",
       " 'SubhaloGasMetallicitySfr',\n",
       " 'SubhaloGasMetallicitySfrWeighted',\n",
       " 'SubhaloGrNr',\n",
       " 'SubhaloHalfmassRad',\n",
       " 'SubhaloHalfmassRadType',\n",
       " 'SubhaloID',\n",
       " 'SubhaloIDMostbound',\n",
       " 'SubhaloIDRaw',\n",
       " 'SubhaloLen',\n",
       " 'SubhaloLenType',\n",
       " 'SubhaloMass',\n",
       " 'SubhaloMassInHalfRad',\n",
       " 'SubhaloMassInHalfRadType',\n",
       " 'SubhaloMassInMaxRad',\n",
       " 'SubhaloMassInMaxRadType',\n",
       " 'SubhaloMassInRad',\n",
       " 'SubhaloMassInRadType',\n",
       " 'SubhaloMassType',\n",
       " 'SubhaloParent',\n",
       " 'SubhaloPos',\n",
       " 'SubhaloSFR',\n",
       " 'SubhaloSFRinHalfRad',\n",
       " 'SubhaloSFRinMaxRad',\n",
       " 'SubhaloSFRinRad',\n",
       " 'SubhaloSpin',\n",
       " 'SubhaloStarMetalFractions',\n",
       " 'SubhaloStarMetalFractionsHalfRad',\n",
       " 'SubhaloStarMetalFractionsMaxRad',\n",
       " 'SubhaloStarMetallicity',\n",
       " 'SubhaloStarMetallicityHalfRad',\n",
       " 'SubhaloStarMetallicityMaxRad',\n",
       " 'SubhaloStellarPhotometrics',\n",
       " 'SubhaloStellarPhotometricsMassInRad',\n",
       " 'SubhaloStellarPhotometricsRad',\n",
       " 'SubhaloVel',\n",
       " 'SubhaloVelDisp',\n",
       " 'SubhaloVmax',\n",
       " 'SubhaloVmaxRad',\n",
       " 'SubhaloWindMass',\n",
       " 'TreeID',\n",
       " '__class__',\n",
       " '__delattr__',\n",
       " '__dict__',\n",
       " '__dir__',\n",
       " '__doc__',\n",
       " '__eq__',\n",
       " '__format__',\n",
       " '__ge__',\n",
       " '__getattribute__',\n",
       " '__gt__',\n",
       " '__hash__',\n",
       " '__init__',\n",
       " '__init_subclass__',\n",
       " '__le__',\n",
       " '__lt__',\n",
       " '__module__',\n",
       " '__ne__',\n",
       " '__new__',\n",
       " '__reduce__',\n",
       " '__reduce_ex__',\n",
       " '__repr__',\n",
       " '__setattr__',\n",
       " '__sizeof__',\n",
       " '__str__',\n",
       " '__subclasshook__',\n",
       " '__weakref__',\n",
       " '_fields',\n",
       " '_get_subset',\n",
       " '_index_given_sub',\n",
       " '_row_end',\n",
       " '_row_start',\n",
       " 'nrows']"
      ]
     },
     "execution_count": 39,
     "metadata": {},
     "output_type": "execute_result"
    }
   ],
   "source": [
    "dir(proj)"
   ]
  },
  {
   "cell_type": "code",
   "execution_count": 49,
   "id": "624e930e",
   "metadata": {},
   "outputs": [
    {
     "data": {
      "text/plain": [
       "array([17163865, 17163865, 17163865, 17163865, 17163865, 17163865,\n",
       "       17163865, 17163865, 17163865, 17163865, 17163865, 17163865,\n",
       "       17163865, 17163865, 17163865, 17163865, 17163865, 17163865,\n",
       "       17163865, 17163865, 17163865, 17163865, 17163865, 17163865,\n",
       "       17163865, 17163865, 17163865, 17163865, 17163865, 17163865,\n",
       "       17163865, 17163865, 17163865, 17163865, 17163865, 17163865,\n",
       "       17163865])"
      ]
     },
     "execution_count": 49,
     "metadata": {},
     "output_type": "execute_result"
    }
   ],
   "source": [
    "main.MainLeafProgenitorID"
   ]
  },
  {
   "cell_type": "code",
   "execution_count": 51,
   "id": "c8d2e250",
   "metadata": {},
   "outputs": [
    {
     "data": {
      "text/plain": [
       "array([   1486,    1518,    1556,    2534,    2723,    9469,   10195,\n",
       "         10517,   12166,   12191,   17414,   20808,   16034,   22662,\n",
       "         25558,   26509,   61201,   63323,   60289,   59042,   56856,\n",
       "        201299,  232271,  237375,  252549,  233531,  212512,  241451,\n",
       "        384763,  318677,  317107,  435785,  418628,  446345,  367140,\n",
       "        490643, 1212365], dtype=int32)"
      ]
     },
     "execution_count": 51,
     "metadata": {},
     "output_type": "execute_result"
    }
   ],
   "source": [
    "main.SubhaloGrNr"
   ]
  },
  {
   "cell_type": "markdown",
   "id": "8b87f3ca",
   "metadata": {},
   "source": [
    "Subhalo ID and SubfindID are different -> can I use the Descendant Subhalo IDs to find the SubfindIDs?"
   ]
  },
  {
   "cell_type": "code",
   "execution_count": 55,
   "id": "12e40255",
   "metadata": {},
   "outputs": [
    {
     "data": {
      "text/plain": [
       "array([   1486,    1518,    1556,    2534,    2723,    9469,   10195,\n",
       "         10517,   12166,   12191,   17414,   20808,   16034,   22662,\n",
       "         25558,   26509,   61201,   63323,   60289,   59042,   56856,\n",
       "        201299,  232271,  237375,  252549,  233531,  212512,  241451,\n",
       "        384763,  318677,  317107,  435785,  418628,  446345,  367140,\n",
       "        490643, 1212365], dtype=int32)"
      ]
     },
     "execution_count": 55,
     "metadata": {},
     "output_type": "execute_result"
    }
   ],
   "source": [
    "tree1.pastbranch.SubhaloGrNr"
   ]
  },
  {
   "cell_type": "code",
   "execution_count": 56,
   "id": "593330e2",
   "metadata": {},
   "outputs": [
    {
     "data": {
      "text/plain": [
       "array([  1486,   1518,   1556,   4938,   5255,   5622,   5896,   6111,\n",
       "         7504,   8074,   8235,   8447,   8445,   8390,   8693,   8999,\n",
       "        15469,  41327,  42962,  44537,  44913,  47869,  44379,  48230,\n",
       "        51701,  49736, 138128, 129168, 102633, 139788, 141322, 179558,\n",
       "       166713, 107040,  94736, 110535, 259283, 388838], dtype=int32)"
      ]
     },
     "execution_count": 56,
     "metadata": {},
     "output_type": "execute_result"
    }
   ],
   "source": [
    "tree2.pastbranch.SubhaloGrNr\n",
    "tree2.pastbranch.SubhaloGrNr\n"
   ]
  },
  {
   "cell_type": "code",
   "execution_count": 58,
   "id": "8234d89b",
   "metadata": {},
   "outputs": [
    {
     "data": {
      "text/plain": [
       "array([[32513.352, 37528.168, 42667.555],\n",
       "       [32577.168, 37525.637, 42656.973],\n",
       "       [32706.611, 37517.06 , 42630.176],\n",
       "       [32810.957, 37507.105, 42603.51 ],\n",
       "       [32934.203, 37497.223, 42576.105],\n",
       "       [33055.64 , 37487.387, 42549.008],\n",
       "       [33174.92 , 37472.844, 42526.184],\n",
       "       [33313.61 , 37467.004, 42483.42 ],\n",
       "       [33436.91 , 37457.293, 42466.812],\n",
       "       [33547.027, 37433.59 , 42464.06 ],\n",
       "       [33661.273, 37417.234, 42442.81 ],\n",
       "       [33812.523, 37414.14 , 42393.37 ],\n",
       "       [33970.4  , 37409.2  , 42336.074],\n",
       "       [34154.375, 37391.   , 42271.36 ],\n",
       "       [34322.625, 37366.41 , 42224.8  ],\n",
       "       [34429.688, 37353.082, 42196.332],\n",
       "       [34659.38 , 37318.18 , 42138.824],\n",
       "       [34810.047, 37293.277, 42107.715],\n",
       "       [34953.613, 37270.496, 42077.035],\n",
       "       [35121.19 , 37247.098, 42042.863],\n",
       "       [35212.176, 37237.42 , 42026.348],\n",
       "       [35327.9  , 37207.746, 42004.64 ],\n",
       "       [35424.31 , 37210.637, 41997.355],\n",
       "       [35534.297, 37199.9  , 41984.227],\n",
       "       [35612.46 , 37195.4  , 41965.844],\n",
       "       [35707.465, 37184.266, 41948.215],\n",
       "       [35796.164, 37177.055, 41941.734],\n",
       "       [35838.887, 37171.707, 41936.992],\n",
       "       [35962.758, 37153.52 , 41925.098],\n",
       "       [36072.445, 37145.805, 41918.18 ],\n",
       "       [36117.367, 37138.83 , 41914.25 ],\n",
       "       [36184.113, 37132.887, 41907.945],\n",
       "       [36255.816, 37127.062, 41906.   ],\n",
       "       [36316.234, 37118.473, 41905.465],\n",
       "       [36391.387, 37109.117, 41897.652],\n",
       "       [36435.9  , 37102.504, 41893.58 ],\n",
       "       [36505.266, 37095.523, 41894.426],\n",
       "       [36600.52 , 37080.816, 41886.97 ]], dtype=float32)"
      ]
     },
     "execution_count": 58,
     "metadata": {},
     "output_type": "execute_result"
    }
   ],
   "source": [
    "tree2.pastbranch.SubhaloPos"
   ]
  },
  {
   "cell_type": "code",
   "execution_count": 68,
   "id": "02daf116",
   "metadata": {},
   "outputs": [
    {
     "data": {
      "text/plain": [
       "91"
      ]
     },
     "execution_count": 68,
     "metadata": {},
     "output_type": "execute_result"
    }
   ],
   "source": [
    "len(tree1.futurebranch.__dict__.keys())"
   ]
  },
  {
   "cell_type": "code",
   "execution_count": 82,
   "id": "07227b7a",
   "metadata": {},
   "outputs": [],
   "source": [
    "pastkeys = np.array(list(tree1.pastbranch.__dict__.keys()))\n",
    "futurekeys = np.array(list(tree1.futurebranch.__dict__.keys()))"
   ]
  },
  {
   "cell_type": "code",
   "execution_count": 111,
   "id": "e9cb0bac",
   "metadata": {},
   "outputs": [
    {
     "name": "stdout",
     "output_type": "stream",
     "text": [
      "96\n",
      "60\n",
      "37\n",
      "[      -1 17157342 17157343 17157344 17157345 17157346 17157347 17157348\n",
      " 17157349 17157350 17157351 17157352 17157353 17157354 17157355 17157356\n",
      " 17157357 17157358 17157359 17157360 17157361 17157362 17157363 17157364\n",
      " 17157365 17157366 17157367 17157368 17157369 17157370 17157371 17157372\n",
      " 17157373 17157374 17157375 17157376 17157377 17157378 17157379 17157380\n",
      " 17163809 17163810 17163811 17163812 17163813 17163814 17163815 17163816\n",
      " 17163817 17163818 17163819 17163820 17163821 17163822 17163823 17163824\n",
      " 17163825 17163826 17163827 17163828 17163829 17163830 17163831 17163832\n",
      " 17163833 17163834 17163835 17163836 17163837 17163838 17163839 17163840\n",
      " 17163841 17163842 17163843 17163844 17163845 17163846 17163847 17163848\n",
      " 17163849 17163850 17163851 17163852 17163853 17163854 17163855 17163856\n",
      " 17163857 17163858 17163859 17163860 17163861 17163862 17163863 17163864]\n",
      "[      -1 17157342 17157343 17157344 17157345 17157346 17157347 17157348\n",
      " 17157349 17157350 17157351 17157352 17157353 17157354 17157355 17157356\n",
      " 17157357 17157358 17157359 17157360 17157361 17157362 17157363 17157364\n",
      " 17157365 17157366 17157367 17157368 17157369 17157370 17157371 17157372\n",
      " 17157373 17157374 17157375 17157376 17157377 17157378 17157379 17157380\n",
      " 17163809 17163810 17163811 17163812 17163813 17163814 17163815 17163816\n",
      " 17163817 17163818 17163819 17163820 17163821 17163822 17163823 17163824\n",
      " 17163825 17163826 17163827 17163828]\n",
      "[17163828 17163829 17163830 17163831 17163832 17163833 17163834 17163835\n",
      " 17163836 17163837 17163838 17163839 17163840 17163841 17163842 17163843\n",
      " 17163844 17163845 17163846 17163847 17163848 17163849 17163850 17163851\n",
      " 17163852 17163853 17163854 17163855 17163856 17163857 17163858 17163859\n",
      " 17163860 17163861 17163862 17163863 17163864]\n",
      "[99 98 97 96 95 94 93 92 91 90 89 88 87 86 85 84 83 82 81 80 79 78 77 76\n",
      " 75 74 73 72 71 70 69 68 67 66 65 64 63 62 61 60 59 58 57 56 55 54 53 52\n",
      " 51 50 49 48 47 46 45 44 43 42 41 40 39 38 37 36 35 34 33 32 31 30 29 28\n",
      " 27 26 25 24 23 22 21 20 19 18 17 16 15 14 13 12 11 10  9  8  7  6  5  4]\n",
      "[99 98 97 96 95 94 93 92 91 90 89 88 87 86 85 84 83 82 81 80 79 78 77 76\n",
      " 75 74 73 72 71 70 69 68 67 66 65 64 63 62 61 60 59 58 57 56 55 54 53 52\n",
      " 51 50 49 48 47 46 45 44 43 42 41 40]\n",
      "[40 39 38 37 36 35 34 33 32 31 30 29 28 27 26 25 24 23 22 21 20 19 18 17\n",
      " 16 15 14 13 12 11 10  9  8  7  6  5  4]\n"
     ]
    }
   ],
   "source": [
    "mergedbranch = {}\n",
    "for key in pastkeys[np.isin(pastkeys,futurekeys)]:\n",
    "    #print(type(tree1.futurebranch.__getattribute__(key)))\n",
    "    mergedbranch[key] = np.concatenate([tree1.futurebranch.__getattribute__(key)[:-1],tree1.pastbranch.__getattribute__(key)])\n",
    "    \n",
    "print(len(mergedbranch['DescendantID']))\n",
    "print(len(tree1.futurebranch.DescendantID))\n",
    "print(len(tree1.pastbranch.DescendantID))\n",
    "\n",
    "print(mergedbranch['DescendantID'])\n",
    "print(tree1.futurebranch.DescendantID)\n",
    "print(tree1.pastbranch.DescendantID)\n"
   ]
  },
  {
   "cell_type": "code",
   "execution_count": 80,
   "id": "61a3b1bd",
   "metadata": {},
   "outputs": [
    {
     "data": {
      "text/plain": [
       "array(False)"
      ]
     },
     "execution_count": 80,
     "metadata": {},
     "output_type": "execute_result"
    }
   ],
   "source": [
    "np.isin(tree1.pastbranch.__dict__.keys(),tree1.futurebranch.__dict__.keys())"
   ]
  },
  {
   "cell_type": "code",
   "execution_count": 86,
   "id": "b755b2af",
   "metadata": {},
   "outputs": [
    {
     "data": {
      "text/plain": [
       "list"
      ]
     },
     "execution_count": 86,
     "metadata": {},
     "output_type": "execute_result"
    }
   ],
   "source": [
    "type(list(tree1.pastbranch.__dict__.keys()))"
   ]
  },
  {
   "cell_type": "code",
   "execution_count": 90,
   "id": "6cb51e05",
   "metadata": {},
   "outputs": [
    {
     "data": {
      "text/plain": [
       "array([False, False, False, False, False,  True,  True,  True,  True,\n",
       "        True,  True,  True,  True,  True,  True,  True,  True,  True,\n",
       "        True,  True,  True,  True,  True,  True,  True,  True,  True,\n",
       "        True,  True,  True,  True,  True,  True,  True,  True,  True,\n",
       "        True,  True,  True,  True,  True,  True,  True,  True,  True,\n",
       "        True,  True,  True,  True,  True,  True,  True,  True,  True,\n",
       "        True,  True,  True,  True,  True,  True,  True,  True,  True,\n",
       "        True,  True,  True,  True,  True,  True,  True,  True,  True,\n",
       "        True,  True,  True,  True,  True,  True,  True,  True,  True,\n",
       "        True,  True,  True,  True,  True,  True,  True,  True,  True,\n",
       "        True,  True,  True,  True,  True,  True])"
      ]
     },
     "execution_count": 90,
     "metadata": {},
     "output_type": "execute_result"
    }
   ],
   "source": [
    "np.isin(pastkeys,futurekeys)"
   ]
  },
  {
   "cell_type": "code",
   "execution_count": 89,
   "id": "6ba7adfc",
   "metadata": {},
   "outputs": [
    {
     "data": {
      "text/plain": [
       "array(['_row_start', '_row_end', '_index_given_sub', 'nrows', '_fields',\n",
       "       'DescendantID', 'FirstProgenitorID', 'FirstSubhaloInFOFGroupID',\n",
       "       'GroupBHMass', 'GroupBHMdot', 'GroupCM', 'GroupFirstSub',\n",
       "       'GroupGasMetalFractions', 'GroupGasMetallicity', 'GroupLen',\n",
       "       'GroupLenType', 'GroupMass', 'GroupMassType', 'GroupNsubs',\n",
       "       'GroupPos', 'GroupSFR', 'GroupStarMetalFractions',\n",
       "       'GroupStarMetallicity', 'GroupVel', 'GroupWindMass',\n",
       "       'Group_M_Crit200', 'Group_M_Crit500', 'Group_M_Mean200',\n",
       "       'Group_M_TopHat200', 'Group_R_Crit200', 'Group_R_Crit500',\n",
       "       'Group_R_Mean200', 'Group_R_TopHat200', 'LastProgenitorID',\n",
       "       'MainLeafProgenitorID', 'Mass', 'MassHistory', 'NextProgenitorID',\n",
       "       'NextSubhaloInFOFGroupID', 'NumParticles', 'RootDescendantID',\n",
       "       'SnapNum', 'SubfindID', 'SubhaloBHMass', 'SubhaloBHMdot',\n",
       "       'SubhaloBfldDisk', 'SubhaloBfldHalo', 'SubhaloCM',\n",
       "       'SubhaloGasMetalFractions', 'SubhaloGasMetalFractionsHalfRad',\n",
       "       'SubhaloGasMetalFractionsMaxRad', 'SubhaloGasMetalFractionsSfr',\n",
       "       'SubhaloGasMetalFractionsSfrWeighted', 'SubhaloGasMetallicity',\n",
       "       'SubhaloGasMetallicityHalfRad', 'SubhaloGasMetallicityMaxRad',\n",
       "       'SubhaloGasMetallicitySfr', 'SubhaloGasMetallicitySfrWeighted',\n",
       "       'SubhaloGrNr', 'SubhaloHalfmassRad', 'SubhaloHalfmassRadType',\n",
       "       'SubhaloID', 'SubhaloIDMostbound', 'SubhaloIDRaw', 'SubhaloLen',\n",
       "       'SubhaloLenType', 'SubhaloMass', 'SubhaloMassInHalfRad',\n",
       "       'SubhaloMassInHalfRadType', 'SubhaloMassInMaxRad',\n",
       "       'SubhaloMassInMaxRadType', 'SubhaloMassInRad',\n",
       "       'SubhaloMassInRadType', 'SubhaloMassType', 'SubhaloParent',\n",
       "       'SubhaloPos', 'SubhaloSFR', 'SubhaloSFRinHalfRad',\n",
       "       'SubhaloSFRinMaxRad', 'SubhaloSFRinRad', 'SubhaloSpin',\n",
       "       'SubhaloStarMetalFractions', 'SubhaloStarMetalFractionsHalfRad',\n",
       "       'SubhaloStarMetalFractionsMaxRad', 'SubhaloStarMetallicity',\n",
       "       'SubhaloStarMetallicityHalfRad', 'SubhaloStarMetallicityMaxRad',\n",
       "       'SubhaloStellarPhotometrics',\n",
       "       'SubhaloStellarPhotometricsMassInRad',\n",
       "       'SubhaloStellarPhotometricsRad', 'SubhaloVel', 'SubhaloVelDisp',\n",
       "       'SubhaloVmax', 'SubhaloVmaxRad', 'SubhaloWindMass', 'TreeID'],\n",
       "      dtype='<U35')"
      ]
     },
     "execution_count": 89,
     "metadata": {},
     "output_type": "execute_result"
    }
   ],
   "source": [
    "np.array(list(tree1.pastbranch.__dict__.keys()))"
   ]
  },
  {
   "cell_type": "code",
   "execution_count": 96,
   "id": "cc77dd7a",
   "metadata": {},
   "outputs": [
    {
     "data": {
      "text/plain": [
       "'DescendantID'"
      ]
     },
     "execution_count": 96,
     "metadata": {},
     "output_type": "execute_result"
    }
   ],
   "source": [
    "dir(tree1.futurebranch)[0]"
   ]
  },
  {
   "cell_type": "code",
   "execution_count": 99,
   "id": "efe95ede",
   "metadata": {},
   "outputs": [
    {
     "data": {
      "text/plain": [
       "array([      -1, 17157342, 17157343, 17157344, 17157345, 17157346,\n",
       "       17157347, 17157348, 17157349, 17157350, 17157351, 17157352,\n",
       "       17157353, 17157354, 17157355, 17157356, 17157357, 17157358,\n",
       "       17157359, 17157360, 17157361, 17157362, 17157363, 17157364,\n",
       "       17157365, 17157366, 17157367, 17157368, 17157369, 17157370,\n",
       "       17157371, 17157372, 17157373, 17157374, 17157375, 17157376,\n",
       "       17157377, 17157378, 17157379, 17157380, 17163809, 17163810,\n",
       "       17163811, 17163812, 17163813, 17163814, 17163815, 17163816,\n",
       "       17163817, 17163818, 17163819, 17163820, 17163821, 17163822,\n",
       "       17163823, 17163824, 17163825, 17163826, 17163827, 17163828])"
      ]
     },
     "execution_count": 99,
     "metadata": {},
     "output_type": "execute_result"
    }
   ],
   "source": [
    "tree1.futurebranch.__getattribute__('DescendantID')"
   ]
  },
  {
   "cell_type": "code",
   "execution_count": null,
   "id": "f4492d9d",
   "metadata": {},
   "outputs": [],
   "source": [
    "# past and future\n",
    "fig = plt.figure()\n",
    "plt.plot(tree1.snaphist,np.concatenate([tree1.futurebranch.SubhaloMass[:-1],tree1.pastbranch.SubhaloMass]),'k',label='halo1')\n",
    "plt.plot(tree2.snaphist,np.concatenate([tree2.futurebranch.SubhaloMass[:-1],tree2.pastbranch.SubhaloMass]),'r',label='halo2')\n",
    "plt.legend()\n",
    "plt.show()"
   ]
  }
 ],
 "metadata": {
  "kernelspec": {
   "display_name": "tart",
   "language": "python",
   "name": "tart"
  },
  "language_info": {
   "codemirror_mode": {
    "name": "ipython",
    "version": 3
   },
   "file_extension": ".py",
   "mimetype": "text/x-python",
   "name": "python",
   "nbconvert_exporter": "python",
   "pygments_lexer": "ipython3",
   "version": "3.8.13"
  },
  "toc": {
   "base_numbering": 1,
   "nav_menu": {},
   "number_sections": true,
   "sideBar": true,
   "skip_h1_title": false,
   "title_cell": "Table of Contents",
   "title_sidebar": "Contents",
   "toc_cell": false,
   "toc_position": {},
   "toc_section_display": true,
   "toc_window_display": false
  }
 },
 "nbformat": 4,
 "nbformat_minor": 5
}
