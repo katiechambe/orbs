{
 "cells": [
  {
   "cell_type": "code",
   "execution_count": 2,
   "id": "607b9ef0",
   "metadata": {},
   "outputs": [
    {
     "name": "stdout",
     "output_type": "stream",
     "text": [
      "imported h5py...\n",
      "modules seem to have loaded?\n"
     ]
    }
   ],
   "source": [
    "import h5py\n",
    "import numpy as np\n",
    "import matplotlib.pyplot as plt\n",
    "import sys\n",
    "import importlib\n",
    "import pandas as pd\n",
    "\n",
    "from utils_orbs.orb_paths import SetupPaths\n",
    "import utils_orbs.readsubfHDF5Py3 as readSub\n",
    "# from utils.read_group_cats import ReadCats\n",
    "from utils_orbs.merger_trees import TraceMergerTree\n",
    "from utils_orbs.readMergerHistoryFiles import FindHistory\n",
    "from utils_orbs.vectorCorrection import vectorCorrection as vector\n",
    "\n",
    "paths = SetupPaths()"
   ]
  },
  {
   "cell_type": "code",
   "execution_count": 3,
   "id": "56219265",
   "metadata": {},
   "outputs": [],
   "source": [
    "plt.show();\n",
    "plt.rcParams.update({'font.size':20,\"xtick.direction\":\"in\",\"ytick.direction\":\"in\", \n",
    "                     \"xtick.top\":True, \"ytick.right\":True,\"text.usetex\":False,\n",
    "                     \"xtick.labelsize\":18,\"ytick.labelsize\":18,\n",
    "                     \"xtick.minor.top\":True, \"ytick.minor.right\":True,\n",
    "                     \"xtick.minor.visible\": True,\n",
    "                     \"ytick.minor.visible\": True})"
   ]
  },
  {
   "cell_type": "code",
   "execution_count": 4,
   "id": "c9b5a125",
   "metadata": {},
   "outputs": [],
   "source": [
    "# defining color palette for plotting\n",
    "palette = {\"low\":\"olive\", \"high\":\"salmon\", \n",
    "           \"difference\":\"#2C1D11\", \"difference2\":\"#464646\"\n",
    "          }    \n",
    "        "
   ]
  },
  {
   "cell_type": "markdown",
   "id": "50059fce",
   "metadata": {},
   "source": [
    "# Import data"
   ]
  },
  {
   "cell_type": "code",
   "execution_count": 9,
   "id": "2349856b",
   "metadata": {},
   "outputs": [],
   "source": [
    "# to import data via individual snapshots\n",
    "# low = {}\n",
    "# high = {}\n",
    "\n",
    "# for snap in range(100):\n",
    "#     if snap == 48:\n",
    "#         continue\n",
    "    \n",
    "#     low[str(snap)] = {} \n",
    "#     high[str(snap)] = {}\n",
    "    \n",
    "#     # low-mass pairs\n",
    "#     f = h5py.File(f\"{paths.path_data}hail-mary/orbitdata_{snap}.hdf5\",'r')\n",
    "#     for key, val in f.items():\n",
    "#         low[str(snap)][key] = np.array(val)\n",
    "#     f.close()\n",
    "    \n",
    "#     # high-mass pairs\n",
    "#     g = h5py.File(f\"{paths.path_data}big-bad/massive_orbitdata_{snap}.hdf5\",'r')\n",
    "#     for key, val in g.items():\n",
    "#         high[str(snap)][key] = np.array(val)\n",
    "#     g.close()\n",
    "\n",
    "# h = h5py.File(f\"{paths.path_data}snapshot_data.hdf5\",'r')\n",
    "# convert = {}\n",
    "# for key, val in h.items():\n",
    "#     convert[key] = np.array(val)\n",
    "# h.close()"
   ]
  },
  {
   "cell_type": "code",
   "execution_count": 140,
   "id": "288d4ed7",
   "metadata": {},
   "outputs": [],
   "source": [
    "# to import all pair and unique pair catalogs\n",
    "\n",
    "low = {}\n",
    "high = {}\n",
    "\n",
    "    \n",
    "# low-mass pairs\n",
    "f = h5py.File(f\"{paths.path_data}hail-mary/all_orbits.hdf5\",'r')\n",
    "for key, val in f.items():\n",
    "    low[key] = np.array(val)\n",
    "f.close()\n",
    "    \n",
    "# high-mass pairs\n",
    "g = h5py.File(f\"{paths.path_data}big-bad/all_orbits_massive.hdf5\",'r')\n",
    "for key, val in g.items():\n",
    "    high[key] = np.array(val)\n",
    "g.close()\n",
    "\n",
    "# conversion between snapshot-redshift-time\n",
    "h = h5py.File(f\"{paths.path_data}snapshot_data.hdf5\",'r')\n",
    "convert = {}\n",
    "for key, val in h.items():\n",
    "    convert[key] = np.array(val)\n",
    "h.close()\n"
   ]
  },
  {
   "cell_type": "markdown",
   "id": "54e07513",
   "metadata": {},
   "source": [
    "# Count unique pairs\n"
   ]
  },
  {
   "cell_type": "markdown",
   "id": "5ebb8b0d",
   "metadata": {},
   "source": [
    "## load data"
   ]
  },
  {
   "cell_type": "code",
   "execution_count": 23,
   "id": "113c2447",
   "metadata": {},
   "outputs": [],
   "source": []
  },
  {
   "cell_type": "code",
   "execution_count": 15,
   "id": "2d4d72fa",
   "metadata": {},
   "outputs": [],
   "source": [
    "low_keys = low['PairKey']\n",
    "high_keys = high['PairKey']\n",
    "\n",
    "low_unique = np.unique(low_keys)\n",
    "high_unique = np.unique(high_keys)"
   ]
  },
  {
   "cell_type": "code",
   "execution_count": 18,
   "id": "fcc3b367",
   "metadata": {},
   "outputs": [
    {
     "name": "stdout",
     "output_type": "stream",
     "text": [
      "Number of total low mass pairs: 71429\n",
      "Number of unique low mass pairs: 22213\n"
     ]
    }
   ],
   "source": [
    "print(f\"Number of total low mass pairs: {len(low_keys)}\")\n",
    "print(f\"Number of unique low mass pairs: {len(low_unique)}\")\n",
    "\n"
   ]
  },
  {
   "cell_type": "code",
   "execution_count": 19,
   "id": "66cd990e",
   "metadata": {},
   "outputs": [
    {
     "name": "stdout",
     "output_type": "stream",
     "text": [
      "Number of total high mass pairs: 20824\n",
      "Number of unique high mass pairs: 3039\n"
     ]
    }
   ],
   "source": [
    "print(f\"Number of total high mass pairs: {len(high_keys)}\")\n",
    "print(f\"Number of unique high mass pairs: {len(high_unique)}\")\n"
   ]
  },
  {
   "cell_type": "markdown",
   "id": "8f46c67d",
   "metadata": {},
   "source": [
    "# Plot: Number of unique pairs vs. z"
   ]
  },
  {
   "cell_type": "markdown",
   "id": "50c2655b",
   "metadata": {},
   "source": [
    "### Load data"
   ]
  },
  {
   "cell_type": "code",
   "execution_count": 24,
   "id": "6807203f",
   "metadata": {},
   "outputs": [],
   "source": [
    "# import unique pair catalogs\n",
    "\n",
    "low = {}\n",
    "high = {}\n",
    "\n",
    "    \n",
    "# low-mass pairs\n",
    "f = h5py.File(f\"{paths.path_data}hail-mary/unique_orbits.hdf5\",'r')\n",
    "for key, val in f.items():\n",
    "    low[key] = np.array(val)\n",
    "f.close()\n",
    "    \n",
    "# high-mass pairs\n",
    "g = h5py.File(f\"{paths.path_data}big-bad/unique_orbits_massive.hdf5\",'r')\n",
    "for key, val in g.items():\n",
    "    high[key] = np.array(val)\n",
    "g.close()\n",
    "\n",
    "# conversion between snapshot-redshift-time\n",
    "h = h5py.File(f\"{paths.path_data}snapshot_data.hdf5\",'r')\n",
    "convert = {}\n",
    "for key, val in h.items():\n",
    "    convert[key] = np.array(val)\n",
    "h.close()\n"
   ]
  },
  {
   "cell_type": "markdown",
   "id": "bc242fac",
   "metadata": {},
   "source": [
    "## test at one snapshot"
   ]
  },
  {
   "cell_type": "code",
   "execution_count": 77,
   "id": "8a9564ac",
   "metadata": {},
   "outputs": [],
   "source": [
    "# goal: to find the number of pairs at snapshot 40 that HAVE YET TO MERGE and are POST INFALL\n",
    "\n",
    "# post infall means that the infall snapshot must be = or prior to 40\n",
    "postinfall_at_40 = low['InfallSnapshot'] <= 40\n",
    "\n",
    "# pre-merger means the merger snapshot must be after 40 OR be a non-merger\n",
    "merge_later = low['MergeSnapshot'] > 40\n",
    "non_mergers = low['MergeSnapshot'] == -1\n",
    "\n",
    "unmerged_at_40 = merge_later|non_mergers"
   ]
  },
  {
   "cell_type": "code",
   "execution_count": 78,
   "id": "1ec7cfe4",
   "metadata": {},
   "outputs": [
    {
     "data": {
      "text/plain": [
       "6574"
      ]
     },
     "execution_count": 78,
     "metadata": {},
     "output_type": "execute_result"
    }
   ],
   "source": [
    "np.count_nonzero(postinfall_at_40&unmerged_at_40)"
   ]
  },
  {
   "cell_type": "markdown",
   "id": "d55c0eb5",
   "metadata": {},
   "source": [
    "## all snapshots"
   ]
  },
  {
   "cell_type": "code",
   "execution_count": 127,
   "id": "58502d25",
   "metadata": {},
   "outputs": [],
   "source": [
    "# calculate above for all snapshots\n",
    "\n",
    "low_counts = []\n",
    "\n",
    "for snap in convert['Snapshot']:\n",
    "    # post infall means that the infall snapshot must be = or prior to 40\n",
    "    postinfall_at_snap = low['InfallSnapshot'] <= snap\n",
    "\n",
    "    # pre-merger means the merger snapshot must be after 40 OR be a non-merger\n",
    "    merge_later = low['MergeSnapshot'] > snap\n",
    "    non_mergers = low['MergeSnapshot'] == -1\n",
    "\n",
    "    unmerged_at_snap = merge_later|non_mergers\n",
    "\n",
    "    postinfall_unmerged = postinfall_at_snap&unmerged_at_snap # includes will merge & won't merge\n",
    "    count = np.count_nonzero(postinfall_unmerged)\n",
    "    \n",
    "    postinfall_willmerge = postinfall_at_snap&merge_later # only will merge\n",
    "    count_merge = np.count_nonzero(postinfall_willmerge)\n",
    "\n",
    "    low_counts.append([count,count_merge])\n",
    "    \n",
    "low_counts = np.array(low_counts)"
   ]
  },
  {
   "cell_type": "code",
   "execution_count": 129,
   "id": "42c15484",
   "metadata": {},
   "outputs": [
    {
     "data": {
      "text/plain": [
       "array([6574, 5787])"
      ]
     },
     "execution_count": 129,
     "metadata": {},
     "output_type": "execute_result"
    }
   ],
   "source": [
    "low_counts[40]"
   ]
  },
  {
   "cell_type": "code",
   "execution_count": 126,
   "id": "24e13926",
   "metadata": {},
   "outputs": [],
   "source": [
    "# calculate above for all snapshots\n",
    "\n",
    "high_counts = []\n",
    "\n",
    "for snap in convert['Snapshot']:\n",
    "    # post infall means that the infall snapshot must be = or prior to 40\n",
    "    postinfall_at_snap = high['InfallSnapshot'] <= snap\n",
    "\n",
    "    # pre-merger means the merger snapshot must be after 40 OR be a non-merger\n",
    "    merge_later = high['MergeSnapshot'] > snap\n",
    "    non_mergers = high['MergeSnapshot'] == -1\n",
    "\n",
    "    unmerged_at_snap = merge_later|non_mergers\n",
    "\n",
    "    postinfall_unmerged = postinfall_at_snap&unmerged_at_snap # includes will merge & won't merge\n",
    "    count = np.count_nonzero(postinfall_unmerged)\n",
    "    \n",
    "    postinfall_willmerge = postinfall_at_snap&merge_later # only will merge\n",
    "    count_merge = np.count_nonzero(postinfall_willmerge)\n",
    "\n",
    "    high_counts.append([count,count_merge])\n",
    "    \n",
    "high_counts = np.array(high_counts)\n"
   ]
  },
  {
   "cell_type": "markdown",
   "id": "9a128735",
   "metadata": {},
   "source": [
    "## pair count data from pears"
   ]
  },
  {
   "cell_type": "code",
   "execution_count": 180,
   "id": "ef2e2ae6",
   "metadata": {},
   "outputs": [],
   "source": [
    "f = h5py.File(f\"{paths.path_home}pears/plots/paper1/plotdata/counts.hdf5\",'r')\n",
    "counts = f[f\"10 Realizations\"]\n",
    "\n",
    "pears_low = {}\n",
    "for key,val in counts['dwarf'].items():\n",
    "    pears_low[key] = np.array(val)\n",
    "\n",
    "pears_high = {}\n",
    "for key,val in counts['massive'].items():\n",
    "    pears_high[key] = np.array(val)\n",
    "\n",
    "f.close()"
   ]
  },
  {
   "cell_type": "code",
   "execution_count": null,
   "id": "62fe92f5",
   "metadata": {},
   "outputs": [],
   "source": []
  },
  {
   "cell_type": "markdown",
   "id": "d3cf2a85",
   "metadata": {},
   "source": [
    "## make pears equiv data from orbs"
   ]
  },
  {
   "cell_type": "code",
   "execution_count": 139,
   "id": "ced58133",
   "metadata": {},
   "outputs": [],
   "source": [
    "# to import data via individual snapshots\n",
    "low_snap = {}\n",
    "\n",
    "for snap in range(100):\n",
    "    if snap == 48:\n",
    "        continue\n",
    "    \n",
    "    low_snap[str(snap)] = {} \n",
    "    \n",
    "    # low-mass pairs\n",
    "    f = h5py.File(f\"{paths.path_data}hail-mary/orbitdata_{snap}.hdf5\",'r')\n",
    "    for key, val in f.items():\n",
    "        low_snap[str(snap)][key] = np.array(val)\n",
    "    f.close()"
   ]
  },
  {
   "cell_type": "code",
   "execution_count": 150,
   "id": "96919e16",
   "metadata": {},
   "outputs": [],
   "source": [
    "l40 = low_snap['40']"
   ]
  },
  {
   "cell_type": "code",
   "execution_count": 152,
   "id": "57e048bc",
   "metadata": {},
   "outputs": [
    {
     "name": "stdout",
     "output_type": "stream",
     "text": [
      "1330 1198\n"
     ]
    }
   ],
   "source": [
    "post = l40['InfallSnapshot'] <= 40\n",
    "later = l40['MergeSnapshot'] > 40\n",
    "non = l40['MergeSnapshot'] == -1\n",
    "\n",
    "un = later|non\n",
    "\n",
    "p_un = post & un # includes will merge & won't merge\n",
    "p_later = post & later # includes will merge & won't merge\n",
    "\n",
    "\n",
    "print(np.count_nonzero(p_un),np.count_nonzero(p_later))"
   ]
  },
  {
   "cell_type": "code",
   "execution_count": 164,
   "id": "e73171f9",
   "metadata": {},
   "outputs": [
    {
     "data": {
      "text/plain": [
       "array([38, 37, 39, ..., 40, 40, 34], dtype=int32)"
      ]
     },
     "execution_count": 164,
     "metadata": {},
     "output_type": "execute_result"
    }
   ],
   "source": [
    "np.array(infallsnap)"
   ]
  },
  {
   "cell_type": "code",
   "execution_count": 162,
   "id": "43002e9f",
   "metadata": {},
   "outputs": [
    {
     "ename": "TypeError",
     "evalue": "'<=' not supported between instances of 'Dataset' and 'int'",
     "output_type": "error",
     "traceback": [
      "\u001b[0;31m---------------------------------------------------------------------------\u001b[0m",
      "\u001b[0;31mTypeError\u001b[0m                                 Traceback (most recent call last)",
      "Cell \u001b[0;32mIn[162], line 7\u001b[0m\n\u001b[1;32m      3\u001b[0m mergesnap \u001b[38;5;241m=\u001b[39m f[\u001b[38;5;124m'\u001b[39m\u001b[38;5;124mMergeSnapshot\u001b[39m\u001b[38;5;124m'\u001b[39m]\n\u001b[1;32m      6\u001b[0m \u001b[38;5;66;03m# post infall means that the infall snapshot must be = or prior to 40\u001b[39;00m\n\u001b[0;32m----> 7\u001b[0m postinfall_at_snap \u001b[38;5;241m=\u001b[39m \u001b[43minfallsnap\u001b[49m\u001b[43m \u001b[49m\u001b[38;5;241;43m<\u001b[39;49m\u001b[38;5;241;43m=\u001b[39;49m\u001b[43m \u001b[49m\u001b[38;5;241;43m40\u001b[39;49m\n\u001b[1;32m      9\u001b[0m \u001b[38;5;66;03m# pre-merger means the merger snapshot must be after 40 OR be a non-merger\u001b[39;00m\n\u001b[1;32m     10\u001b[0m merge_later \u001b[38;5;241m=\u001b[39m f[\u001b[38;5;124m'\u001b[39m\u001b[38;5;124mMergeSnapshot\u001b[39m\u001b[38;5;124m'\u001b[39m] \u001b[38;5;241m>\u001b[39m \u001b[38;5;241m40\u001b[39m\n",
      "\u001b[0;31mTypeError\u001b[0m: '<=' not supported between instances of 'Dataset' and 'int'"
     ]
    }
   ],
   "source": [
    "f = h5py.File(f\"{paths.path_data}hail-mary/orbitdata_40.hdf5\",'r')\n",
    "infallsnap = f['InfallSnapshot']\n",
    "mergesnap = f['MergeSnapshot']\n",
    "\n",
    "\n",
    "# post infall means that the infall snapshot must be = or prior to 40\n",
    "postinfall_at_snap = infallsnap <= 40\n",
    "\n",
    "# pre-merger means the merger snapshot must be after 40 OR be a non-merger\n",
    "merge_later = f['MergeSnapshot'] > 40\n",
    "non_mergers = f['MergeSnapshot'] == -1\n",
    "\n",
    "f.close()\n",
    "\n",
    "unmerged_at_snap = merge_later|non_mergers\n",
    "\n",
    "\n",
    "postinfall_unmerged = postinfall_at_snap&unmerged_at_snap # includes will merge & won't merge\n",
    "count = np.count_nonzero(postinfall_unmerged)\n",
    "\n",
    "postinfall_willmerge = postinfall_at_snap&merge_later # only will merge\n",
    "count_merge = np.count_nonzero(postinfall_willmerge)\n",
    "\n"
   ]
  },
  {
   "cell_type": "code",
   "execution_count": 165,
   "id": "f44ab070",
   "metadata": {},
   "outputs": [],
   "source": [
    "f.close()"
   ]
  },
  {
   "cell_type": "code",
   "execution_count": 172,
   "id": "7c41e778",
   "metadata": {},
   "outputs": [],
   "source": [
    "# calculate above for all snapshots\n",
    "\n",
    "low_counts_snap = []\n",
    "\n",
    "for snap in convert['Snapshot']:\n",
    "    if snap == 48:\n",
    "        low_counts_snap.append([np.nan,np.nan])\n",
    "        continue\n",
    "\n",
    "    f = h5py.File(f\"{paths.path_data}hail-mary/orbitdata_{snap}.hdf5\",'r')\n",
    "    \n",
    "    infallsnap = np.array(f['InfallSnapshot'])\n",
    "    mergesnap = np.array(f['MergeSnapshot'])\n",
    "    \n",
    "    # post infall means that the infall snapshot must be = or prior to 40\n",
    "    postinfall_at_snap = infallsnap <= snap\n",
    "\n",
    "    # pre-merger means the merger snapshot must be after 40 OR be a non-merger\n",
    "    merge_later = mergesnap > snap\n",
    "    non_mergers = mergesnap == -1\n",
    "    \n",
    "    f.close()\n",
    "\n",
    "    unmerged_at_snap = merge_later|non_mergers\n",
    "\n",
    "    postinfall_unmerged = postinfall_at_snap&unmerged_at_snap # includes will merge & won't merge\n",
    "    count = np.count_nonzero(postinfall_unmerged)\n",
    "    \n",
    "    postinfall_willmerge = postinfall_at_snap&merge_later # only will merge\n",
    "    count_merge = np.count_nonzero(postinfall_willmerge)\n",
    "\n",
    "    low_counts_snap.append([count,count_merge])\n",
    "        \n",
    "    \n",
    "low_counts_snap = np.array(low_counts_snap)"
   ]
  },
  {
   "cell_type": "code",
   "execution_count": 176,
   "id": "55148eb9",
   "metadata": {},
   "outputs": [],
   "source": [
    "# calculate above for all snapshots\n",
    "\n",
    "high_counts_snap = []\n",
    "\n",
    "for snap in convert['Snapshot']:\n",
    "    if snap == 48:\n",
    "        high_counts_snap.append([np.nan,np.nan])\n",
    "        continue\n",
    "\n",
    "    f = h5py.File(f\"{paths.path_data}big-bad/massive_orbitdata_{snap}.hdf5\",'r')\n",
    "    \n",
    "    infallsnap = np.array(f['InfallSnapshot'])\n",
    "    mergesnap = np.array(f['MergeSnapshot'])\n",
    "    \n",
    "    # post infall means that the infall snapshot must be = or prior to 40\n",
    "    postinfall_at_snap = infallsnap <= snap\n",
    "\n",
    "    # pre-merger means the merger snapshot must be after 40 OR be a non-merger\n",
    "    merge_later = mergesnap > snap\n",
    "    non_mergers = mergesnap == -1\n",
    "    \n",
    "    f.close()\n",
    "\n",
    "    unmerged_at_snap = merge_later|non_mergers\n",
    "\n",
    "    postinfall_unmerged = postinfall_at_snap&unmerged_at_snap # includes will merge & won't merge\n",
    "    count = np.count_nonzero(postinfall_unmerged)\n",
    "    \n",
    "    postinfall_willmerge = postinfall_at_snap&merge_later # only will merge\n",
    "    count_merge = np.count_nonzero(postinfall_willmerge)\n",
    "\n",
    "    high_counts_snap.append([count,count_merge])\n",
    "        \n",
    "    \n",
    "high_counts_snap = np.array(high_counts_snap)"
   ]
  },
  {
   "cell_type": "code",
   "execution_count": 167,
   "id": "7f7d52ce",
   "metadata": {},
   "outputs": [
    {
     "data": {
      "text/plain": [
       "array([1330, 1198])"
      ]
     },
     "execution_count": 167,
     "metadata": {},
     "output_type": "execute_result"
    }
   ],
   "source": [
    "low_counts_snap[40]"
   ]
  },
  {
   "cell_type": "code",
   "execution_count": 173,
   "id": "754ba8d7",
   "metadata": {},
   "outputs": [
    {
     "data": {
      "text/plain": [
       "(100, 2)"
      ]
     },
     "execution_count": 173,
     "metadata": {},
     "output_type": "execute_result"
    }
   ],
   "source": [
    "np.shape(low_counts_snap)"
   ]
  },
  {
   "cell_type": "code",
   "execution_count": 177,
   "id": "bbcbbeab",
   "metadata": {},
   "outputs": [
    {
     "data": {
      "text/plain": [
       "dict_keys(['Median All Pairs', 'Median Isolated Primaries', 'Median Major Fraction', 'Median Major Pairs', 'Median Minor Fraction', 'Median Minor Pairs', 'Median Noniso Primaries', 'Median Total Fraction', 'Median Total Primaries', 'Quarts All Pairs', 'Quarts Isolated Primaries', 'Quarts Major Fraction', 'Quarts Major Pairs', 'Quarts Minor Fraction', 'Quarts Minor Pairs', 'Quarts Noniso Primaries', 'Quarts Total Fraction', 'Quarts Total Primaries', 'z'])"
      ]
     },
     "execution_count": 177,
     "metadata": {},
     "output_type": "execute_result"
    }
   ],
   "source": [
    "pears_low.keys()"
   ]
  },
  {
   "cell_type": "markdown",
   "id": "cc9b0d46",
   "metadata": {},
   "source": [
    "## Make plot"
   ]
  },
  {
   "cell_type": "code",
   "execution_count": 188,
   "id": "84a0b63c",
   "metadata": {},
   "outputs": [
    {
     "data": {
      "image/png": "[encoded data removed]",
      "text/plain": [
       "<Figure size 800x600 with 1 Axes>"
      ]
     },
     "metadata": {},
     "output_type": "display_data"
    }
   ],
   "source": [
    "fig,ax = plt.subplots(figsize=(8,6))\n",
    "\n",
    "ls_all = \"solid\"\n",
    "ls_merge = \"dashed\"\n",
    "ls_snap = \"dotted\"\n",
    "\n",
    "lw_all = 3\n",
    "lw_merge = 2\n",
    "lw_snap = 1\n",
    "\n",
    "# - plot labels - # \n",
    "plt.plot(0,0,label='Unique',color=\"tab:grey\",lw=lw_all)\n",
    "plt.plot(0,0,label='Unique Mergers',linestyle=ls_merge,color=\"tab:grey\",lw=lw_merge)\n",
    "plt.plot(0,0,label='Snapshot-selected',linestyle=ls_snap,color=\"tab:grey\",lw=lw_snap)\n",
    "\n",
    "# - unique pairs - # \n",
    "redshifts = convert[\"Redshift\"]\n",
    "redshift_mask = redshifts < 6.2\n",
    "\n",
    "low_all = low_counts[:,0]\n",
    "low_merge = low_counts[:,1]\n",
    "\n",
    "high_all = high_counts[:,0]\n",
    "high_merge = high_counts[:,1]\n",
    "\n",
    "plot_red = redshifts[redshift_mask]\n",
    "\n",
    "plot_low_all = low_all[redshift_mask]\n",
    "plot_low_merge = low_merge[redshift_mask]\n",
    "\n",
    "plot_high_all = high_all[redshift_mask]\n",
    "plot_high_merge = high_merge[redshift_mask]\n",
    "\n",
    "plt.plot(plot_red, plot_low_all, label='Low mass', color=palette['low'], lw=orbs_lw)\n",
    "plt.plot(plot_red, plot_high_all, label='High-mass', color=palette['high'], lw=orbs_lw)\n",
    "\n",
    "plt.plot(plot_red, plot_low_merge, color=palette['low'], lw=lw_merge, linestyle=ls_merge)\n",
    "plt.plot(plot_red, plot_high_merge, color=palette['high'], lw=lw_merge, linestyle=ls_merge)\n",
    "\n",
    "# - number selected at snapshot - #\n",
    "redshift_mask[48] = False\n",
    "\n",
    "plot_red = redshifts[redshift_mask]\n",
    "\n",
    "plot_low_snap = low_counts_snap[:,0][redshift_mask]\n",
    "pot_high_snap = high_counts_snap[:,0][redshift_mask]\n",
    "\n",
    "plt.plot(plot_red, plot_low_snap, color=palette['low'],linestyle=ls_snap,lw=lw_snap)\n",
    "plt.plot(plot_red, pot_high_snap, color=palette['high'],linestyle=ls_snap,lw=lw_snap)\n",
    "\n",
    "\n",
    "plt.legend(fontsize=14)\n",
    "# plt.title(\"Number of unique pairs\")\n",
    "plt.xlabel(\"Redshift\")\n",
    "plt.ylabel(\"Number of pairs\")\n",
    "plt.savefig(\"../../plots/bet-on-it/6_paircount.png\")\n",
    "plt.show()\n"
   ]
  },
  {
   "cell_type": "code",
   "execution_count": null,
   "id": "61dda789",
   "metadata": {},
   "outputs": [],
   "source": []
  },
  {
   "cell_type": "code",
   "execution_count": null,
   "id": "81aab84a",
   "metadata": {},
   "outputs": [],
   "source": []
  }
 ],
 "metadata": {
  "kernelspec": {
   "display_name": "Python 3 (ipykernel)",
   "language": "python",
   "name": "python3"
  },
  "language_info": {
   "codemirror_mode": {
    "name": "ipython",
    "version": 3
   },
   "file_extension": ".py",
   "mimetype": "text/x-python",
   "name": "python",
   "nbconvert_exporter": "python",
   "pygments_lexer": "ipython3",
   "version": "3.8.18"
  },
  "toc": {
   "base_numbering": 1,
   "nav_menu": {},
   "number_sections": true,
   "sideBar": true,
   "skip_h1_title": false,
   "title_cell": "Table of Contents",
   "title_sidebar": "Contents",
   "toc_cell": false,
   "toc_position": {
    "height": "calc(100% - 180px)",
    "left": "10px",
    "top": "150px",
    "width": "182.6px"
   },
   "toc_section_display": true,
   "toc_window_display": true
  }
 },
 "nbformat": 4,
 "nbformat_minor": 5
}
