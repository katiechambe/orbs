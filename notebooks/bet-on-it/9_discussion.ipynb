{
 "cells": [
  {
   "cell_type": "code",
   "execution_count": 1,
   "id": "26eca0b0",
   "metadata": {},
   "outputs": [
    {
     "name": "stdout",
     "output_type": "stream",
     "text": [
      "imported h5py...\n",
      "modules seem to have loaded?\n"
     ]
    }
   ],
   "source": [
    "import h5py\n",
    "import numpy as np\n",
    "import matplotlib.pyplot as plt\n",
    "import sys\n",
    "import importlib\n",
    "import pandas as pd\n",
    "from matplotlib.colors import ListedColormap\n",
    "import matplotlib.gridspec as gridspec\n",
    "\n",
    "# personal imports\n",
    "from utils_orbs.orb_paths import SetupPaths\n",
    "import utils_orbs.readsubfHDF5Py3 as readSub\n",
    "# from utils.read_group_cats import ReadCats\n",
    "from utils_orbs.merger_trees import TraceMergerTree\n",
    "from utils_orbs.readMergerHistoryFiles import FindHistory\n",
    "from utils_orbs.vectorCorrection import vectorCorrection as vector\n",
    "\n",
    "paths = SetupPaths()"
   ]
  },
  {
   "cell_type": "code",
   "execution_count": 2,
   "id": "196ca6fd",
   "metadata": {},
   "outputs": [],
   "source": [
    "plt.show();\n",
    "plt.rcParams.update({'font.size':20,\"xtick.direction\":\"in\",\"ytick.direction\":\"in\", \n",
    "                     \"xtick.top\":True, \"ytick.right\":True,\"text.usetex\":False,\n",
    "                     \"xtick.labelsize\":18,\"ytick.labelsize\":18,\n",
    "                     \"xtick.minor.top\":True, \"ytick.minor.right\":True,\n",
    "                     \"xtick.minor.visible\": True,\n",
    "                     \"ytick.minor.visible\": True})"
   ]
  },
  {
   "cell_type": "code",
   "execution_count": 3,
   "id": "c25dbe33",
   "metadata": {},
   "outputs": [],
   "source": [
    "def make_colorarray(color_val, f):\n",
    "    \"\"\"\n",
    "    creates the correctly scaled array of values from 0,1 for one rgb val\n",
    "    ---\n",
    "    inputs: \n",
    "    - color_val: float\n",
    "        float representing one of the r, g, or b values of desired custom colormap\n",
    "    - f: float\n",
    "        the location of custom color in colorbar (from 0-1)  \n",
    "        f = 1, color scale will be from white to rgb\n",
    "        f = 0, color scale will be from rgb to black\n",
    "        f = 0.5 - 1, color scale slowly transitions from white to color, then quickly from color to black\n",
    "        f = 0 - 0.5, color scale quickly transition from white to color, then slowly from color to black\n",
    "        recommend 0.25 for sparse data with low vals, or 0.75 for sparse at higher vals\n",
    "    --- \n",
    "    returns: \n",
    "    - array of length 256, containing linearly spaced values from 0-f and f-1\n",
    "    ---\n",
    "    Note: if f*N is not an integer, it will be rounded down to the nearest int\n",
    "    \"\"\"\n",
    "    \n",
    "    N = 256\n",
    "    f_val = int(N * f)\n",
    "    \n",
    "    white_to_color = np.linspace(1, color_val, f_val)\n",
    "    color_to_black = np.linspace(color_val, 0, N-f_val)\n",
    "    \n",
    "    combined = np.concatenate((white_to_color, color_to_black))\n",
    "    return combined\n",
    "\n",
    "def make_colormap(rgb_list, where_color):\n",
    "    \"\"\" \n",
    "    creates colormap with alpha = 0\n",
    "    ---\n",
    "    inputs: \n",
    "    - rgb_list: list or array\n",
    "                contains 3 elements for the r, g, and b color vals respectively\n",
    "    - where_color: float in [0,1]\n",
    "                the location of the colorbar where the color is placed\n",
    "                if where_color = 1, color scale will be from white to rgb\n",
    "                if where_color = 0, color scale will be from rgb to black\n",
    "                if where_color = f, color scale will go from white to rgb at \n",
    "                the fraction f of the total colorbar size, then rgb to black\n",
    "    --- \n",
    "    returns:\n",
    "    - ListedColormap \n",
    "    \"\"\"\n",
    "        # add below later when you have time\n",
    "        #     if where_color\n",
    "    \n",
    "        #     else: \n",
    "        #         raise TypeError(\"arg 'where_color' should be a float from 0-1\")\n",
    "    \n",
    "    N = 256 # rgb \n",
    "    vals = np.ones((N, 4))\n",
    "    \n",
    "    # replace the r, b, and g columns with rgb-specific arrays\n",
    "    for i in range(3):\n",
    "        vals[:, i] = make_colorarray(rgb_list[i], where_color)\n",
    "        \n",
    "    try: \n",
    "        map_object = ListedColormap(vals)\n",
    "    except NameError:\n",
    "        err_string = \"You have not imported the required matplotlib module.\\n\\\n",
    "                      Please add 'from matplotlib.colors import ListedColormap'\"\n",
    "        print(err_string)\n",
    "    \n",
    "    return map_object\n"
   ]
  },
  {
   "cell_type": "markdown",
   "id": "5248c89e",
   "metadata": {},
   "source": [
    "# Import data"
   ]
  },
  {
   "cell_type": "code",
   "execution_count": 4,
   "id": "2d7bc616",
   "metadata": {},
   "outputs": [],
   "source": [
    "low = {}\n",
    "f = h5py.File(f\"{paths.path_data}hail-mary/unique_orbits.hdf5\",'r')\n",
    "for key, val in f.items():\n",
    "    low[key] = np.array(val)\n",
    "f.close()\n",
    "\n",
    "high = {}\n",
    "f = h5py.File(f\"{paths.path_data}big-bad/unique_orbits_massive.hdf5\",'r')\n",
    "for key, val in f.items():\n",
    "    high[key] = np.array(val)\n",
    "f.close()\n",
    "\n",
    "f = h5py.File(f\"{paths.path_data}snapshot_data.hdf5\",'r')\n",
    "convert = {}\n",
    "for key, val in f.items():\n",
    "    convert[key] = np.array(val)\n",
    "f.close()"
   ]
  },
  {
   "cell_type": "code",
   "execution_count": 5,
   "id": "318dec33",
   "metadata": {},
   "outputs": [
    {
     "name": "stdout",
     "output_type": "stream",
     "text": [
      "20.046490988807516 13.623404302747057\n",
      "14.989173240042412 13.53193460582793\n",
      "11.980213315300293 13.432545608319812\n",
      "10.975643294137885 13.385023928036233\n",
      "9.996590466186333 13.328047666094987\n",
      "9.388771271940549 13.285813521779149\n",
      "9.00233985416247 13.255592686360727\n",
      "8.449476294368743 13.206921996967393\n",
      "8.012172948865935 13.163077903593194\n",
      "7.5951071498715965 13.116014413400329\n",
      "7.23627606616736 13.07071102807556\n",
      "7.005417045544533 13.038864805705263\n",
      "6.491597745667503 12.959082346042756\n",
      "6.0107573988449 12.870999398213229\n",
      "5.846613747881867 12.837369801676353\n",
      "5.5297658079491026 12.76644380945972\n",
      "5.227580973127337 12.690336551052848\n",
      "4.995933468164624 12.625471426657995\n",
      "4.664517702470927 12.521067326428017\n",
      "4.428033736605549 12.436783615191525\n",
      "4.176834914726472 12.33668348451083\n",
      "4.0079451114652676 12.262327929201929\n",
      "3.7087742646422353 12.11422115559416\n",
      "3.4908613692606485 11.990816433533404\n",
      "3.2830330579565246 11.858548903738102\n",
      "3.008131071630377 11.657335574310283\n",
      "2.8957850057274284 11.5649915522323\n",
      "2.7331426173187188 11.419166585175596\n",
      "2.5772902716018935 11.26411900276635\n",
      "2.4442257045541464 11.11813118519788\n",
      "2.3161107439568918 10.96405812863945\n",
      "2.207925472383703 10.822302871293479\n",
      "2.1032696525957713 10.673786793325291\n",
      "2.0020281392528516 10.518235305371745\n",
      "1.9040895435327672 10.355369717754833\n",
      "1.822689252620354 10.20973569876207\n",
      "1.7435705743308647 10.058342503518256\n",
      "1.6666695561144653 9.90101117844647\n",
      "1.6042345220731056 9.765236775741876\n",
      "1.5312390291576135 9.596555742751333\n",
      "1.4955121664955557 9.509810862541364\n",
      "1.4140982203725216 9.301022369112555\n",
      "1.3575766674029972 9.146297314296365\n",
      "1.3023784599059653 8.986803957007925\n",
      "1.2484726142451428 8.822448391539531\n",
      "1.2062580807810006 8.687401990506336\n",
      "1.1546027123602154 8.514067909337879\n",
      "1.1141505637653806 8.371727305742649\n",
      "1.074457894547674 8.226076954413141\n",
      "1.035510445664141 8.077077841043595\n",
      "0.9972942257819404 7.924693123206707\n",
      "0.9505313515850327 7.729398900332573\n",
      "0.9230008161779089 7.609631395037684\n",
      "0.8868969375752482 7.446893101436243\n",
      "0.8514709006246495 7.280646970935835\n",
      "0.8167099790118506 7.110869562265235\n",
      "0.7910682489463392 6.9812067828536275\n",
      "0.7574413726158526 6.805202828758456\n",
      "0.7326361820223115 6.670851801285069\n",
      "0.7001063537185233 6.488577278731667\n",
      "0.6761104112134777 6.349512077834835\n",
      "0.6446418406845371 6.160942164548506\n",
      "0.6214287452425136 6.017151659798389\n",
      "0.5985432881875667 5.871336427740461\n",
      "0.5759808451078874 5.723498501307372\n",
      "0.5463921831410221 5.523240722306104\n",
      "0.524565820433923 5.370698162551243\n",
      "0.5030475232448832 5.216148812339851\n",
      "0.4818329434209512 5.0596002005879885\n",
      "0.4609177941806475 4.901061128097629\n",
      "0.4402978492477432 4.740541661307438\n",
      "0.41996894199726653 4.578053122369214\n",
      "0.3999269646135635 4.4136080755458025\n",
      "0.38016786726023866 4.247220309950212\n",
      "0.36068765726181673 4.078904818669953\n",
      "0.3478538418581776 3.965631471202146\n",
      "0.32882972420595435 3.7941396129573626\n",
      "0.31007412012783386 3.620765700063279\n",
      "0.2977176845174465 3.5041469295096928\n",
      "0.2733533465784399 3.2684494629903362\n",
      "0.2613432561610123 3.149383264397146\n",
      "0.24354018155467028 2.969280464425191\n",
      "0.22598838626019768 2.7873938556401097\n",
      "0.21442503551449454 2.6651568135019303\n",
      "0.19728418237600986 2.4803504344001723\n",
      "0.1803852617057493 2.2938255071852307\n",
      "0.1692520332436107 2.1685335857588477\n",
      "0.15274876890238098 1.9792024097656853\n",
      "0.14187620396956202 1.8520644765665875\n",
      "0.12575933241126092 1.6600023227093246\n",
      "0.10986994045882548 1.4663389029141154\n",
      "0.09940180263022191 1.3363544947910402\n",
      "0.08388443079747931 1.1400862161597178\n",
      "0.07366138465643868 1.008392300365621\n",
      "0.058507322794512984 0.8096008673467754\n",
      "0.04852362998180593 0.6762525170986766\n",
      "0.0337243718735154 0.47502132989018087\n",
      "0.023974428382762536 0.3400746056616537\n",
      "0.009521666967944764 0.13648833257754944\n",
      "2.220446049250313e-16 1.7763568394002505e-15\n"
     ]
    }
   ],
   "source": [
    "for i in range(100):\n",
    "    print(convert['Redshift'][i],convert['Lookback Time'][i])"
   ]
  },
  {
   "cell_type": "code",
   "execution_count": 13,
   "id": "d1941e9d",
   "metadata": {},
   "outputs": [],
   "source": [
    "non_low = low['MergeSnapshot'] == -1 \n",
    "non_high = high['MergeSnapshot'] == -1 \n",
    "num_low = np.count_nonzero(non_low)\n",
    "num_high = np.count_nonzero(non_high)\n",
    "\n",
    "num_low_tot = len(low['MergeSnapshot'])"
   ]
  },
  {
   "cell_type": "code",
   "execution_count": 12,
   "id": "647120b8",
   "metadata": {},
   "outputs": [
    {
     "name": "stdout",
     "output_type": "stream",
     "text": [
      "The number of low-mass non-mergers is  3700\n",
      "The number of high-mass non-mergers is  903\n"
     ]
    }
   ],
   "source": [
    "print(\"The number of low-mass non-mergers is \",num_low)\n",
    "print(\"The number of high-mass non-mergers is \",num_high)\n"
   ]
  },
  {
   "cell_type": "code",
   "execution_count": 17,
   "id": "fff82367",
   "metadata": {},
   "outputs": [
    {
     "name": "stdout",
     "output_type": "stream",
     "text": [
      "The percentage of low-mass non-mergers is 16.66\n",
      "The percentage of high-mass non-mergers is 29.71\n"
     ]
    }
   ],
   "source": [
    "print(f\"The percentage of low-mass non-mergers is {100*num_low/len(non_low):.2f}\")\n",
    "print(f\"The percentage of high-mass non-mergers is {100*num_high/len(non_high):.2f}\")\n"
   ]
  },
  {
   "cell_type": "code",
   "execution_count": 29,
   "id": "ee2a5cd4",
   "metadata": {},
   "outputs": [
    {
     "name": "stdout",
     "output_type": "stream",
     "text": [
      "The number of low-mass non-mergers is 3700\n",
      "The percentage of low-mass pairs that don't merge 16.66%\n",
      "The number of low pairs that infall after z=1 is: 4271\n",
      "The number of low pairs that don't merge AND infall after z=1 is: 2336\n",
      "The percent of all low pairs that don't merge AND infall after z=1 is: 10.52%\n",
      "The percent of late infall low pairs that don't merge AND infall after z=1 is: 54.69%\n",
      " \n",
      " \n",
      "The number of high-mass non-mergers is 903\n",
      "The percentage of high-mass pairs that don't merge 29.71%\n",
      "The number of high pairs that infall after z=1 is: 1183\n",
      "The number of high pairs that don't merge AND infall after z=1 is: 778\n",
      "The percent of all high pairs that don't merge AND infall after z=1 is: 25.60%\n",
      "The percent of late infall high pairs that don't merge AND infall after z=1 is: 65.77%\n",
      " \n",
      " \n"
     ]
    }
   ],
   "source": [
    "for data, name in [[low,\"low\"],[high,\"high\"]]:\n",
    "    # non-mergers\n",
    "    non_merger_mask = data[\"MergeSnapshot\"] == -1\n",
    "    num_non_merger = np.count_nonzero(non_merger_mask)\n",
    "    num_tot = len(data['MergeSnapshot'])\n",
    "    print(f\"The number of {name}-mass non-mergers is {num_non_merger}\")\n",
    "    print(f\"The percentage of {name}-mass pairs that don't merge {100*num_non_merger/num_tot:.2f}%\")\n",
    "\n",
    "    # late infall\n",
    "    late_infall = data['InfallSnapshot'] > 50\n",
    "    num_late = np.count_nonzero(late_infall)\n",
    "    print(f\"The number of {name} pairs that infall after z=1 is: {num_late}\")\n",
    "    \n",
    "    # both\n",
    "    both_mask = non_merger_mask&late_infall\n",
    "    both_num = np.count_nonzero(both_mask)\n",
    "    print(f\"The number of {name} pairs that don't merge AND infall after z=1 is: {both_num}\")\n",
    "    print(f\"The percent of all {name} pairs that don't merge AND infall after z=1 is: {100*both_num/num_tot:0.2f}%\")\n",
    "    print(f\"The percent of late infall {name} pairs that don't merge AND infall after z=1 is: {100*both_num/num_late:0.2f}%\")\n",
    "    \n",
    "    print(\" \")\n",
    "    print(\" \")\n"
   ]
  },
  {
   "cell_type": "code",
   "execution_count": 43,
   "id": "00991ed1",
   "metadata": {},
   "outputs": [
    {
     "data": {
      "text/plain": [
       "dict_keys(['GroupFlag', 'GroupNum', 'GroupRvir', 'Header', 'InfallRedshift', 'InfallSnapshot', 'MergeFlag', 'MergeRedshift', 'MergeSnapshot', 'PairKey', 'RelativeVelocity', 'Separations', 'SeparationsComoving', 'SeparationsScaled', 'Snapshot', 'StellarMass1', 'StellarMass2', 'StellarMassRatio', 'SubfindID1', 'SubfindID2', 'SubhaloMass1', 'SubhaloMass2', 'SubhaloPos1', 'SubhaloPos2', 'SubhaloVel1', 'SubhaloVel2'])"
      ]
     },
     "execution_count": 43,
     "metadata": {},
     "output_type": "execute_result"
    }
   ],
   "source": [
    "low.keys()"
   ]
  },
  {
   "cell_type": "code",
   "execution_count": 86,
   "id": "dcd29248",
   "metadata": {},
   "outputs": [
    {
     "name": "stderr",
     "output_type": "stream",
     "text": [
      "/home/u13/katiechambe/.conda/envs/tart/lib/python3.8/site-packages/numpy/lib/nanfunctions.py:1215: RuntimeWarning: Mean of empty slice\n",
      "  return np.nanmean(a, axis, out=out, keepdims=keepdims)\n"
     ]
    }
   ],
   "source": [
    "# non mergers at all redshifts\n",
    "mean_dat = {}\n",
    "for data, name in [[low,\"low\"],[high,\"high\"]]:\n",
    "    # non-mergers\n",
    "    non_merger_mask = data[\"MergeSnapshot\"] == -1\n",
    "    \n",
    "    mean_dat[name] = {}\n",
    "    \n",
    "    for datum in ['Separations','SeparationsScaled',\"RelativeVelocity\"]:\n",
    "        save_xx = []\n",
    "        \n",
    "        for i in convert['Snapshot']:\n",
    "            \n",
    "            # late infall\n",
    "            late_infall = data['InfallSnapshot'] <= 33 # after z=2 infall\n",
    "            after_snap_infall = data['InfallSnapshot'] <= i # after z=2 infall\n",
    "    \n",
    "            xx_at_snap = data[datum][:,i]\n",
    "            xx_masked = xx_at_snap[non_merger_mask&late_infall&after_snap_infall]\n",
    "            save_xx.append(np.nanmedian(xx_masked))\n",
    "\n",
    "        mean_dat[name][datum] = save_xx "
   ]
  },
  {
   "cell_type": "code",
   "execution_count": 81,
   "id": "a5cbf8f2",
   "metadata": {},
   "outputs": [
    {
     "data": {
      "text/plain": [
       "2.0020281392528516"
      ]
     },
     "execution_count": 81,
     "metadata": {},
     "output_type": "execute_result"
    }
   ],
   "source": [
    "convert['Redshift'][33]"
   ]
  },
  {
   "cell_type": "code",
   "execution_count": null,
   "id": "aaa7158a",
   "metadata": {},
   "outputs": [],
   "source": []
  },
  {
   "cell_type": "code",
   "execution_count": 72,
   "id": "eecf652d",
   "metadata": {},
   "outputs": [],
   "source": [
    "where = (high['InfallSnapshot'][high[\"MergeSnapshot\"] == -1] < 60)"
   ]
  },
  {
   "cell_type": "markdown",
   "id": "2b8a1e92",
   "metadata": {},
   "source": [
    "note that the earliest infall snap for a high-mass non-merger is 20 i.e. 4.17"
   ]
  },
  {
   "cell_type": "code",
   "execution_count": 88,
   "id": "423a421d",
   "metadata": {},
   "outputs": [
    {
     "data": {
      "text/plain": [
       "(0.0, 5.0)"
      ]
     },
     "execution_count": 88,
     "metadata": {},
     "output_type": "execute_result"
    },
    {
     "data": {
      "image/png": "[encoded data removed]",
      "text/plain": [
       "<Figure size 640x480 with 1 Axes>"
      ]
     },
     "metadata": {},
     "output_type": "display_data"
    }
   ],
   "source": [
    "reds = convert['Redshift']\n",
    "\n",
    "\n",
    "plt.plot(reds, mean_dat['low']['SeparationsScaled'])\n",
    "plt.plot(reds, mean_dat['high']['SeparationsScaled'])\n",
    "plt.xlim(0,6)\n",
    "plt.ylim(0,5)"
   ]
  },
  {
   "cell_type": "code",
   "execution_count": null,
   "id": "04599ead",
   "metadata": {},
   "outputs": [],
   "source": [
    "mean_seps = {}\n",
    "for data, name in [[low,\"low\"],[high,\"high\"]]:\n",
    "    # non-mergers\n",
    "    non_merger_mask = data[\"MergeSnapshot\"] == -1\n",
    "    num_non_merger = np.count_nonzero(non_merger_mask)\n",
    "    num_tot = len(data['MergeSnapshot'])\n",
    "  \n",
    "    # late infall\n",
    "    late_infall = data['InfallSnapshot'] > 50\n",
    "    num_late = np.count_nonzero(late_infall)\n",
    "  \n",
    "    # both\n",
    "    both_mask = non_merger_mask&late_infall\n",
    "    both_num = np.count_nonzero(both_mask)\n",
    "    \n",
    "    mean_seps[name] = {}\n",
    "    \n",
    "    for datum in ['Separations','SeparationsScaled',\"RelativeVelocity\"]:\n",
    "        save_xx = []\n",
    "        for i in convert['Snapshot'][50:]:\n",
    "            xx_at_snap = data[datum][:,i]\n",
    "#             xx_masked = xx_at_snap[both_mask]\n",
    "            xx_masked = xx_at_snap[non_merger_mask]\n",
    "            save_xx.append(np.nanmedian(xx_masked))\n",
    "\n",
    "        mean_seps[name][datum] = save_xx "
   ]
  },
  {
   "cell_type": "code",
   "execution_count": 56,
   "id": "eb4144e5",
   "metadata": {},
   "outputs": [
    {
     "data": {
      "text/plain": [
       "[<matplotlib.lines.Line2D at 0x2ab22a304400>]"
      ]
     },
     "execution_count": 56,
     "metadata": {},
     "output_type": "execute_result"
    },
    {
     "data": {
      "image/png": "[encoded data removed]",
      "text/plain": [
       "<Figure size 640x480 with 1 Axes>"
      ]
     },
     "metadata": {},
     "output_type": "display_data"
    }
   ],
   "source": [
    "reds = convert['Redshift'][50:]\n",
    "\n",
    "\n",
    "plt.plot(reds, mean_seps['low']['SeparationsScaled'])\n",
    "plt.plot(reds, mean_seps['high']['SeparationsScaled'])"
   ]
  },
  {
   "cell_type": "code",
   "execution_count": 53,
   "id": "ecfd3410",
   "metadata": {},
   "outputs": [
    {
     "data": {
      "text/plain": [
       "[<matplotlib.lines.Line2D at 0x2ab22a0d0310>]"
      ]
     },
     "execution_count": 53,
     "metadata": {},
     "output_type": "execute_result"
    },
    {
     "data": {
      "image/png": "[encoded data removed]",
      "text/plain": [
       "<Figure size 640x480 with 1 Axes>"
      ]
     },
     "metadata": {},
     "output_type": "display_data"
    }
   ],
   "source": [
    "reds = convert['Redshift'][50:]\n",
    "\n",
    "\n",
    "plt.plot(reds, mean_seps['low']['Separations'])\n",
    "plt.plot(reds, mean_seps['high']['Separations'])"
   ]
  },
  {
   "cell_type": "code",
   "execution_count": 40,
   "id": "c96b0b26",
   "metadata": {},
   "outputs": [
    {
     "data": {
      "text/plain": [
       "[<matplotlib.lines.Line2D at 0x2ab2289c6610>]"
      ]
     },
     "execution_count": 40,
     "metadata": {},
     "output_type": "execute_result"
    },
    {
     "data": {
      "image/png": "[encoded data removed]",
      "text/plain": [
       "<Figure size 640x480 with 1 Axes>"
      ]
     },
     "metadata": {},
     "output_type": "display_data"
    }
   ],
   "source": [
    "reds = convert['Redshift'][50:]\n",
    "\n",
    "\n",
    "plt.plot(reds, mean_seps['low']['Vels'])\n",
    "plt.plot(reds, mean_seps['high']['Vels'])"
   ]
  },
  {
   "cell_type": "code",
   "execution_count": 36,
   "id": "c76ec864",
   "metadata": {},
   "outputs": [
    {
     "data": {
      "text/plain": [
       "[971.640277349852,\n",
       " 961.2683215582214,\n",
       " 954.4589510416542,\n",
       " 945.1870655544035,\n",
       " 934.0203265963453,\n",
       " 922.6301669254213,\n",
       " 915.0470996945239,\n",
       " 901.229100977877,\n",
       " 892.6195372919187,\n",
       " 878.635144484759,\n",
       " 868.3342096520935,\n",
       " 854.6115767360384,\n",
       " 843.0577917539223,\n",
       " 830.8794105628962,\n",
       " 819.4778370490349,\n",
       " 804.5131657957683,\n",
       " 791.5605643918329,\n",
       " 778.1389789947671,\n",
       " 765.2199302383729,\n",
       " 751.9093216074924,\n",
       " 738.0833311753568,\n",
       " 725.0943838439129,\n",
       " 709.6138174022434,\n",
       " 694.579006488213,\n",
       " 680.6845181677841,\n",
       " 671.2651488380004,\n",
       " 657.6397535593869,\n",
       " 644.4409474662349,\n",
       " 635.4225223824777,\n",
       " 617.2477548886754,\n",
       " 607.2461000629751,\n",
       " 593.3201186360759,\n",
       " 579.3139750031189,\n",
       " 571.0035793435621,\n",
       " 558.1996565784467,\n",
       " 545.4428283994093,\n",
       " 537.5786761885128,\n",
       " 526.4988293471034,\n",
       " 519.4240722796173,\n",
       " 510.07814115909326,\n",
       " 502.18552111530005,\n",
       " 497.6098341821027,\n",
       " 492.3362266304959,\n",
       " 488.7897042102336,\n",
       " 483.76818517517796,\n",
       " 480.0374728489084,\n",
       " 475.6842765573098,\n",
       " 473.30720638218685,\n",
       " 467.5623355046084,\n",
       " 464.958978639527]"
      ]
     },
     "execution_count": 36,
     "metadata": {},
     "output_type": "execute_result"
    }
   ],
   "source": [
    "mean_seps['low']['Vels']"
   ]
  },
  {
   "cell_type": "code",
   "execution_count": 23,
   "id": "c319470f",
   "metadata": {},
   "outputs": [
    {
     "data": {
      "text/plain": [
       "778"
      ]
     },
     "execution_count": 23,
     "metadata": {},
     "output_type": "execute_result"
    }
   ],
   "source": [
    "# filter out all of the orbits that don't infall after z=1 (only look at \"recent infalls\")\n",
    "late_infall = high['InfallSnapshot'] > 50\n",
    "np.count_nonzero(late_infall&non_high)\n"
   ]
  },
  {
   "cell_type": "code",
   "execution_count": null,
   "id": "38446a54",
   "metadata": {},
   "outputs": [],
   "source": [
    "postinfall_willmerge = postinfall_at_snap&merge_later # merging pairs \n",
    "seps_will_merge = np.where(postinfall_willmerge, seps_at_snap, np.nan)\n",
    "\n",
    "mask_lower10 = (seps_will_merge > 10)\n",
    "\n",
    "seps_for_hist = seps_will_merge[mask_lower10]\n",
    "number_seps = len(seps_for_hist)\n",
    "\n",
    "mergesnap = data['MergeSnapshot'][mask_lower10]\n",
    "mergetimes = convert[\"Lookback Time\"][mergesnap]\n",
    "mt_for_hist = lbt_at_snap - mergetimes\n",
    "\n",
    "kwargs = {\"range\":[[0,300],[0,8]],\n",
    "          \"bins\": [int(15),int(16)],\n",
    "          \"cmap\":cmap,\n",
    "          \"weights\":100*np.ones(number_seps)/number_seps,\n",
    "          \"vmin\":0,\n",
    "          \"vmax\":vmax\n",
    "         }\n",
    "\n",
    "h,_,_,im0 = ax.hist2d(seps_for_hist, mt_for_hist,**kwargs)\n",
    "\n",
    "return h, im0, number_seps"
   ]
  }
 ],
 "metadata": {
  "kernelspec": {
   "display_name": "Python 3 (ipykernel)",
   "language": "python",
   "name": "python3"
  },
  "language_info": {
   "codemirror_mode": {
    "name": "ipython",
    "version": 3
   },
   "file_extension": ".py",
   "mimetype": "text/x-python",
   "name": "python",
   "nbconvert_exporter": "python",
   "pygments_lexer": "ipython3",
   "version": "3.8.18"
  },
  "toc": {
   "base_numbering": 1,
   "nav_menu": {},
   "number_sections": true,
   "sideBar": true,
   "skip_h1_title": false,
   "title_cell": "Table of Contents",
   "title_sidebar": "Contents",
   "toc_cell": false,
   "toc_position": {},
   "toc_section_display": true,
   "toc_window_display": false
  }
 },
 "nbformat": 4,
 "nbformat_minor": 5
}
