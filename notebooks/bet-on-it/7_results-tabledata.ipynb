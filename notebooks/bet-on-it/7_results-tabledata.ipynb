{
 "cells": [
  {
   "cell_type": "code",
   "execution_count": 1,
   "id": "88809a12",
   "metadata": {},
   "outputs": [
    {
     "name": "stdout",
     "output_type": "stream",
     "text": [
      "imported h5py...\n",
      "modules seem to have loaded?\n"
     ]
    }
   ],
   "source": [
    "import h5py\n",
    "import numpy as np\n",
    "import matplotlib.pyplot as plt\n",
    "import sys\n",
    "import importlib\n",
    "import pandas as pd\n",
    "\n",
    "from utils_orbs.orb_paths import SetupPaths\n",
    "import utils_orbs.readsubfHDF5Py3 as readSub\n",
    "# from utils.read_group_cats import ReadCats\n",
    "from utils_orbs.merger_trees import TraceMergerTree\n",
    "from utils_orbs.readMergerHistoryFiles import FindHistory\n",
    "from utils_orbs.vectorCorrection import vectorCorrection as vector\n",
    "\n",
    "paths = SetupPaths()"
   ]
  },
  {
   "cell_type": "code",
   "execution_count": 2,
   "id": "13c22357",
   "metadata": {},
   "outputs": [],
   "source": [
    "plt.show();\n",
    "plt.rcParams.update({'font.size':20,\"xtick.direction\":\"in\",\"ytick.direction\":\"in\", \n",
    "                     \"xtick.top\":True, \"ytick.right\":True,\"text.usetex\":False,\n",
    "                     \"xtick.labelsize\":18,\"ytick.labelsize\":18,\n",
    "                     \"xtick.minor.top\":True, \"ytick.minor.right\":True,\n",
    "                     \"xtick.minor.visible\": True,\n",
    "                     \"ytick.minor.visible\": True})"
   ]
  },
  {
   "cell_type": "code",
   "execution_count": 3,
   "id": "aae94d47",
   "metadata": {},
   "outputs": [],
   "source": [
    "# defining color palette for plotting\n",
    "palette = {\"low\":\"olive\", \"high\":\"salmon\", \n",
    "           \"difference\":\"#2C1D11\", \"difference2\":\"#464646\"\n",
    "          }    \n",
    "        "
   ]
  },
  {
   "cell_type": "markdown",
   "id": "cb7ccf52",
   "metadata": {},
   "source": [
    "# Load data"
   ]
  },
  {
   "cell_type": "code",
   "execution_count": 4,
   "id": "671aa490",
   "metadata": {},
   "outputs": [],
   "source": [
    "# import unique pair catalogs\n",
    "low = {}\n",
    "high = {}\n",
    "\n",
    "# low-mass pairs\n",
    "f = h5py.File(f\"{paths.path_data}hail-mary/unique_orbits.hdf5\",'r')\n",
    "for key, val in f.items():\n",
    "    low[key] = np.array(val)\n",
    "f.close()\n",
    "    \n",
    "# high-mass pairs\n",
    "g = h5py.File(f\"{paths.path_data}big-bad/unique_orbits_massive.hdf5\",'r')\n",
    "for key, val in g.items():\n",
    "    high[key] = np.array(val)\n",
    "g.close()\n",
    "\n",
    "# conversion between snapshot-redshift-time\n",
    "h = h5py.File(f\"{paths.path_data}snapshot_data.hdf5\",'r')\n",
    "convert = {}\n",
    "for key, val in h.items():\n",
    "    convert[key] = np.array(val)\n",
    "h.close()\n"
   ]
  },
  {
   "cell_type": "markdown",
   "id": "4cc01e5f",
   "metadata": {},
   "source": [
    "# For paper: data for 4.1"
   ]
  },
  {
   "cell_type": "markdown",
   "id": "dc223e35",
   "metadata": {},
   "source": [
    "## In text example"
   ]
  },
  {
   "cell_type": "code",
   "execution_count": 5,
   "id": "c3a52bb9",
   "metadata": {
    "collapsed": true
   },
   "outputs": [],
   "source": []
  },
  {
   "cell_type": "code",
   "execution_count": 6,
   "id": "278a7af5",
   "metadata": {},
   "outputs": [
    {
     "data": {
      "text/plain": [
       "array([6574, 5787])"
      ]
     },
     "execution_count": 6,
     "metadata": {},
     "output_type": "execute_result"
    }
   ],
   "source": [
    "low_counts[40]"
   ]
  },
  {
   "cell_type": "code",
   "execution_count": 7,
   "id": "b4ae2493",
   "metadata": {},
   "outputs": [
    {
     "data": {
      "text/plain": [
       "1.4955121664955557"
      ]
     },
     "execution_count": 7,
     "metadata": {},
     "output_type": "execute_result"
    }
   ],
   "source": [
    "convert['Redshift'][40]"
   ]
  },
  {
   "cell_type": "code",
   "execution_count": 8,
   "id": "ed1a0b50",
   "metadata": {},
   "outputs": [],
   "source": [
    "# calculate the above for all snapshots\n",
    "\n",
    "# post infall means that the infall snapshot must be = or prior to 40\n",
    "postinfall_at_snap = low['InfallSnapshot'] <= 40\n",
    "\n",
    "# pre-merger means the merger snapshot must be after 40 OR be a non-merger\n",
    "merge_later = low['MergeSnapshot'] > 40\n",
    "\n",
    "postinfall_willmerge = postinfall_at_snap&merge_later # only will merge\n"
   ]
  },
  {
   "cell_type": "code",
   "execution_count": 11,
   "id": "9de61264",
   "metadata": {},
   "outputs": [],
   "source": [
    "seps_will_merge = np.where(postinfall_willmerge, low['Separations'][:,40], np.nan)"
   ]
  },
  {
   "cell_type": "code",
   "execution_count": 17,
   "id": "37047ac2",
   "metadata": {},
   "outputs": [
    {
     "name": "stdout",
     "output_type": "stream",
     "text": [
      "4984 merging pairs have seps between 10-150 kpc, which is 86.12%\n",
      "2458 merging pairs have seps between 10-50 kpc, which is 42.47%\n"
     ]
    }
   ],
   "source": [
    "mask_150 = (seps_will_merge < 150)&(seps_will_merge > 10)\n",
    "mask_50 = (seps_will_merge < 50)&(seps_will_merge > 10)\n",
    "\n",
    "count_150 = np.count_nonzero(mask_150)\n",
    "count_50 = np.count_nonzero(mask_50)\n",
    "count_total = np.count_nonzero(postinfall_willmerge)\n",
    "\n",
    "print(f\"{count_150} merging pairs have seps between 10-150 kpc, which is {count_150/count_total*100:0.2f}%\")\n",
    "print(f\"{count_50} merging pairs have seps between 10-50 kpc, which is {count_50/count_total*100:0.2f}%\")"
   ]
  },
  {
   "cell_type": "code",
   "execution_count": 31,
   "id": "3176d399",
   "metadata": {},
   "outputs": [],
   "source": [
    "mask_50 = (seps_will_merge < 50)&(seps_will_merge > 10)\n",
    "\n",
    "mergesnap = low['MergeSnapshot'][mask_50]\n",
    "mergetimes = convert[\"Lookback Time\"][mergesnap]\n",
    "timetilmerge = convert[\"Lookback Time\"][40] - mergetimes\n",
    "\n",
    "count_mergein2Gyr = np.count_nonzero(timetilmerge<2)"
   ]
  },
  {
   "cell_type": "code",
   "execution_count": 30,
   "id": "9bcc9376",
   "metadata": {},
   "outputs": [
    {
     "data": {
      "text/plain": [
       "2458"
      ]
     },
     "execution_count": 30,
     "metadata": {},
     "output_type": "execute_result"
    }
   ],
   "source": [
    "len(timetilmerge)"
   ]
  },
  {
   "cell_type": "code",
   "execution_count": 34,
   "id": "8046ac0f",
   "metadata": {},
   "outputs": [
    {
     "data": {
      "text/plain": [
       "(array([1596.,  611.,  168.,   36.,   19.,    8.,    4.,    9.,    4.,\n",
       "           3.]),\n",
       " array([0.20878849, 1.10488327, 2.00097805, 2.89707282, 3.7931676 ,\n",
       "        4.68926238, 5.58535715, 6.48145193, 7.3775467 , 8.27364148,\n",
       "        9.16973626]),\n",
       " <BarContainer object of 10 artists>)"
      ]
     },
     "execution_count": 34,
     "metadata": {},
     "output_type": "execute_result"
    },
    {
     "data": {
      "image/png": "[encoded data removed]",
      "text/plain": [
       "<Figure size 640x480 with 1 Axes>"
      ]
     },
     "metadata": {},
     "output_type": "display_data"
    }
   ],
   "source": [
    "plt.hist(timetilmerge)\n"
   ]
  },
  {
   "cell_type": "code",
   "execution_count": 32,
   "id": "b483344b",
   "metadata": {},
   "outputs": [
    {
     "data": {
      "text/plain": [
       "2207"
      ]
     },
     "execution_count": 32,
     "metadata": {},
     "output_type": "execute_result"
    }
   ],
   "source": [
    "count_mergein2Gyr\n"
   ]
  },
  {
   "cell_type": "code",
   "execution_count": null,
   "id": "16bb847e",
   "metadata": {},
   "outputs": [],
   "source": [
    "mergetimes = convert[\"Lookback Time\"][mergesnap]\n",
    "timetilmerge = convert[\"Lookback Time\"][snaps[ind]] - mergetimes\n",
    "\n",
    "count_150 = np.count_nonzero(mask_150)\n",
    "count_50 = np.count_nonzero(mask_50)\n",
    "count_total = np.count_nonzero(postinfall_willmerge)\n",
    "\n",
    "print(f\"{count_150} merging pairs have seps between 10-150 kpc, which is {count_150/count_total*100:0.2f}%\")\n",
    "print(f\"{count_50} merging pairs have seps between 10-50 kpc, which is {count_50/count_total*100:0.2f}%\")"
   ]
  },
  {
   "cell_type": "code",
   "execution_count": null,
   "id": "2987a778",
   "metadata": {},
   "outputs": [],
   "source": [
    "# calculate the above for all snapshots\n",
    "\n",
    "low_counts = []\n",
    "\n",
    "for snap in convert['Snapshot']:\n",
    "    # post infall means that the infall snapshot must be = or prior to 40\n",
    "    postinfall_at_snap = low['InfallSnapshot'] <= snap\n",
    "\n",
    "    # pre-merger means the merger snapshot must be after 40 OR be a non-merger\n",
    "    merge_later = low['MergeSnapshot'] > snap\n",
    "    non_mergers = low['MergeSnapshot'] == -1\n",
    "\n",
    "    unmerged_at_snap = merge_later|non_mergers\n",
    "\n",
    "    postinfall_unmerged = postinfall_at_snap&unmerged_at_snap # includes will merge & won't merge\n",
    "    count = np.count_nonzero(postinfall_unmerged)\n",
    "    \n",
    "    postinfall_willmerge = postinfall_at_snap&merge_later # only will merge\n",
    "    count_merge = np.count_nonzero(postinfall_willmerge)\n",
    "\n",
    "    low_counts.append([count,count_merge])\n",
    "    \n",
    "low_counts = np.array(low_counts)"
   ]
  }
 ],
 "metadata": {
  "kernelspec": {
   "display_name": "tart",
   "language": "python",
   "name": "tart"
  },
  "language_info": {
   "codemirror_mode": {
    "name": "ipython",
    "version": 3
   },
   "file_extension": ".py",
   "mimetype": "text/x-python",
   "name": "python",
   "nbconvert_exporter": "python",
   "pygments_lexer": "ipython3",
   "version": "3.8.18"
  },
  "toc": {
   "base_numbering": 1,
   "nav_menu": {},
   "number_sections": true,
   "sideBar": true,
   "skip_h1_title": false,
   "title_cell": "Table of Contents",
   "title_sidebar": "Contents",
   "toc_cell": false,
   "toc_position": {},
   "toc_section_display": true,
   "toc_window_display": false
  }
 },
 "nbformat": 4,
 "nbformat_minor": 5
}
