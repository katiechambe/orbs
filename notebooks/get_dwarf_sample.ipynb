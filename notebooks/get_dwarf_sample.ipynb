{
 "cells": [
  {
   "cell_type": "code",
   "execution_count": 2,
   "id": "d84892e3",
   "metadata": {},
   "outputs": [],
   "source": [
    "import h5py\n",
    "import numpy as np\n",
    "import matplotlib.pyplot as plt"
   ]
  },
  {
   "cell_type": "markdown",
   "id": "9de3cb5d",
   "metadata": {},
   "source": [
    "# z=1.5 sample (snapshot 40)"
   ]
  },
  {
   "cell_type": "code",
   "execution_count": 3,
   "id": "c184d283",
   "metadata": {},
   "outputs": [],
   "source": [
    "snapdata = h5py.File(\"../../pears/data/pairs/TNG_40_10.hdf5\",\"r\")\n"
   ]
  },
  {
   "cell_type": "code",
   "execution_count": 4,
   "id": "0126530d",
   "metadata": {},
   "outputs": [],
   "source": [
    "pairs = {}\n",
    "for key, val in snapdata['pairs']['hydro'].items():\n",
    "    pairs[key]=np.array(val)\n",
    "    \n",
    "snapdata.close()\n",
    "    \n",
    "maskk  = pairs['Realization']==-1    \n",
    "\n",
    "medianpairs = {}\n",
    "for key in pairs.keys():\n",
    "    medianpairs[key] = pairs[key][maskk]"
   ]
  },
  {
   "cell_type": "code",
   "execution_count": 5,
   "id": "4916d13c",
   "metadata": {},
   "outputs": [],
   "source": [
    "# make functions to get data at the requested snapshot\n",
    "def get_primmask(primstells, size):\n",
    "    if size == \"dwarf\":\n",
    "        mask = (primstells > 0.01) & (primstells < 0.5)\n",
    "    elif size == \"massive\":\n",
    "        mask = (primstells > 0.5) & (primstells < 10)\n",
    "    return mask\n",
    "\n",
    "def get_groupmask(groupmass, size):\n",
    "    if size == \"dwarf\":\n",
    "        mask = (groupmass > 8) & (groupmass < 50)\n",
    "    elif size == \"massive\":\n",
    "        mask = (groupmass > 100) & (groupmass < 650)\n",
    "    return mask"
   ]
  },
  {
   "cell_type": "code",
   "execution_count": 6,
   "id": "0d690082",
   "metadata": {},
   "outputs": [],
   "source": [
    "# get out the things that are in dwarf groups:\n",
    "group_mask = get_groupmask(medianpairs['Group Mass'],\"dwarf\")\n",
    "primary_mask = get_primmask(medianpairs['Sub1 Stellar Mass'], \"dwarf\")\n",
    "major_mask = (medianpairs['Sub2 Stellar Mass']/medianpairs['Sub1 Stellar Mass'] > 1/4)\n",
    "\n",
    "fullmask = group_mask&primary_mask&major_mask"
   ]
  },
  {
   "cell_type": "code",
   "execution_count": 7,
   "id": "4d321004",
   "metadata": {},
   "outputs": [
    {
     "name": "stdout",
     "output_type": "stream",
     "text": [
      "219468\n",
      "18289\n",
      "14819\n",
      "14733\n",
      "1330\n",
      "1330\n"
     ]
    }
   ],
   "source": [
    "print(len(pairs['Sub1 Stellar Mass']))\n",
    "print(len(medianpairs['Sub1 Stellar Mass']))\n",
    "print(len(medianpairs['Sub1 Stellar Mass'][group_mask]))\n",
    "print(len(medianpairs['Sub1 Stellar Mass'][group_mask&primary_mask]))\n",
    "print(len(medianpairs['Sub1 Stellar Mass'][group_mask&primary_mask&major_mask]))\n",
    "print(len(medianpairs['Sub1 Stellar Mass'][fullmask]))"
   ]
  },
  {
   "cell_type": "code",
   "execution_count": 8,
   "id": "6434279c",
   "metadata": {},
   "outputs": [],
   "source": [
    "units_dict = {\n",
    "    \"Group ID\":\"Group Number in Subfind Catalogs\", \n",
    "    \"Group Mass\":\"Physical mass from Group_M_TopHat200 -- 1e10 Msun\",\n",
    "    \"Group Radius\":\"Physical radius from Group_R_TopHat200 -- kpc\",\n",
    "    \"Group Nsubs\":\"Number of subhalos in group\",\n",
    "    \"Sub1 ID\":  \"Subhalo ID at current snapshot\",\n",
    "    \"Sub2 ID\":  \"Subhalo ID at current snapshot\",\n",
    "    \"Sub1 Mass\": \"Subhalo mass at current snapshot -- 1e10 Msun\",\n",
    "    \"Sub2 Mass\": \"Subhalo mass at current snapshot -- 1e10 Msun\",\n",
    "    \"Sub1 Stellar Mass\": \"Stellar masses from abundance matching -- 1e10 Msun\",\n",
    "    \"Sub2 Stellar Mass\": \"Stellar masses from abundance matching -- 1e10 Msun\",\n",
    "    \"Sub1 Pos\": \"Subhalo physical position in box x,y,z -- kpc\",\n",
    "    \"Sub2 Pos\": \"Subhalo physical position in box x,y,z -- kpc\",\n",
    "    \"Sub1 Vel\": \"Subhalo velocity in vx, vy, vz -- km/s\",\n",
    "    \"Sub2 Vel\": \"Subhalo velocity in vx, vy, vz -- km/s\",\n",
    "    \"Sub1 MassType\": \"Mass of bound particles - gas, DM, empty, tracers, stars, BHs -- in 1e10 Msun\",\n",
    "    \"Sub2 MassType\": \"Mass of bound particles - gas, DM, empty, tracers, stars, BHs -- in 1e10 Msun\",\n",
    "    \"Separation\": \"Physical separation between primary and secondary in kpc\",\n",
    "    \"Comoving Separation\":\"Comoving separation between primary and secondary in ckpc\",\n",
    "    \"RelVel\": \"Relative velocity between primary and secondary in km/s\",\n",
    "    \"Stellar Mass Ratio\": \"Stellar mass ratio of secondary over primary\", # in this case- it's by primary subhalo mass\n",
    "    \"Realization\": \"Stellar mass realization (0-1000)\",\n",
    "    \"Sub1 BHMass\": \"Sum of the masses of all blackholes -- 1e10 Msun\",\n",
    "    \"Sub2 BHMass\": \"Sum of the masses of all blackholes -- 1e10 Msun\",\n",
    "    \"Sub1 BHMdot\": \"Instantaneous accretion rates of all blackholes -- 1e10 Msun / 0.978Gyr\",\n",
    "    \"Sub2 BHMdot\": \"Instantaneous accretion rates of all blackholes -- 1e10 Msun / 0.978Gyr\",\n",
    "    \"Sub1 SFR\": \"Sum of the individual SFRs of all gas cells in subhalo -- Msun / yr\",\n",
    "    \"Sub2 SFR\": \"Sum of the individual SFRs of all gas cells in subhalo -- Msun / yr\",\n",
    "    \"Sub1 SFRinRad\": \"Sum of SFRs of all gas cells within twice the stellar half mass radius -- Msun / yr\",\n",
    "    \"Sub2 SFRinRad\": \"Sum of SFRs of all gas cells within twice the stellar half mass radius -- Msun / yr\",\n",
    "    \"Sub1 GasMetallicity\": \"Mz/Mtot, where Z = any element above He within 2x stellar half mass radius -- unitless\",\n",
    "    \"Sub2 GasMetallicity\": \"Mz/Mtot, where Z = any element above He within 2x stellar half mass radius -- unitless\",\n",
    "    \"TripleFlag\": \"0 if no tertiary with mass ratio > 1:10 of secondary, 1 if large tertiary, 2 if other problem occurred\"\n",
    "    }"
   ]
  },
  {
   "cell_type": "code",
   "execution_count": 9,
   "id": "01e6f47d",
   "metadata": {},
   "outputs": [],
   "source": [
    "f = h5py.File(f\"../data/lowmass_z1p5.hdf5\", 'w')"
   ]
  },
  {
   "cell_type": "code",
   "execution_count": 10,
   "id": "17ccea02",
   "metadata": {},
   "outputs": [],
   "source": [
    "header_dict = {\"Details\":\"Low mass major pairs at z=1.5\",\n",
    "    \"Snapshot\":\"40\",\n",
    "        \"Redshift\":\"z=1.5\",\n",
    "        \"Simulation\":\"TNG100-1\"}\n",
    "\n",
    "dset = f.create_group('/Header')\n",
    "for key in header_dict.keys():\n",
    "    dset.attrs[key] = header_dict[key]"
   ]
  },
  {
   "cell_type": "code",
   "execution_count": 11,
   "id": "d24dfb3c",
   "metadata": {},
   "outputs": [],
   "source": [
    "for key, val in medianpairs.items():\n",
    "    val = np.array(val)[fullmask]\n",
    "    dset = f.create_dataset(f'/{key}', \n",
    "                            shape=val.shape,\n",
    "                            dtype=val.dtype)\n",
    "    dset.attrs[key] = units_dict[key]\n",
    "    dset[:] = val\n",
    "    \n",
    "f.close()"
   ]
  },
  {
   "cell_type": "markdown",
   "id": "578d9d42",
   "metadata": {},
   "source": [
    "# z=1 sample (snapshot 50)"
   ]
  },
  {
   "cell_type": "code",
   "execution_count": 3,
   "id": "0993f050",
   "metadata": {},
   "outputs": [],
   "source": [
    "snapdata = h5py.File(\"../../pears/data/pairs/TNG_50_10.hdf5\",\"r\")\n",
    "pairs = {}\n",
    "for key, val in snapdata['pairs']['hydro'].items():\n",
    "    pairs[key]=np.array(val)\n",
    "    \n",
    "snapdata.close()\n",
    "    \n",
    "maskk  = pairs['Realization']==-1    \n",
    "\n",
    "medianpairs = {}\n",
    "for key in pairs.keys():\n",
    "    medianpairs[key] = pairs[key][maskk]"
   ]
  },
  {
   "cell_type": "code",
   "execution_count": 4,
   "id": "9fef6c65",
   "metadata": {},
   "outputs": [],
   "source": [
    "# make functions to get data at the requested snapshot\n",
    "def get_primmask(primstells, size):\n",
    "    if size == \"dwarf\":\n",
    "        mask = (primstells > 0.01) & (primstells < 0.5)\n",
    "    elif size == \"massive\":\n",
    "        mask = (primstells > 0.5) & (primstells < 10)\n",
    "    return mask\n",
    "\n",
    "def get_groupmask(groupmass, size):\n",
    "    if size == \"dwarf\":\n",
    "        mask = (groupmass > 8) & (groupmass < 50)\n",
    "    elif size == \"massive\":\n",
    "        mask = (groupmass > 100) & (groupmass < 650)\n",
    "    return mask"
   ]
  },
  {
   "cell_type": "code",
   "execution_count": 5,
   "id": "bcb77204",
   "metadata": {},
   "outputs": [],
   "source": [
    "# get out the things that are in dwarf groups:\n",
    "group_mask = get_groupmask(medianpairs['Group Mass'],\"dwarf\")\n",
    "primary_mask = get_primmask(medianpairs['Sub1 Stellar Mass'], \"dwarf\")\n",
    "major_mask = (medianpairs['Sub2 Stellar Mass']/medianpairs['Sub1 Stellar Mass'] > 1/4)\n",
    "\n",
    "fullmask = group_mask&primary_mask&major_mask"
   ]
  },
  {
   "cell_type": "code",
   "execution_count": 6,
   "id": "be7dfaea",
   "metadata": {},
   "outputs": [
    {
     "name": "stdout",
     "output_type": "stream",
     "text": [
      "219816\n",
      "18318\n",
      "14444\n",
      "14263\n",
      "1149\n",
      "1149\n"
     ]
    }
   ],
   "source": [
    "print(len(pairs['Sub1 Stellar Mass']))\n",
    "print(len(medianpairs['Sub1 Stellar Mass']))\n",
    "print(len(medianpairs['Sub1 Stellar Mass'][group_mask]))\n",
    "print(len(medianpairs['Sub1 Stellar Mass'][group_mask&primary_mask]))\n",
    "print(len(medianpairs['Sub1 Stellar Mass'][group_mask&primary_mask&major_mask]))\n",
    "print(len(medianpairs['Sub1 Stellar Mass'][fullmask]))"
   ]
  },
  {
   "cell_type": "code",
   "execution_count": 7,
   "id": "c7b8b4cd",
   "metadata": {
    "code_folding": [
     0
    ]
   },
   "outputs": [],
   "source": [
    "units_dict = {\n",
    "    \"Group ID\":\"Group Number in Subfind Catalogs\", \n",
    "    \"Group Mass\":\"Physical mass from Group_M_TopHat200 -- 1e10 Msun\",\n",
    "    \"Group Radius\":\"Physical radius from Group_R_TopHat200 -- kpc\",\n",
    "    \"Group Nsubs\":\"Number of subhalos in group\",\n",
    "    \"Sub1 ID\":  \"Subhalo ID at current snapshot\",\n",
    "    \"Sub2 ID\":  \"Subhalo ID at current snapshot\",\n",
    "    \"Sub1 Mass\": \"Subhalo mass at current snapshot -- 1e10 Msun\",\n",
    "    \"Sub2 Mass\": \"Subhalo mass at current snapshot -- 1e10 Msun\",\n",
    "    \"Sub1 Stellar Mass\": \"Stellar masses from abundance matching -- 1e10 Msun\",\n",
    "    \"Sub2 Stellar Mass\": \"Stellar masses from abundance matching -- 1e10 Msun\",\n",
    "    \"Sub1 Pos\": \"Subhalo physical position in box x,y,z -- kpc\",\n",
    "    \"Sub2 Pos\": \"Subhalo physical position in box x,y,z -- kpc\",\n",
    "    \"Sub1 Vel\": \"Subhalo velocity in vx, vy, vz -- km/s\",\n",
    "    \"Sub2 Vel\": \"Subhalo velocity in vx, vy, vz -- km/s\",\n",
    "    \"Sub1 MassType\": \"Mass of bound particles - gas, DM, empty, tracers, stars, BHs -- in 1e10 Msun\",\n",
    "    \"Sub2 MassType\": \"Mass of bound particles - gas, DM, empty, tracers, stars, BHs -- in 1e10 Msun\",\n",
    "    \"Separation\": \"Physical separation between primary and secondary in kpc\",\n",
    "    \"Comoving Separation\":\"Comoving separation between primary and secondary in ckpc\",\n",
    "    \"RelVel\": \"Relative velocity between primary and secondary in km/s\",\n",
    "    \"Stellar Mass Ratio\": \"Stellar mass ratio of secondary over primary\", # in this case- it's by primary subhalo mass\n",
    "    \"Realization\": \"Stellar mass realization (0-1000)\",\n",
    "    \"Sub1 BHMass\": \"Sum of the masses of all blackholes -- 1e10 Msun\",\n",
    "    \"Sub2 BHMass\": \"Sum of the masses of all blackholes -- 1e10 Msun\",\n",
    "    \"Sub1 BHMdot\": \"Instantaneous accretion rates of all blackholes -- 1e10 Msun / 0.978Gyr\",\n",
    "    \"Sub2 BHMdot\": \"Instantaneous accretion rates of all blackholes -- 1e10 Msun / 0.978Gyr\",\n",
    "    \"Sub1 SFR\": \"Sum of the individual SFRs of all gas cells in subhalo -- Msun / yr\",\n",
    "    \"Sub2 SFR\": \"Sum of the individual SFRs of all gas cells in subhalo -- Msun / yr\",\n",
    "    \"Sub1 SFRinRad\": \"Sum of SFRs of all gas cells within twice the stellar half mass radius -- Msun / yr\",\n",
    "    \"Sub2 SFRinRad\": \"Sum of SFRs of all gas cells within twice the stellar half mass radius -- Msun / yr\",\n",
    "    \"Sub1 GasMetallicity\": \"Mz/Mtot, where Z = any element above He within 2x stellar half mass radius -- unitless\",\n",
    "    \"Sub2 GasMetallicity\": \"Mz/Mtot, where Z = any element above He within 2x stellar half mass radius -- unitless\",\n",
    "    \"TripleFlag\": \"0 if no tertiary with mass ratio > 1:10 of secondary, 1 if large tertiary, 2 if other problem occurred\"\n",
    "    }"
   ]
  },
  {
   "cell_type": "code",
   "execution_count": 8,
   "id": "b0de58f7",
   "metadata": {},
   "outputs": [],
   "source": [
    "f = h5py.File(f\"../data/lowmass_z1.hdf5\", 'w')\n",
    "\n",
    "header_dict = {\"Details\":\"Low mass major pairs at z=1.0\",\n",
    "    \"Snapshot\":\"50\",\n",
    "        \"Redshift\":\"z=1\",\n",
    "        \"Simulation\":\"TNG100-1\"}\n",
    "\n",
    "dset = f.create_group('/Header')\n",
    "for key in header_dict.keys():\n",
    "    dset.attrs[key] = header_dict[key]\n",
    "    \n",
    "for key, val in medianpairs.items():\n",
    "    val = np.array(val)[fullmask]\n",
    "    dset = f.create_dataset(f'/{key}', \n",
    "                            shape=val.shape,\n",
    "                            dtype=val.dtype)\n",
    "    dset.attrs[key] = units_dict[key]\n",
    "    dset[:] = val\n",
    "    \n",
    "f.close()    "
   ]
  },
  {
   "cell_type": "code",
   "execution_count": null,
   "id": "f97d8a40",
   "metadata": {},
   "outputs": [],
   "source": []
  },
  {
   "cell_type": "code",
   "execution_count": null,
   "id": "7ddff14e",
   "metadata": {},
   "outputs": [],
   "source": []
  }
 ],
 "metadata": {
  "kernelspec": {
   "display_name": "Python 3",
   "language": "python",
   "name": "python3"
  },
  "language_info": {
   "codemirror_mode": {
    "name": "ipython",
    "version": 3
   },
   "file_extension": ".py",
   "mimetype": "text/x-python",
   "name": "python",
   "nbconvert_exporter": "python",
   "pygments_lexer": "ipython3",
   "version": "3.8.13"
  },
  "toc": {
   "base_numbering": 1,
   "nav_menu": {},
   "number_sections": true,
   "sideBar": true,
   "skip_h1_title": false,
   "title_cell": "Table of Contents",
   "title_sidebar": "Contents",
   "toc_cell": false,
   "toc_position": {},
   "toc_section_display": true,
   "toc_window_display": false
  }
 },
 "nbformat": 4,
 "nbformat_minor": 5
}
