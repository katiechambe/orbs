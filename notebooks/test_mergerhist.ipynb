{
 "cells": [
  {
   "cell_type": "code",
   "execution_count": 1,
   "id": "e60e9fbd",
   "metadata": {},
   "outputs": [],
   "source": [
    "import h5py\n",
    "import numpy as np\n",
    "import matplotlib.pyplot as plt\n",
    "import sys\n",
    "import importlib\n",
    "\n",
    "from utils.orb_paths import SetupPaths\n",
    "from utils.merger_trees import TraceMergerTree\n",
    "\n",
    "paths = SetupPaths()\n",
    "\n"
   ]
  },
  {
   "cell_type": "code",
   "execution_count": 2,
   "id": "a3da9e03",
   "metadata": {},
   "outputs": [],
   "source": [
    "f = h5py.File(f\"../data/lowmass_z1p5.hdf5\", 'r')\n",
    "pairs = {}\n",
    "for key, val in f.items():\n",
    "    if key == \"Header\":\n",
    "        continue\n",
    "    pairs[key]=np.array(val)\n",
    "    \n",
    "f.close()\n",
    "    "
   ]
  },
  {
   "cell_type": "code",
   "execution_count": 3,
   "id": "d4ccbf23",
   "metadata": {},
   "outputs": [],
   "source": [
    "test1 = pairs['Sub1 ID'][0]\n",
    "test2 = pairs['Sub2 ID'][0]"
   ]
  },
  {
   "cell_type": "code",
   "execution_count": 5,
   "id": "2849bf2c",
   "metadata": {},
   "outputs": [],
   "source": [
    "mhfile = h5py.File(f\"{paths.path_tnghydro_mergerhist}MergerHistory_040.hdf5\",\"r\")"
   ]
  },
  {
   "cell_type": "code",
   "execution_count": 11,
   "id": "af75bf3f",
   "metadata": {},
   "outputs": [
    {
     "name": "stdout",
     "output_type": "stream",
     "text": [
      "CatalogDesc :  Cosmological merger history and merger statistics.\n",
      "CatalogName :  MergerHistory\n",
      "Description :  IllustrisTNG Supplementary Data Catalog\n",
      "Reference :  Rodriguez-Gomez et al. (2017) and Eisert et al. (2022)\n",
      "Simulation :  TNG100-1\n"
     ]
    }
   ],
   "source": [
    "for key, val in mhfile['Header'].attrs.items():\n",
    "    print(key,\": \", val)"
   ]
  },
  {
   "cell_type": "code",
   "execution_count": 18,
   "id": "766b1b35",
   "metadata": {},
   "outputs": [
    {
     "name": "stdout",
     "output_type": "stream",
     "text": [
      "AccretedStellarMassLast2Gyr 0.0036837156\n",
      "AccretedStellarMassLast5Gyr 0.004033551\n",
      "AccretedStellarMassLast8Gyr 0.004033551\n",
      "AccretedStellarMassSinceRedshift5 0.004033551\n",
      "MassLastMajorMerger 0.0001128405\n",
      "MeanGasFraction 0.72863674\n",
      "MeanLookbackTime 1.3981736\n",
      "MeanMassRatio 0.34153205\n",
      "MeanRedshift 2.3584204\n",
      "MeanRedshiftAtPeakMassLast2Gyr 2.5734727\n",
      "MeanRedshiftAtPeakMassLast5Gyr 2.7155304\n",
      "MeanRedshiftAtPeakMassLast8Gyr 2.7155304\n",
      "MeanRedshiftAtPeakMassSinceRedshift5 2.7155304\n",
      "MeanStellarMassLast2Gyr 0.0016691806\n",
      "MeanStellarMassLast5Gyr 0.001539596\n",
      "MeanStellarMassLast8Gyr 0.001539596\n",
      "MeanStellarMassRatioLast2Gyr 0.31138697\n",
      "MeanStellarMassRatioLast5Gyr 0.34153205\n",
      "MeanStellarMassRatioLast8Gyr 0.34153205\n",
      "MeanStellarMassRatioSinceRedshift5 0.34153205\n",
      "MeanStellarMassSinceRedshift5 0.001539596\n",
      "NumMajorMergersLast250Myr 0\n",
      "NumMajorMergersLast2Gyr 2\n",
      "NumMajorMergersLast500Myr 0\n",
      "NumMajorMergersLast5Gyr 4\n",
      "NumMajorMergersLast8Gyr 4\n",
      "NumMajorMergersLastGyr 0\n",
      "NumMajorMergersSinceRedshift5 4\n",
      "NumMajorMergersSinceRedshiftOne 0\n",
      "NumMajorMergersSinceRedshiftTwo 0\n",
      "NumMajorMergersTotal 4\n",
      "NumMergersLast250Myr 2\n",
      "NumMergersLast2Gyr 6\n",
      "NumMergersLast500Myr 3\n",
      "NumMergersLast5Gyr 8\n",
      "NumMergersLast8Gyr 8\n",
      "NumMergersLastGyr 3\n",
      "NumMergersSinceRedshift5 8\n",
      "NumMergersSinceRedshiftOne 0\n",
      "NumMergersSinceRedshiftTwo 3\n",
      "NumMergersTotal 8\n",
      "NumMinorMergersLast250Myr 0\n",
      "NumMinorMergersLast2Gyr 1\n",
      "NumMinorMergersLast500Myr 0\n",
      "NumMinorMergersLast5Gyr 1\n",
      "NumMinorMergersLast8Gyr 1\n",
      "NumMinorMergersLastGyr 0\n",
      "NumMinorMergersSinceRedshift5 1\n",
      "NumMinorMergersSinceRedshiftOne 0\n",
      "NumMinorMergersSinceRedshiftTwo 0\n",
      "NumMinorMergersTotal 1\n",
      "SnapNumLastMajorMerger 30\n",
      "SnapNumLastMerger 40\n",
      "SnapNumLastMinorMerger 31\n",
      "SnapNumNextMajorMerger 44\n",
      "SnapNumNextMerger 42\n",
      "SnapNumNextMinorMerger -1\n"
     ]
    }
   ],
   "source": [
    "for key, val in mhfile.items():\n",
    "    if key == \"Header\":\n",
    "        continue\n",
    "    print(key,np.array(val)[test1])"
   ]
  },
  {
   "cell_type": "code",
   "execution_count": 16,
   "id": "c05f8f7f",
   "metadata": {},
   "outputs": [
    {
     "data": {
      "text/plain": [
       "0.0016691806"
      ]
     },
     "execution_count": 16,
     "metadata": {},
     "output_type": "execute_result"
    }
   ],
   "source": [
    "mhfile['MeanStellarMassLast2Gyr'][test1]"
   ]
  },
  {
   "cell_type": "code",
   "execution_count": 19,
   "id": "d6ece9d3",
   "metadata": {},
   "outputs": [],
   "source": [
    "f = h5py.File(f\"{paths.path_tnghydro_mergerhist}MergerHistory_040.hdf5\", 'r')"
   ]
  },
  {
   "cell_type": "code",
   "execution_count": null,
   "id": "88067838",
   "metadata": {},
   "outputs": [],
   "source": []
  },
  {
   "cell_type": "code",
   "execution_count": null,
   "id": "954ac2d0",
   "metadata": {},
   "outputs": [],
   "source": []
  }
 ],
 "metadata": {
  "kernelspec": {
   "display_name": "tart",
   "language": "python",
   "name": "tart"
  },
  "language_info": {
   "codemirror_mode": {
    "name": "ipython",
    "version": 3
   },
   "file_extension": ".py",
   "mimetype": "text/x-python",
   "name": "python",
   "nbconvert_exporter": "python",
   "pygments_lexer": "ipython3",
   "version": "3.8.13"
  },
  "toc": {
   "base_numbering": 1,
   "nav_menu": {},
   "number_sections": true,
   "sideBar": true,
   "skip_h1_title": false,
   "title_cell": "Table of Contents",
   "title_sidebar": "Contents",
   "toc_cell": false,
   "toc_position": {},
   "toc_section_display": true,
   "toc_window_display": false
  }
 },
 "nbformat": 4,
 "nbformat_minor": 5
}
