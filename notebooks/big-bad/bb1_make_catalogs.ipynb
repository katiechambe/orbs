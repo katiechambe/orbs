{
 "cells": [
  {
   "cell_type": "markdown",
   "id": "5db378f4",
   "metadata": {},
   "source": [
    "This notebook crearead in the pairs data, and creates the full low mass major pair sample that will be used as the initial dataset for this orbits project "
   ]
  },
  {
   "cell_type": "code",
   "execution_count": 1,
   "id": "1e6c4b2a",
   "metadata": {},
   "outputs": [
    {
     "name": "stdout",
     "output_type": "stream",
     "text": [
      "imported h5py...\n",
      "modules seem to have loaded?\n"
     ]
    }
   ],
   "source": [
    "import h5py\n",
    "import numpy as np\n",
    "import matplotlib.pyplot as plt\n",
    "import sys\n",
    "import importlib\n",
    "import pandas as pd\n",
    "\n",
    "from utils_orbs.orb_paths import SetupPaths\n",
    "import utils_orbs.readsubfHDF5Py3 as readSub\n",
    "# from utils.read_group_cats import ReadCats\n",
    "from utils_orbs.merger_trees import TraceMergerTree\n",
    "from utils_orbs.readMergerHistoryFiles import FindHistory\n",
    "from utils_orbs.vectorCorrection import vectorCorrection as vector\n",
    "\n",
    "paths = SetupPaths()"
   ]
  },
  {
   "cell_type": "code",
   "execution_count": 2,
   "id": "56993aae",
   "metadata": {},
   "outputs": [],
   "source": [
    "plt.show();\n",
    "plt.rcParams.update({'font.size':20,\"xtick.direction\":\"in\",\"ytick.direction\":\"in\", \n",
    "                     \"xtick.top\":True, \"ytick.right\":True,\"text.usetex\":False,\n",
    "                     \"xtick.labelsize\":18,\"ytick.labelsize\":18})"
   ]
  },
  {
   "cell_type": "markdown",
   "id": "c8433a34",
   "metadata": {},
   "source": [
    "## Create data catalog \n",
    "\n",
    "include only low mass major pairs ~ \n",
    "note: snapshot 48 is missing in the hydro ver of TNG100"
   ]
  },
  {
   "cell_type": "code",
   "execution_count": 3,
   "id": "46fdade2",
   "metadata": {},
   "outputs": [],
   "source": [
    "def pull_highmass_pairs(snapshot):\n",
    "    units_dict = {\n",
    "                \"Group ID\":\"Group Number in Subfind Catalogs\", \n",
    "                \"Group Mass\":\"Physical mass from Group_M_TopHat200 -- 1e10 Msun\",\n",
    "                \"Group Radius\":\"Physical radius from Group_R_TopHat200 -- kpc\",\n",
    "                \"Group Nsubs\":\"Number of subhalos in group\",\n",
    "                \"Sub1 ID\":  \"Subhalo ID at current snapshot\",\n",
    "                \"Sub2 ID\":  \"Subhalo ID at current snapshot\",\n",
    "                \"Sub1 Mass\": \"Subhalo mass at current snapshot -- 1e10 Msun\",\n",
    "                \"Sub2 Mass\": \"Subhalo mass at current snapshot -- 1e10 Msun\",\n",
    "                \"Sub1 Stellar Mass\": \"Stellar masses from abundance matching -- 1e10 Msun\",\n",
    "                \"Sub2 Stellar Mass\": \"Stellar masses from abundance matching -- 1e10 Msun\",\n",
    "                \"Sub1 Pos\": \"Subhalo physical position in box x,y,z -- kpc\",\n",
    "                \"Sub2 Pos\": \"Subhalo physical position in box x,y,z -- kpc\",\n",
    "                \"Sub1 Vel\": \"Subhalo velocity in vx, vy, vz -- km/s\",\n",
    "                \"Sub2 Vel\": \"Subhalo velocity in vx, vy, vz -- km/s\",\n",
    "                \"Sub1 MassType\": \"Mass of bound particles - gas, DM, empty, tracers, stars, BHs -- in 1e10 Msun\",\n",
    "                \"Sub2 MassType\": \"Mass of bound particles - gas, DM, empty, tracers, stars, BHs -- in 1e10 Msun\",\n",
    "                \"Separation\": \"Physical separation between primary and secondary in kpc\",\n",
    "                \"Comoving Separation\":\"Comoving separation between primary and secondary in ckpc\",\n",
    "                \"RelVel\": \"Relative velocity between primary and secondary in km/s\",\n",
    "                \"Stellar Mass Ratio\": \"Stellar mass ratio of secondary over primary\", # in this case- it's by primary subhalo mass\n",
    "                \"Realization\": \"Stellar mass realization (0-1000)\",\n",
    "                \"Sub1 BHMass\": \"Sum of the masses of all blackholes -- 1e10 Msun\",\n",
    "                \"Sub2 BHMass\": \"Sum of the masses of all blackholes -- 1e10 Msun\",\n",
    "                \"Sub1 BHMdot\": \"Instantaneous accretion rates of all blackholes -- 1e10 Msun / 0.978Gyr\",\n",
    "                \"Sub2 BHMdot\": \"Instantaneous accretion rates of all blackholes -- 1e10 Msun / 0.978Gyr\",\n",
    "                \"Sub1 SFR\": \"Sum of the individual SFRs of all gas cells in subhalo -- Msun / yr\",\n",
    "                \"Sub2 SFR\": \"Sum of the individual SFRs of all gas cells in subhalo -- Msun / yr\",\n",
    "                \"Sub1 SFRinRad\": \"Sum of SFRs of all gas cells within twice the stellar half mass radius -- Msun / yr\",\n",
    "                \"Sub2 SFRinRad\": \"Sum of SFRs of all gas cells within twice the stellar half mass radius -- Msun / yr\",\n",
    "                \"Sub1 GasMetallicity\": \"Mz/Mtot, where Z = any element above He within 2x stellar half mass radius -- unitless\",\n",
    "                \"Sub2 GasMetallicity\": \"Mz/Mtot, where Z = any element above He within 2x stellar half mass radius -- unitless\",\n",
    "                \"TripleFlag\": \"0 if no tertiary with mass ratio > 1:10 of secondary, 1 if large tertiary, 2 if other problem occurred\"\n",
    "                }\n",
    "    \n",
    "    snapdata = h5py.File(f\"/xdisk/gbesla/katiechambe/pears/data/pairs/TNG_{snapshot}_10.hdf5\",\"r\")\n",
    "    pairs = {}\n",
    "    for key, val in snapdata['pairs']['hydro'].items():\n",
    "        pairs[key]=np.array(val)\n",
    "    redshift = snapdata[\"Header\"].attrs[\"Redshift\"]\n",
    "    scale = 1/(1+redshift)\n",
    "    snapdata.close()\n",
    "\n",
    "    maskk  = pairs['Realization']==-1    \n",
    "\n",
    "    medianpairs = {}\n",
    "    for key in pairs.keys():\n",
    "        medianpairs[key] = pairs[key][maskk]\n",
    "\n",
    "    # make functions to get data at the requested snapshot\n",
    "    def get_primmask(primstells, size):\n",
    "        if size == \"low\":\n",
    "            mask = (primstells > 0.01) & (primstells < 0.5)\n",
    "        elif size == \"high\":\n",
    "            mask = (primstells > 0.5) & (primstells < 10)\n",
    "        return mask\n",
    "\n",
    "    def get_groupmask(groupmass, size):\n",
    "        if size == \"low\":\n",
    "            mask = (groupmass > 8) & (groupmass < 50)\n",
    "        elif size == \"high\":\n",
    "            mask = (groupmass > 100) & (groupmass < 650)\n",
    "        return mask\n",
    "\n",
    "    # get out the things that are in dwarf groups:\n",
    "    group_mask = get_groupmask(medianpairs['Group Mass'],\"high\")\n",
    "    primary_mask = get_primmask(medianpairs['Sub1 Stellar Mass'], \"high\")\n",
    "    major_mask = (medianpairs['Sub2 Stellar Mass']/medianpairs['Sub1 Stellar Mass'] > 1/4)\n",
    "\n",
    "    fullmask = group_mask&primary_mask&major_mask\n",
    "\n",
    "        # make data file\n",
    "    f = h5py.File(f\"../../data/big-bad/highmass_{snapshot}.hdf5\", 'w')\n",
    "    header_dict = {\"Details\":f\"High mass major pairs at z={redshift:.1f}\",\n",
    "            \"Snapshot\":snapshot,\n",
    "            \"Scale\":scale,\n",
    "            \"Redshift\":redshift,\n",
    "            \"Simulation\":\"TNG100-1\"}\n",
    "\n",
    "    dset = f.create_group('/Header')\n",
    "    for key in header_dict.keys():\n",
    "        dset.attrs[key] = header_dict[key]\n",
    "\n",
    "    for key, val in medianpairs.items():\n",
    "        val = np.array(val)[fullmask]\n",
    "        dset = f.create_dataset(f'/{key}', \n",
    "                                shape=val.shape,\n",
    "                                dtype=val.dtype)\n",
    "        dset.attrs[key] = units_dict[key]\n",
    "        dset[:] = val\n",
    "\n",
    "    f.close()\n",
    "    print(f\"Snapshot {snapshot} - total number of all pairs, median pairs, and high mass major pairs: {len(pairs['Sub1 Stellar Mass'])}, {len(medianpairs['Sub1 Stellar Mass'])}, {len(medianpairs['Sub1 Stellar Mass'][fullmask])}\")\n",
    "\n"
   ]
  },
  {
   "cell_type": "markdown",
   "id": "7d83d884",
   "metadata": {},
   "source": [
    "The following cell creates and saves a data file containing info on each low mass major pair at each redshift"
   ]
  },
  {
   "cell_type": "code",
   "execution_count": 4,
   "id": "f171b3c9",
   "metadata": {},
   "outputs": [
    {
     "name": "stdout",
     "output_type": "stream",
     "text": [
      "Snapshot 33 - total number of all pairs, median pairs, and high mass major pairs: 201780, 16815, 158\n",
      "Snapshot 40 - total number of all pairs, median pairs, and high mass major pairs: 219468, 18289, 212\n",
      "Snapshot 50 - total number of all pairs, median pairs, and high mass major pairs: 219816, 18318, 276\n"
     ]
    }
   ],
   "source": [
    "for i in [33,40,50]:\n",
    "    pull_highmass_pairs(i)"
   ]
  },
  {
   "cell_type": "code",
   "execution_count": 5,
   "id": "de99216c",
   "metadata": {
    "scrolled": true
   },
   "outputs": [
    {
     "name": "stdout",
     "output_type": "stream",
     "text": [
      "Snapshot 0 - total number of all pairs, median pairs, and high mass major pairs: 0, 0, 0\n",
      "Snapshot 1 - total number of all pairs, median pairs, and high mass major pairs: 0, 0, 0\n",
      "Snapshot 2 - total number of all pairs, median pairs, and high mass major pairs: 0, 0, 0\n",
      "Snapshot 3 - total number of all pairs, median pairs, and high mass major pairs: 0, 0, 0\n",
      "Snapshot 4 - total number of all pairs, median pairs, and high mass major pairs: 48, 4, 0\n",
      "Snapshot 5 - total number of all pairs, median pairs, and high mass major pairs: 108, 9, 0\n",
      "Snapshot 6 - total number of all pairs, median pairs, and high mass major pairs: 264, 22, 0\n",
      "Snapshot 7 - total number of all pairs, median pairs, and high mass major pairs: 600, 50, 0\n",
      "Snapshot 8 - total number of all pairs, median pairs, and high mass major pairs: 1260, 105, 0\n",
      "Snapshot 9 - total number of all pairs, median pairs, and high mass major pairs: 2220, 185, 0\n",
      "Snapshot 10 - total number of all pairs, median pairs, and high mass major pairs: 3564, 297, 0\n",
      "Snapshot 11 - total number of all pairs, median pairs, and high mass major pairs: 4848, 404, 0\n",
      "Snapshot 12 - total number of all pairs, median pairs, and high mass major pairs: 8796, 733, 0\n",
      "Snapshot 13 - total number of all pairs, median pairs, and high mass major pairs: 15108, 1259, 1\n",
      "Snapshot 14 - total number of all pairs, median pairs, and high mass major pairs: 17748, 1479, 1\n",
      "Snapshot 15 - total number of all pairs, median pairs, and high mass major pairs: 23628, 1969, 0\n",
      "Snapshot 16 - total number of all pairs, median pairs, and high mass major pairs: 31224, 2602, 1\n",
      "Snapshot 17 - total number of all pairs, median pairs, and high mass major pairs: 38460, 3205, 2\n",
      "Snapshot 18 - total number of all pairs, median pairs, and high mass major pairs: 50100, 4175, 8\n",
      "Snapshot 19 - total number of all pairs, median pairs, and high mass major pairs: 59292, 4941, 10\n",
      "Snapshot 20 - total number of all pairs, median pairs, and high mass major pairs: 70812, 5901, 18\n",
      "Snapshot 21 - total number of all pairs, median pairs, and high mass major pairs: 80112, 6676, 25\n",
      "Snapshot 22 - total number of all pairs, median pairs, and high mass major pairs: 95592, 7966, 29\n",
      "Snapshot 23 - total number of all pairs, median pairs, and high mass major pairs: 108588, 9049, 33\n",
      "Snapshot 24 - total number of all pairs, median pairs, and high mass major pairs: 121356, 10113, 39\n",
      "Snapshot 25 - total number of all pairs, median pairs, and high mass major pairs: 140208, 11684, 58\n",
      "Snapshot 26 - total number of all pairs, median pairs, and high mass major pairs: 147684, 12307, 62\n",
      "Snapshot 27 - total number of all pairs, median pairs, and high mass major pairs: 159684, 13307, 81\n",
      "Snapshot 28 - total number of all pairs, median pairs, and high mass major pairs: 169368, 14114, 98\n",
      "Snapshot 29 - total number of all pairs, median pairs, and high mass major pairs: 178104, 14842, 107\n",
      "Snapshot 30 - total number of all pairs, median pairs, and high mass major pairs: 185244, 15437, 124\n",
      "Snapshot 31 - total number of all pairs, median pairs, and high mass major pairs: 191628, 15969, 147\n",
      "Snapshot 32 - total number of all pairs, median pairs, and high mass major pairs: 196284, 16357, 149\n",
      "Snapshot 33 - total number of all pairs, median pairs, and high mass major pairs: 201780, 16815, 158\n",
      "Snapshot 34 - total number of all pairs, median pairs, and high mass major pairs: 205728, 17144, 178\n",
      "Snapshot 35 - total number of all pairs, median pairs, and high mass major pairs: 209580, 17465, 189\n",
      "Snapshot 36 - total number of all pairs, median pairs, and high mass major pairs: 212676, 17723, 200\n",
      "Snapshot 37 - total number of all pairs, median pairs, and high mass major pairs: 215196, 17933, 205\n",
      "Snapshot 38 - total number of all pairs, median pairs, and high mass major pairs: 217020, 18085, 215\n",
      "Snapshot 39 - total number of all pairs, median pairs, and high mass major pairs: 218712, 18226, 211\n",
      "Snapshot 40 - total number of all pairs, median pairs, and high mass major pairs: 219468, 18289, 212\n",
      "Snapshot 41 - total number of all pairs, median pairs, and high mass major pairs: 219948, 18329, 237\n",
      "Snapshot 42 - total number of all pairs, median pairs, and high mass major pairs: 220116, 18343, 241\n",
      "Snapshot 43 - total number of all pairs, median pairs, and high mass major pairs: 220788, 18399, 232\n",
      "Snapshot 44 - total number of all pairs, median pairs, and high mass major pairs: 221376, 18448, 244\n",
      "Snapshot 45 - total number of all pairs, median pairs, and high mass major pairs: 220560, 18380, 253\n",
      "Snapshot 46 - total number of all pairs, median pairs, and high mass major pairs: 220152, 18346, 253\n",
      "Snapshot 47 - total number of all pairs, median pairs, and high mass major pairs: 220332, 18361, 267\n",
      "Snapshot 49 - total number of all pairs, median pairs, and high mass major pairs: 219756, 18313, 268\n",
      "Snapshot 50 - total number of all pairs, median pairs, and high mass major pairs: 219816, 18318, 276\n",
      "Snapshot 51 - total number of all pairs, median pairs, and high mass major pairs: 219216, 18268, 298\n",
      "Snapshot 52 - total number of all pairs, median pairs, and high mass major pairs: 219372, 18281, 300\n",
      "Snapshot 53 - total number of all pairs, median pairs, and high mass major pairs: 219240, 18270, 290\n",
      "Snapshot 54 - total number of all pairs, median pairs, and high mass major pairs: 218424, 18202, 300\n",
      "Snapshot 55 - total number of all pairs, median pairs, and high mass major pairs: 218040, 18170, 296\n",
      "Snapshot 56 - total number of all pairs, median pairs, and high mass major pairs: 217416, 18118, 308\n",
      "Snapshot 57 - total number of all pairs, median pairs, and high mass major pairs: 216732, 18061, 317\n",
      "Snapshot 58 - total number of all pairs, median pairs, and high mass major pairs: 215952, 17996, 314\n",
      "Snapshot 59 - total number of all pairs, median pairs, and high mass major pairs: 215376, 17948, 315\n",
      "Snapshot 60 - total number of all pairs, median pairs, and high mass major pairs: 215364, 17947, 325\n",
      "Snapshot 61 - total number of all pairs, median pairs, and high mass major pairs: 215592, 17966, 319\n",
      "Snapshot 62 - total number of all pairs, median pairs, and high mass major pairs: 214284, 17857, 309\n",
      "Snapshot 63 - total number of all pairs, median pairs, and high mass major pairs: 213192, 17766, 317\n",
      "Snapshot 64 - total number of all pairs, median pairs, and high mass major pairs: 213624, 17802, 307\n",
      "Snapshot 65 - total number of all pairs, median pairs, and high mass major pairs: 213372, 17781, 302\n",
      "Snapshot 66 - total number of all pairs, median pairs, and high mass major pairs: 212580, 17715, 303\n",
      "Snapshot 67 - total number of all pairs, median pairs, and high mass major pairs: 210624, 17552, 310\n",
      "Snapshot 68 - total number of all pairs, median pairs, and high mass major pairs: 209268, 17439, 313\n",
      "Snapshot 69 - total number of all pairs, median pairs, and high mass major pairs: 208656, 17388, 311\n",
      "Snapshot 70 - total number of all pairs, median pairs, and high mass major pairs: 208500, 17375, 307\n",
      "Snapshot 71 - total number of all pairs, median pairs, and high mass major pairs: 207252, 17271, 308\n",
      "Snapshot 72 - total number of all pairs, median pairs, and high mass major pairs: 206808, 17234, 320\n",
      "Snapshot 73 - total number of all pairs, median pairs, and high mass major pairs: 206496, 17208, 319\n",
      "Snapshot 74 - total number of all pairs, median pairs, and high mass major pairs: 204780, 17065, 316\n",
      "Snapshot 75 - total number of all pairs, median pairs, and high mass major pairs: 203772, 16981, 312\n",
      "Snapshot 76 - total number of all pairs, median pairs, and high mass major pairs: 202872, 16906, 305\n",
      "Snapshot 77 - total number of all pairs, median pairs, and high mass major pairs: 201924, 16827, 295\n",
      "Snapshot 78 - total number of all pairs, median pairs, and high mass major pairs: 201168, 16764, 293\n",
      "Snapshot 79 - total number of all pairs, median pairs, and high mass major pairs: 200160, 16680, 296\n",
      "Snapshot 80 - total number of all pairs, median pairs, and high mass major pairs: 198372, 16531, 299\n",
      "Snapshot 81 - total number of all pairs, median pairs, and high mass major pairs: 197904, 16492, 302\n",
      "Snapshot 82 - total number of all pairs, median pairs, and high mass major pairs: 197208, 16434, 312\n",
      "Snapshot 83 - total number of all pairs, median pairs, and high mass major pairs: 196368, 16364, 316\n",
      "Snapshot 84 - total number of all pairs, median pairs, and high mass major pairs: 196020, 16335, 341\n"
     ]
    },
    {
     "name": "stdout",
     "output_type": "stream",
     "text": [
      "Snapshot 85 - total number of all pairs, median pairs, and high mass major pairs: 195120, 16260, 344\n",
      "Snapshot 86 - total number of all pairs, median pairs, and high mass major pairs: 194880, 16240, 343\n",
      "Snapshot 87 - total number of all pairs, median pairs, and high mass major pairs: 193416, 16118, 351\n",
      "Snapshot 88 - total number of all pairs, median pairs, and high mass major pairs: 193056, 16088, 358\n",
      "Snapshot 89 - total number of all pairs, median pairs, and high mass major pairs: 191460, 15955, 368\n",
      "Snapshot 90 - total number of all pairs, median pairs, and high mass major pairs: 190140, 15845, 369\n",
      "Snapshot 91 - total number of all pairs, median pairs, and high mass major pairs: 189636, 15803, 374\n",
      "Snapshot 92 - total number of all pairs, median pairs, and high mass major pairs: 188928, 15744, 360\n",
      "Snapshot 93 - total number of all pairs, median pairs, and high mass major pairs: 188808, 15734, 371\n",
      "Snapshot 94 - total number of all pairs, median pairs, and high mass major pairs: 187860, 15655, 369\n",
      "Snapshot 95 - total number of all pairs, median pairs, and high mass major pairs: 187140, 15595, 369\n",
      "Snapshot 96 - total number of all pairs, median pairs, and high mass major pairs: 186852, 15571, 376\n",
      "Snapshot 97 - total number of all pairs, median pairs, and high mass major pairs: 185796, 15483, 370\n",
      "Snapshot 98 - total number of all pairs, median pairs, and high mass major pairs: 185064, 15422, 386\n",
      "Snapshot 99 - total number of all pairs, median pairs, and high mass major pairs: 184740, 15395, 389\n"
     ]
    }
   ],
   "source": [
    "for i in np.arange(0,100,1):\n",
    "    if i == 48:\n",
    "        continue\n",
    "    pull_highmass_pairs(i)"
   ]
  },
  {
   "cell_type": "markdown",
   "id": "2aa6f66c",
   "metadata": {},
   "source": [
    "## Calculate merger fraction vs. z"
   ]
  },
  {
   "cell_type": "code",
   "execution_count": 7,
   "id": "be5016c2",
   "metadata": {},
   "outputs": [],
   "source": [
    "def calculate_mergerfrac(snapshot):\n",
    "    \n",
    "    f = h5py.File(f\"../../data/big-bad/highmass_{snapshot}.hdf5\", 'r')\n",
    "    pairs = {}\n",
    "    for key, val in f.items():\n",
    "        if key == \"Header\":\n",
    "            continue\n",
    "        pairs[key] = np.array(val)\n",
    "        \n",
    "        redshift = f[\"Header\"].attrs[\"Redshift\"]\n",
    "    f.close()\n",
    "    \n",
    "    if len(pairs['Sub1 ID']) == 0:\n",
    "        return 0\n",
    "    \n",
    "    else:\n",
    "        # init array\n",
    "        merger_root= np.zeros(len(pairs['Sub1 ID']))\n",
    "\n",
    "        # for each subhalo pair, check if they merge and update data arrays\n",
    "        for ind in range(len(pairs['Sub1 ID'])):\n",
    "            primary_id = pairs['Sub1 ID'][ind]\n",
    "            secondary_id = pairs['Sub2 ID'][ind]\n",
    "\n",
    "            treedict = {}\n",
    "            for sub in [primary_id,secondary_id]:\n",
    "                treedict[sub] = TraceMergerTree(snapshot=snapshot,physics=\"hydro\",sim=\"TNG\",subfindID=sub)\n",
    "\n",
    "            tree_primary = treedict[primary_id].mergedbranch\n",
    "            tree_secondary = treedict[secondary_id].mergedbranch\n",
    "\n",
    "            # check if root descendant ID is the same between the two halos\n",
    "            root1 = tree_primary['RootDescendantID'][0]\n",
    "            root2 = tree_secondary['RootDescendantID'][0]\n",
    "            check_root = root1 == root2\n",
    "\n",
    "            if check_root:\n",
    "                merger_root[ind] = True\n",
    "            else: \n",
    "                merger_root[ind] = False\n",
    "                \n",
    "        # I think this can't happen, but just in case of div by 0\n",
    "        if len(merger_root) == 0:\n",
    "            return np.nan\n",
    "        else:\n",
    "            return np.count_nonzero(merger_root) / len(merger_root)\n"
   ]
  },
  {
   "cell_type": "markdown",
   "id": "f379c6a4",
   "metadata": {},
   "source": [
    "write snapshot and merger fraction to csv file"
   ]
  },
  {
   "cell_type": "code",
   "execution_count": 8,
   "id": "7d437665",
   "metadata": {},
   "outputs": [],
   "source": [
    "from csv import writer\n",
    "\n",
    "for i in np.arange(0,100,1):\n",
    "    if i == 48:\n",
    "        continue\n",
    "        \n",
    "    mergfrac = calculate_mergerfrac(i)\n",
    "\n",
    "    with open('../../data/big-bad/highmass_merger_fraction.csv', 'a') as file_obj:\n",
    "        writer(file_obj).writerow([i,mergfrac])\n",
    "        file_obj.close()"
   ]
  },
  {
   "cell_type": "markdown",
   "id": "cd5a84af",
   "metadata": {},
   "source": [
    "## Plot merger fraction"
   ]
  },
  {
   "cell_type": "code",
   "execution_count": 9,
   "id": "f952df5c",
   "metadata": {},
   "outputs": [],
   "source": [
    "dat = pd.read_csv('../../data/big-bad/highmass_merger_fraction.csv',names=np.array([\"Snapshot\",\"Fraction\"]))\n"
   ]
  },
  {
   "cell_type": "code",
   "execution_count": 10,
   "id": "8c5d3b46",
   "metadata": {},
   "outputs": [
    {
     "data": {
      "text/html": [
       "<div>\n",
       "<style scoped>\n",
       "    .dataframe tbody tr th:only-of-type {\n",
       "        vertical-align: middle;\n",
       "    }\n",
       "\n",
       "    .dataframe tbody tr th {\n",
       "        vertical-align: top;\n",
       "    }\n",
       "\n",
       "    .dataframe thead th {\n",
       "        text-align: right;\n",
       "    }\n",
       "</style>\n",
       "<table border=\"1\" class=\"dataframe\">\n",
       "  <thead>\n",
       "    <tr style=\"text-align: right;\">\n",
       "      <th></th>\n",
       "      <th>Snapshot</th>\n",
       "      <th>Fraction</th>\n",
       "    </tr>\n",
       "  </thead>\n",
       "  <tbody>\n",
       "    <tr>\n",
       "      <th>40</th>\n",
       "      <td>40</td>\n",
       "      <td>0.948113</td>\n",
       "    </tr>\n",
       "    <tr>\n",
       "      <th>41</th>\n",
       "      <td>41</td>\n",
       "      <td>0.949367</td>\n",
       "    </tr>\n",
       "    <tr>\n",
       "      <th>42</th>\n",
       "      <td>42</td>\n",
       "      <td>0.933610</td>\n",
       "    </tr>\n",
       "    <tr>\n",
       "      <th>43</th>\n",
       "      <td>43</td>\n",
       "      <td>0.939655</td>\n",
       "    </tr>\n",
       "    <tr>\n",
       "      <th>44</th>\n",
       "      <td>44</td>\n",
       "      <td>0.922131</td>\n",
       "    </tr>\n",
       "    <tr>\n",
       "      <th>45</th>\n",
       "      <td>45</td>\n",
       "      <td>0.916996</td>\n",
       "    </tr>\n",
       "    <tr>\n",
       "      <th>46</th>\n",
       "      <td>46</td>\n",
       "      <td>0.920949</td>\n",
       "    </tr>\n",
       "    <tr>\n",
       "      <th>47</th>\n",
       "      <td>47</td>\n",
       "      <td>0.925094</td>\n",
       "    </tr>\n",
       "    <tr>\n",
       "      <th>48</th>\n",
       "      <td>49</td>\n",
       "      <td>0.906716</td>\n",
       "    </tr>\n",
       "    <tr>\n",
       "      <th>49</th>\n",
       "      <td>50</td>\n",
       "      <td>0.916667</td>\n",
       "    </tr>\n",
       "    <tr>\n",
       "      <th>50</th>\n",
       "      <td>51</td>\n",
       "      <td>0.895973</td>\n",
       "    </tr>\n",
       "    <tr>\n",
       "      <th>51</th>\n",
       "      <td>52</td>\n",
       "      <td>0.886667</td>\n",
       "    </tr>\n",
       "    <tr>\n",
       "      <th>52</th>\n",
       "      <td>53</td>\n",
       "      <td>0.896552</td>\n",
       "    </tr>\n",
       "    <tr>\n",
       "      <th>53</th>\n",
       "      <td>54</td>\n",
       "      <td>0.883333</td>\n",
       "    </tr>\n",
       "    <tr>\n",
       "      <th>54</th>\n",
       "      <td>55</td>\n",
       "      <td>0.885135</td>\n",
       "    </tr>\n",
       "    <tr>\n",
       "      <th>55</th>\n",
       "      <td>56</td>\n",
       "      <td>0.860390</td>\n",
       "    </tr>\n",
       "    <tr>\n",
       "      <th>56</th>\n",
       "      <td>57</td>\n",
       "      <td>0.851735</td>\n",
       "    </tr>\n",
       "    <tr>\n",
       "      <th>57</th>\n",
       "      <td>58</td>\n",
       "      <td>0.831210</td>\n",
       "    </tr>\n",
       "    <tr>\n",
       "      <th>58</th>\n",
       "      <td>59</td>\n",
       "      <td>0.806349</td>\n",
       "    </tr>\n",
       "    <tr>\n",
       "      <th>59</th>\n",
       "      <td>60</td>\n",
       "      <td>0.809231</td>\n",
       "    </tr>\n",
       "  </tbody>\n",
       "</table>\n",
       "</div>"
      ],
      "text/plain": [
       "    Snapshot  Fraction\n",
       "40        40  0.948113\n",
       "41        41  0.949367\n",
       "42        42  0.933610\n",
       "43        43  0.939655\n",
       "44        44  0.922131\n",
       "45        45  0.916996\n",
       "46        46  0.920949\n",
       "47        47  0.925094\n",
       "48        49  0.906716\n",
       "49        50  0.916667\n",
       "50        51  0.895973\n",
       "51        52  0.886667\n",
       "52        53  0.896552\n",
       "53        54  0.883333\n",
       "54        55  0.885135\n",
       "55        56  0.860390\n",
       "56        57  0.851735\n",
       "57        58  0.831210\n",
       "58        59  0.806349\n",
       "59        60  0.809231"
      ]
     },
     "execution_count": 10,
     "metadata": {},
     "output_type": "execute_result"
    }
   ],
   "source": [
    "dat[40:60]"
   ]
  },
  {
   "cell_type": "code",
   "execution_count": 11,
   "id": "ab080268",
   "metadata": {},
   "outputs": [],
   "source": [
    "f = h5py.File(f\"{paths.path_data}hail-mary/snapshot_data.hdf5\",'r')\n",
    "snap_dict = {}\n",
    "for key, val in f.items():\n",
    "    snap_dict[key] = np.array(val)\n",
    "f.close()"
   ]
  },
  {
   "cell_type": "code",
   "execution_count": null,
   "id": "989232d0",
   "metadata": {},
   "outputs": [],
   "source": [
    "snap_dict['Redshift']"
   ]
  },
  {
   "cell_type": "code",
   "execution_count": 14,
   "id": "3b96af8b",
   "metadata": {},
   "outputs": [
    {
     "data": {
      "image/png": "[encoded data removed]",
      "text/plain": [
       "<Figure size 800x600 with 1 Axes>"
      ]
     },
     "metadata": {},
     "output_type": "display_data"
    }
   ],
   "source": [
    "fig, ax = plt.subplots(figsize=(8,6))\n",
    "ax.plot(snap_dict['Redshift'][snap_dict['Snapshot']!=48],dat['Fraction'])\n",
    "ax.set_xlim(-0.1,5)\n",
    "ax.set_xlabel(\"Redshift\")\n",
    "ax.set_ylabel(\"Fraction that merge\")\n",
    "plt.show()"
   ]
  },
  {
   "cell_type": "markdown",
   "id": "35045507",
   "metadata": {},
   "source": [
    "## Comparison of merger fracs (low v. high)"
   ]
  },
  {
   "cell_type": "code",
   "execution_count": 15,
   "id": "2da16975",
   "metadata": {},
   "outputs": [],
   "source": [
    "dat_massive = pd.read_csv('../../data/big-bad/highmass_merger_fraction.csv',names=np.array([\"Snapshot\",\"Fraction\"]))\n",
    "dat_low = pd.read_csv('../../data/hail-mary/merger_fraction.csv',names=np.array([\"Snapshot\",\"Fraction\"]))\n"
   ]
  },
  {
   "cell_type": "code",
   "execution_count": 25,
   "id": "846e2e09",
   "metadata": {},
   "outputs": [
    {
     "data": {
      "image/png": "[encoded data removed]",
      "text/plain": [
       "<Figure size 800x600 with 1 Axes>"
      ]
     },
     "metadata": {},
     "output_type": "display_data"
    }
   ],
   "source": [
    "fig, ax = plt.subplots(figsize=(8,6))\n",
    "ax.plot(snap_dict['Redshift'][snap_dict['Snapshot']!=48],dat_low['Fraction'],label=\"Low mass\",color=\"tab:cyan\",lw=3)\n",
    "ax.plot(snap_dict['Redshift'][snap_dict['Snapshot']!=48],dat_massive['Fraction'],label=\"High mass\",color=\"tab:olive\",lw=3)\n",
    "ax.set_xlim(-0.1,5)\n",
    "ax.set_xlabel(r\"z\")\n",
    "ax.set_ylabel(r\"$F_{\\rm merge}$\")\n",
    "ax.legend()\n",
    "plt.savefig(\"../../plots/big-bad/fmerge_comp.png\")\n",
    "plt.show()"
   ]
  },
  {
   "cell_type": "code",
   "execution_count": null,
   "id": "805384be",
   "metadata": {},
   "outputs": [],
   "source": []
  }
 ],
 "metadata": {
  "kernelspec": {
   "display_name": "Python 3 (ipykernel)",
   "language": "python",
   "name": "python3"
  },
  "language_info": {
   "codemirror_mode": {
    "name": "ipython",
    "version": 3
   },
   "file_extension": ".py",
   "mimetype": "text/x-python",
   "name": "python",
   "nbconvert_exporter": "python",
   "pygments_lexer": "ipython3",
   "version": "3.8.18"
  },
  "toc": {
   "base_numbering": 1,
   "nav_menu": {},
   "number_sections": true,
   "sideBar": true,
   "skip_h1_title": false,
   "title_cell": "Table of Contents",
   "title_sidebar": "Contents",
   "toc_cell": false,
   "toc_position": {
    "height": "calc(100% - 180px)",
    "left": "10px",
    "top": "150px",
    "width": "244px"
   },
   "toc_section_display": true,
   "toc_window_display": true
  }
 },
 "nbformat": 4,
 "nbformat_minor": 5
}
