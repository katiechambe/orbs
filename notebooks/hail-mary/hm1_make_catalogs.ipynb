{
 "cells": [
  {
   "cell_type": "markdown",
   "id": "ded55486",
   "metadata": {},
   "source": [
    "This notebook crearead in the pairs data, and creates the full low mass major pair sample that will be used as the initial dataset for this orbits project "
   ]
  },
  {
   "cell_type": "code",
   "execution_count": 1,
   "id": "176f5ea5",
   "metadata": {},
   "outputs": [
    {
     "name": "stdout",
     "output_type": "stream",
     "text": [
      "imported h5py...\n",
      "modules seem to have loaded?\n"
     ]
    }
   ],
   "source": [
    "import h5py\n",
    "import numpy as np\n",
    "import matplotlib.pyplot as plt\n",
    "import sys\n",
    "import importlib\n",
    "import pandas as pd\n",
    "\n",
    "from utils_orbs.orb_paths import SetupPaths\n",
    "import utils_orbs.readsubfHDF5Py3 as readSub\n",
    "# from utils.read_group_cats import ReadCats\n",
    "from utils_orbs.merger_trees import TraceMergerTree\n",
    "from utils_orbs.readMergerHistoryFiles import FindHistory\n",
    "from utils_orbs.vectorCorrection import vectorCorrection as vector\n",
    "\n",
    "paths = SetupPaths()"
   ]
  },
  {
   "cell_type": "code",
   "execution_count": 2,
   "id": "734f2b77",
   "metadata": {},
   "outputs": [],
   "source": [
    "plt.show();\n",
    "plt.rcParams.update({'font.size':20,\"xtick.direction\":\"in\",\"ytick.direction\":\"in\", \n",
    "                     \"xtick.top\":True, \"ytick.right\":True,\"text.usetex\":False,\n",
    "                     \"xtick.labelsize\":18,\"ytick.labelsize\":18})"
   ]
  },
  {
   "cell_type": "markdown",
   "id": "1cc69a7a",
   "metadata": {},
   "source": [
    "## Create data catalog \n",
    "\n",
    "include only low mass major pairs ~ \n",
    "note: snapshot 48 is missing in the hydro ver of TNG100"
   ]
  },
  {
   "cell_type": "code",
   "execution_count": 23,
   "id": "01ef4ebe",
   "metadata": {},
   "outputs": [],
   "source": [
    "def pull_lowmass_pairs(snapshot):\n",
    "    units_dict = {\n",
    "                \"Group ID\":\"Group Number in Subfind Catalogs\", \n",
    "                \"Group Mass\":\"Physical mass from Group_M_TopHat200 -- 1e10 Msun\",\n",
    "                \"Group Radius\":\"Physical radius from Group_R_TopHat200 -- kpc\",\n",
    "                \"Group Nsubs\":\"Number of subhalos in group\",\n",
    "                \"Sub1 ID\":  \"Subhalo ID at current snapshot\",\n",
    "                \"Sub2 ID\":  \"Subhalo ID at current snapshot\",\n",
    "                \"Sub1 Mass\": \"Subhalo mass at current snapshot -- 1e10 Msun\",\n",
    "                \"Sub2 Mass\": \"Subhalo mass at current snapshot -- 1e10 Msun\",\n",
    "                \"Sub1 Stellar Mass\": \"Stellar masses from abundance matching -- 1e10 Msun\",\n",
    "                \"Sub2 Stellar Mass\": \"Stellar masses from abundance matching -- 1e10 Msun\",\n",
    "                \"Sub1 Pos\": \"Subhalo physical position in box x,y,z -- kpc\",\n",
    "                \"Sub2 Pos\": \"Subhalo physical position in box x,y,z -- kpc\",\n",
    "                \"Sub1 Vel\": \"Subhalo velocity in vx, vy, vz -- km/s\",\n",
    "                \"Sub2 Vel\": \"Subhalo velocity in vx, vy, vz -- km/s\",\n",
    "                \"Sub1 MassType\": \"Mass of bound particles - gas, DM, empty, tracers, stars, BHs -- in 1e10 Msun\",\n",
    "                \"Sub2 MassType\": \"Mass of bound particles - gas, DM, empty, tracers, stars, BHs -- in 1e10 Msun\",\n",
    "                \"Separation\": \"Physical separation between primary and secondary in kpc\",\n",
    "                \"Comoving Separation\":\"Comoving separation between primary and secondary in ckpc\",\n",
    "                \"RelVel\": \"Relative velocity between primary and secondary in km/s\",\n",
    "                \"Stellar Mass Ratio\": \"Stellar mass ratio of secondary over primary\", # in this case- it's by primary subhalo mass\n",
    "                \"Realization\": \"Stellar mass realization (0-1000)\",\n",
    "                \"Sub1 BHMass\": \"Sum of the masses of all blackholes -- 1e10 Msun\",\n",
    "                \"Sub2 BHMass\": \"Sum of the masses of all blackholes -- 1e10 Msun\",\n",
    "                \"Sub1 BHMdot\": \"Instantaneous accretion rates of all blackholes -- 1e10 Msun / 0.978Gyr\",\n",
    "                \"Sub2 BHMdot\": \"Instantaneous accretion rates of all blackholes -- 1e10 Msun / 0.978Gyr\",\n",
    "                \"Sub1 SFR\": \"Sum of the individual SFRs of all gas cells in subhalo -- Msun / yr\",\n",
    "                \"Sub2 SFR\": \"Sum of the individual SFRs of all gas cells in subhalo -- Msun / yr\",\n",
    "                \"Sub1 SFRinRad\": \"Sum of SFRs of all gas cells within twice the stellar half mass radius -- Msun / yr\",\n",
    "                \"Sub2 SFRinRad\": \"Sum of SFRs of all gas cells within twice the stellar half mass radius -- Msun / yr\",\n",
    "                \"Sub1 GasMetallicity\": \"Mz/Mtot, where Z = any element above He within 2x stellar half mass radius -- unitless\",\n",
    "                \"Sub2 GasMetallicity\": \"Mz/Mtot, where Z = any element above He within 2x stellar half mass radius -- unitless\",\n",
    "                \"TripleFlag\": \"0 if no tertiary with mass ratio > 1:10 of secondary, 1 if large tertiary, 2 if other problem occurred\"\n",
    "                }\n",
    "    \n",
    "    snapdata = h5py.File(f\"/xdisk/gbesla/katiechambe/pears/data/pairs/TNG_{snapshot}_10.hdf5\",\"r\")\n",
    "    pairs = {}\n",
    "    for key, val in snapdata['pairs']['hydro'].items():\n",
    "        pairs[key]=np.array(val)\n",
    "    redshift = snapdata[\"Header\"].attrs[\"Redshift\"]\n",
    "    scale = 1/(1+redshift)\n",
    "    snapdata.close()\n",
    "\n",
    "    maskk  = pairs['Realization']==-1    \n",
    "\n",
    "    medianpairs = {}\n",
    "    for key in pairs.keys():\n",
    "        medianpairs[key] = pairs[key][maskk]\n",
    "\n",
    "    # make functions to get data at the requested snapshot\n",
    "    def get_primmask(primstells, size):\n",
    "        if size == \"low\":\n",
    "            mask = (primstells > 0.01) & (primstells < 0.5)\n",
    "        elif size == \"high\":\n",
    "            mask = (primstells > 0.5) & (primstells < 10)\n",
    "        return mask\n",
    "\n",
    "    def get_groupmask(groupmass, size):\n",
    "        if size == \"low\":\n",
    "            mask = (groupmass > 8) & (groupmass < 50)\n",
    "        elif size == \"high\":\n",
    "            mask = (groupmass > 100) & (groupmass < 650)\n",
    "        return mask\n",
    "\n",
    "    # get out the things that are in dwarf groups:\n",
    "    group_mask = get_groupmask(medianpairs['Group Mass'],\"low\")\n",
    "    primary_mask = get_primmask(medianpairs['Sub1 Stellar Mass'], \"low\")\n",
    "    major_mask = (medianpairs['Sub2 Stellar Mass']/medianpairs['Sub1 Stellar Mass'] > 1/4)\n",
    "\n",
    "    fullmask = group_mask&primary_mask&major_mask\n",
    "\n",
    "        # make data file\n",
    "    f = h5py.File(f\"../../data/hail-mary/lowmass_{snapshot}.hdf5\", 'w')\n",
    "    header_dict = {\"Details\":f\"Low mass major pairs at z={redshift:.1f}\",\n",
    "            \"Snapshot\":snapshot,\n",
    "            \"Scale\":scale,\n",
    "            \"Redshift\":redshift,\n",
    "            \"Simulation\":\"TNG100-1\"}\n",
    "\n",
    "    dset = f.create_group('/Header')\n",
    "    for key in header_dict.keys():\n",
    "        dset.attrs[key] = header_dict[key]\n",
    "\n",
    "    for key, val in medianpairs.items():\n",
    "        val = np.array(val)[fullmask]\n",
    "        dset = f.create_dataset(f'/{key}', \n",
    "                                shape=val.shape,\n",
    "                                dtype=val.dtype)\n",
    "        dset.attrs[key] = units_dict[key]\n",
    "        dset[:] = val\n",
    "\n",
    "    f.close()\n",
    "    print(f\"Snapshot {snapshot} - total number of all pairs, median pairs, and low mass major pairs: {len(pairs['Sub1 Stellar Mass'])}, {len(medianpairs['Sub1 Stellar Mass'])}, {len(medianpairs['Sub1 Stellar Mass'][fullmask])}\")\n",
    "\n"
   ]
  },
  {
   "cell_type": "markdown",
   "id": "35a5d99c",
   "metadata": {},
   "source": [
    "The following cell creates and saves a data file containing info on each low mass major pair at each redshift"
   ]
  },
  {
   "cell_type": "code",
   "execution_count": 26,
   "id": "e8a4d48d",
   "metadata": {},
   "outputs": [
    {
     "name": "stdout",
     "output_type": "stream",
     "text": [
      "Snapshot 0 - total number of all pairs, median pairs, and low mass major pairs: 0, 0, 0\n",
      "Snapshot 1 - total number of all pairs, median pairs, and low mass major pairs: 0, 0, 0\n",
      "Snapshot 2 - total number of all pairs, median pairs, and low mass major pairs: 0, 0, 0\n",
      "Snapshot 3 - total number of all pairs, median pairs, and low mass major pairs: 0, 0, 0\n",
      "Snapshot 4 - total number of all pairs, median pairs, and low mass major pairs: 48, 4, 0\n",
      "Snapshot 5 - total number of all pairs, median pairs, and low mass major pairs: 108, 9, 1\n",
      "Snapshot 6 - total number of all pairs, median pairs, and low mass major pairs: 264, 22, 0\n",
      "Snapshot 7 - total number of all pairs, median pairs, and low mass major pairs: 600, 50, 4\n",
      "Snapshot 8 - total number of all pairs, median pairs, and low mass major pairs: 1260, 105, 10\n",
      "Snapshot 9 - total number of all pairs, median pairs, and low mass major pairs: 2220, 185, 12\n",
      "Snapshot 10 - total number of all pairs, median pairs, and low mass major pairs: 3564, 297, 21\n",
      "Snapshot 11 - total number of all pairs, median pairs, and low mass major pairs: 4848, 404, 25\n",
      "Snapshot 12 - total number of all pairs, median pairs, and low mass major pairs: 8796, 733, 49\n",
      "Snapshot 13 - total number of all pairs, median pairs, and low mass major pairs: 15108, 1259, 85\n",
      "Snapshot 14 - total number of all pairs, median pairs, and low mass major pairs: 17748, 1479, 126\n",
      "Snapshot 15 - total number of all pairs, median pairs, and low mass major pairs: 23628, 1969, 163\n",
      "Snapshot 16 - total number of all pairs, median pairs, and low mass major pairs: 31224, 2602, 212\n",
      "Snapshot 17 - total number of all pairs, median pairs, and low mass major pairs: 38460, 3205, 244\n",
      "Snapshot 18 - total number of all pairs, median pairs, and low mass major pairs: 50100, 4175, 331\n",
      "Snapshot 19 - total number of all pairs, median pairs, and low mass major pairs: 59292, 4941, 411\n",
      "Snapshot 20 - total number of all pairs, median pairs, and low mass major pairs: 70812, 5901, 483\n",
      "Snapshot 21 - total number of all pairs, median pairs, and low mass major pairs: 80112, 6676, 583\n",
      "Snapshot 22 - total number of all pairs, median pairs, and low mass major pairs: 95592, 7966, 675\n",
      "Snapshot 23 - total number of all pairs, median pairs, and low mass major pairs: 108588, 9049, 758\n",
      "Snapshot 24 - total number of all pairs, median pairs, and low mass major pairs: 121356, 10113, 837\n",
      "Snapshot 25 - total number of all pairs, median pairs, and low mass major pairs: 140208, 11684, 934\n",
      "Snapshot 26 - total number of all pairs, median pairs, and low mass major pairs: 147684, 12307, 1027\n",
      "Snapshot 27 - total number of all pairs, median pairs, and low mass major pairs: 159684, 13307, 1154\n",
      "Snapshot 28 - total number of all pairs, median pairs, and low mass major pairs: 169368, 14114, 1193\n",
      "Snapshot 29 - total number of all pairs, median pairs, and low mass major pairs: 178104, 14842, 1291\n",
      "Snapshot 30 - total number of all pairs, median pairs, and low mass major pairs: 185244, 15437, 1330\n",
      "Snapshot 31 - total number of all pairs, median pairs, and low mass major pairs: 191628, 15969, 1382\n",
      "Snapshot 32 - total number of all pairs, median pairs, and low mass major pairs: 196284, 16357, 1393\n",
      "Snapshot 33 - total number of all pairs, median pairs, and low mass major pairs: 201780, 16815, 1419\n",
      "Snapshot 34 - total number of all pairs, median pairs, and low mass major pairs: 205728, 17144, 1394\n",
      "Snapshot 35 - total number of all pairs, median pairs, and low mass major pairs: 209580, 17465, 1395\n",
      "Snapshot 36 - total number of all pairs, median pairs, and low mass major pairs: 212676, 17723, 1393\n",
      "Snapshot 37 - total number of all pairs, median pairs, and low mass major pairs: 215196, 17933, 1337\n",
      "Snapshot 38 - total number of all pairs, median pairs, and low mass major pairs: 217020, 18085, 1337\n",
      "Snapshot 39 - total number of all pairs, median pairs, and low mass major pairs: 218712, 18226, 1313\n",
      "Snapshot 40 - total number of all pairs, median pairs, and low mass major pairs: 219468, 18289, 1330\n",
      "Snapshot 41 - total number of all pairs, median pairs, and low mass major pairs: 219948, 18329, 1311\n",
      "Snapshot 42 - total number of all pairs, median pairs, and low mass major pairs: 220116, 18343, 1263\n",
      "Snapshot 43 - total number of all pairs, median pairs, and low mass major pairs: 220788, 18399, 1258\n",
      "Snapshot 44 - total number of all pairs, median pairs, and low mass major pairs: 221376, 18448, 1259\n",
      "Snapshot 45 - total number of all pairs, median pairs, and low mass major pairs: 220560, 18380, 1242\n",
      "Snapshot 46 - total number of all pairs, median pairs, and low mass major pairs: 220152, 18346, 1205\n",
      "Snapshot 47 - total number of all pairs, median pairs, and low mass major pairs: 220332, 18361, 1189\n",
      "Snapshot 49 - total number of all pairs, median pairs, and low mass major pairs: 219756, 18313, 1124\n",
      "Snapshot 50 - total number of all pairs, median pairs, and low mass major pairs: 219816, 18318, 1149\n",
      "Snapshot 51 - total number of all pairs, median pairs, and low mass major pairs: 219216, 18268, 1098\n",
      "Snapshot 52 - total number of all pairs, median pairs, and low mass major pairs: 219372, 18281, 1127\n",
      "Snapshot 53 - total number of all pairs, median pairs, and low mass major pairs: 219240, 18270, 1086\n",
      "Snapshot 54 - total number of all pairs, median pairs, and low mass major pairs: 218424, 18202, 1070\n",
      "Snapshot 55 - total number of all pairs, median pairs, and low mass major pairs: 218040, 18170, 1053\n",
      "Snapshot 56 - total number of all pairs, median pairs, and low mass major pairs: 217416, 18118, 1023\n",
      "Snapshot 57 - total number of all pairs, median pairs, and low mass major pairs: 216732, 18061, 995\n",
      "Snapshot 58 - total number of all pairs, median pairs, and low mass major pairs: 215952, 17996, 970\n",
      "Snapshot 59 - total number of all pairs, median pairs, and low mass major pairs: 215376, 17948, 986\n",
      "Snapshot 60 - total number of all pairs, median pairs, and low mass major pairs: 215364, 17947, 966\n",
      "Snapshot 61 - total number of all pairs, median pairs, and low mass major pairs: 215592, 17966, 913\n",
      "Snapshot 62 - total number of all pairs, median pairs, and low mass major pairs: 214284, 17857, 889\n",
      "Snapshot 63 - total number of all pairs, median pairs, and low mass major pairs: 213192, 17766, 857\n",
      "Snapshot 64 - total number of all pairs, median pairs, and low mass major pairs: 213624, 17802, 839\n",
      "Snapshot 65 - total number of all pairs, median pairs, and low mass major pairs: 213372, 17781, 832\n",
      "Snapshot 66 - total number of all pairs, median pairs, and low mass major pairs: 212580, 17715, 827\n",
      "Snapshot 67 - total number of all pairs, median pairs, and low mass major pairs: 210624, 17552, 809\n",
      "Snapshot 68 - total number of all pairs, median pairs, and low mass major pairs: 209268, 17439, 783\n",
      "Snapshot 69 - total number of all pairs, median pairs, and low mass major pairs: 208656, 17388, 739\n",
      "Snapshot 70 - total number of all pairs, median pairs, and low mass major pairs: 208500, 17375, 727\n",
      "Snapshot 71 - total number of all pairs, median pairs, and low mass major pairs: 207252, 17271, 711\n",
      "Snapshot 72 - total number of all pairs, median pairs, and low mass major pairs: 206808, 17234, 696\n",
      "Snapshot 73 - total number of all pairs, median pairs, and low mass major pairs: 206496, 17208, 706\n",
      "Snapshot 74 - total number of all pairs, median pairs, and low mass major pairs: 204780, 17065, 696\n",
      "Snapshot 75 - total number of all pairs, median pairs, and low mass major pairs: 203772, 16981, 686\n",
      "Snapshot 76 - total number of all pairs, median pairs, and low mass major pairs: 202872, 16906, 664\n",
      "Snapshot 77 - total number of all pairs, median pairs, and low mass major pairs: 201924, 16827, 663\n",
      "Snapshot 78 - total number of all pairs, median pairs, and low mass major pairs: 201168, 16764, 647\n",
      "Snapshot 79 - total number of all pairs, median pairs, and low mass major pairs: 200160, 16680, 621\n",
      "Snapshot 80 - total number of all pairs, median pairs, and low mass major pairs: 198372, 16531, 619\n",
      "Snapshot 81 - total number of all pairs, median pairs, and low mass major pairs: 197904, 16492, 628\n",
      "Snapshot 82 - total number of all pairs, median pairs, and low mass major pairs: 197208, 16434, 583\n",
      "Snapshot 83 - total number of all pairs, median pairs, and low mass major pairs: 196368, 16364, 577\n"
     ]
    },
    {
     "name": "stdout",
     "output_type": "stream",
     "text": [
      "Snapshot 84 - total number of all pairs, median pairs, and low mass major pairs: 196020, 16335, 556\n",
      "Snapshot 85 - total number of all pairs, median pairs, and low mass major pairs: 195120, 16260, 547\n",
      "Snapshot 86 - total number of all pairs, median pairs, and low mass major pairs: 194880, 16240, 533\n",
      "Snapshot 87 - total number of all pairs, median pairs, and low mass major pairs: 193416, 16118, 548\n",
      "Snapshot 88 - total number of all pairs, median pairs, and low mass major pairs: 193056, 16088, 524\n",
      "Snapshot 89 - total number of all pairs, median pairs, and low mass major pairs: 191460, 15955, 525\n",
      "Snapshot 90 - total number of all pairs, median pairs, and low mass major pairs: 190140, 15845, 511\n",
      "Snapshot 91 - total number of all pairs, median pairs, and low mass major pairs: 189636, 15803, 504\n",
      "Snapshot 92 - total number of all pairs, median pairs, and low mass major pairs: 188928, 15744, 495\n",
      "Snapshot 93 - total number of all pairs, median pairs, and low mass major pairs: 188808, 15734, 465\n",
      "Snapshot 94 - total number of all pairs, median pairs, and low mass major pairs: 187860, 15655, 437\n",
      "Snapshot 95 - total number of all pairs, median pairs, and low mass major pairs: 187140, 15595, 433\n",
      "Snapshot 96 - total number of all pairs, median pairs, and low mass major pairs: 186852, 15571, 424\n",
      "Snapshot 97 - total number of all pairs, median pairs, and low mass major pairs: 185796, 15483, 405\n",
      "Snapshot 98 - total number of all pairs, median pairs, and low mass major pairs: 185064, 15422, 395\n",
      "Snapshot 99 - total number of all pairs, median pairs, and low mass major pairs: 184740, 15395, 389\n"
     ]
    }
   ],
   "source": [
    "# test\n",
    "np.arange(0,100,1)\n",
    "for i in np.arange(0,100,1):\n",
    "    if i == 48:\n",
    "        continue\n",
    "    pull_lowmass_pairs(i)\n"
   ]
  },
  {
   "cell_type": "markdown",
   "id": "022a1be5",
   "metadata": {},
   "source": [
    "## Calculate merger fraction vs. z"
   ]
  },
  {
   "cell_type": "code",
   "execution_count": 52,
   "id": "0dd4db4f",
   "metadata": {},
   "outputs": [],
   "source": [
    "def calculate_mergerfrac(snapshot):\n",
    "    \n",
    "    f = h5py.File(f\"../../data/hail-mary/lowmass_{snapshot}.hdf5\", 'r')\n",
    "    pairs = {}\n",
    "    for key, val in f.items():\n",
    "        if key == \"Header\":\n",
    "            continue\n",
    "        pairs[key] = np.array(val)\n",
    "        \n",
    "        redshift = f[\"Header\"].attrs[\"Redshift\"]\n",
    "    f.close()\n",
    "    \n",
    "    if len(pairs['Sub1 ID']) == 0:\n",
    "        return 0\n",
    "    \n",
    "    else:\n",
    "        # init array\n",
    "        merger_root= np.zeros(len(pairs['Sub1 ID']))\n",
    "\n",
    "        # for each subhalo pair, check if they merge and update data arrays\n",
    "        for ind in range(len(pairs['Sub1 ID'])):\n",
    "            primary_id = pairs['Sub1 ID'][ind]\n",
    "            secondary_id = pairs['Sub2 ID'][ind]\n",
    "\n",
    "            treedict = {}\n",
    "            for sub in [primary_id,secondary_id]:\n",
    "                treedict[sub] = TraceMergerTree(snapshot=snapshot,physics=\"hydro\",sim=\"TNG\",subfindID=sub)\n",
    "\n",
    "            tree_primary = treedict[primary_id].mergedbranch\n",
    "            tree_secondary = treedict[secondary_id].mergedbranch\n",
    "\n",
    "            # check if root descendant ID is the same between the two halos\n",
    "            root1 = tree_primary['RootDescendantID'][0]\n",
    "            root2 = tree_secondary['RootDescendantID'][0]\n",
    "            check_root = root1 == root2\n",
    "\n",
    "            if check_root:\n",
    "                merger_root[ind] = True\n",
    "            else: \n",
    "                merger_root[ind] = False\n",
    "                \n",
    "        # I think this can't happen, but just in case of div by 0\n",
    "        if len(merger_root) == 0:\n",
    "            return np.nan\n",
    "        else:\n",
    "            return np.count_nonzero(merger_root) / len(merger_root)\n"
   ]
  },
  {
   "cell_type": "markdown",
   "id": "1ba9f486",
   "metadata": {},
   "source": [
    "write snapshot and merger fraction to csv file"
   ]
  },
  {
   "cell_type": "code",
   "execution_count": 53,
   "id": "9900bd4a",
   "metadata": {},
   "outputs": [],
   "source": [
    "from csv import writer\n",
    "\n",
    "for i in np.arange(0,100,1):\n",
    "    if i == 48:\n",
    "        continue\n",
    "        \n",
    "    mergfrac = calculate_mergerfrac(i)\n",
    "\n",
    "    with open('../../data/hail-mary/merger_fraction.csv', 'a') as file_obj:\n",
    "        writer(file_obj).writerow([i,mergfrac])\n",
    "        file_obj.close()"
   ]
  },
  {
   "cell_type": "code",
   "execution_count": null,
   "id": "32b88955",
   "metadata": {},
   "outputs": [],
   "source": []
  },
  {
   "cell_type": "code",
   "execution_count": 3,
   "id": "132a30fd",
   "metadata": {},
   "outputs": [],
   "source": [
    "dat = pd.read_csv('../../data/hail-mary/merger_fraction.csv',names=np.array([\"Snapshot\",\"Fraction\"]))\n"
   ]
  },
  {
   "cell_type": "code",
   "execution_count": 4,
   "id": "760cb4d3",
   "metadata": {},
   "outputs": [
    {
     "data": {
      "text/html": [
       "<div>\n",
       "<style scoped>\n",
       "    .dataframe tbody tr th:only-of-type {\n",
       "        vertical-align: middle;\n",
       "    }\n",
       "\n",
       "    .dataframe tbody tr th {\n",
       "        vertical-align: top;\n",
       "    }\n",
       "\n",
       "    .dataframe thead th {\n",
       "        text-align: right;\n",
       "    }\n",
       "</style>\n",
       "<table border=\"1\" class=\"dataframe\">\n",
       "  <thead>\n",
       "    <tr style=\"text-align: right;\">\n",
       "      <th></th>\n",
       "      <th>Snapshot</th>\n",
       "      <th>Fraction</th>\n",
       "    </tr>\n",
       "  </thead>\n",
       "  <tbody>\n",
       "    <tr>\n",
       "      <th>40</th>\n",
       "      <td>40</td>\n",
       "      <td>0.900752</td>\n",
       "    </tr>\n",
       "    <tr>\n",
       "      <th>41</th>\n",
       "      <td>41</td>\n",
       "      <td>0.893211</td>\n",
       "    </tr>\n",
       "    <tr>\n",
       "      <th>42</th>\n",
       "      <td>42</td>\n",
       "      <td>0.892320</td>\n",
       "    </tr>\n",
       "    <tr>\n",
       "      <th>43</th>\n",
       "      <td>43</td>\n",
       "      <td>0.887917</td>\n",
       "    </tr>\n",
       "    <tr>\n",
       "      <th>44</th>\n",
       "      <td>44</td>\n",
       "      <td>0.878475</td>\n",
       "    </tr>\n",
       "    <tr>\n",
       "      <th>45</th>\n",
       "      <td>45</td>\n",
       "      <td>0.869565</td>\n",
       "    </tr>\n",
       "    <tr>\n",
       "      <th>46</th>\n",
       "      <td>46</td>\n",
       "      <td>0.868050</td>\n",
       "    </tr>\n",
       "    <tr>\n",
       "      <th>47</th>\n",
       "      <td>47</td>\n",
       "      <td>0.868797</td>\n",
       "    </tr>\n",
       "    <tr>\n",
       "      <th>48</th>\n",
       "      <td>49</td>\n",
       "      <td>0.860320</td>\n",
       "    </tr>\n",
       "    <tr>\n",
       "      <th>49</th>\n",
       "      <td>50</td>\n",
       "      <td>0.847694</td>\n",
       "    </tr>\n",
       "    <tr>\n",
       "      <th>50</th>\n",
       "      <td>51</td>\n",
       "      <td>0.836066</td>\n",
       "    </tr>\n",
       "    <tr>\n",
       "      <th>51</th>\n",
       "      <td>52</td>\n",
       "      <td>0.832298</td>\n",
       "    </tr>\n",
       "    <tr>\n",
       "      <th>52</th>\n",
       "      <td>53</td>\n",
       "      <td>0.818600</td>\n",
       "    </tr>\n",
       "    <tr>\n",
       "      <th>53</th>\n",
       "      <td>54</td>\n",
       "      <td>0.812150</td>\n",
       "    </tr>\n",
       "    <tr>\n",
       "      <th>54</th>\n",
       "      <td>55</td>\n",
       "      <td>0.793922</td>\n",
       "    </tr>\n",
       "    <tr>\n",
       "      <th>55</th>\n",
       "      <td>56</td>\n",
       "      <td>0.787879</td>\n",
       "    </tr>\n",
       "    <tr>\n",
       "      <th>56</th>\n",
       "      <td>57</td>\n",
       "      <td>0.780905</td>\n",
       "    </tr>\n",
       "    <tr>\n",
       "      <th>57</th>\n",
       "      <td>58</td>\n",
       "      <td>0.776289</td>\n",
       "    </tr>\n",
       "    <tr>\n",
       "      <th>58</th>\n",
       "      <td>59</td>\n",
       "      <td>0.765720</td>\n",
       "    </tr>\n",
       "    <tr>\n",
       "      <th>59</th>\n",
       "      <td>60</td>\n",
       "      <td>0.762940</td>\n",
       "    </tr>\n",
       "  </tbody>\n",
       "</table>\n",
       "</div>"
      ],
      "text/plain": [
       "    Snapshot  Fraction\n",
       "40        40  0.900752\n",
       "41        41  0.893211\n",
       "42        42  0.892320\n",
       "43        43  0.887917\n",
       "44        44  0.878475\n",
       "45        45  0.869565\n",
       "46        46  0.868050\n",
       "47        47  0.868797\n",
       "48        49  0.860320\n",
       "49        50  0.847694\n",
       "50        51  0.836066\n",
       "51        52  0.832298\n",
       "52        53  0.818600\n",
       "53        54  0.812150\n",
       "54        55  0.793922\n",
       "55        56  0.787879\n",
       "56        57  0.780905\n",
       "57        58  0.776289\n",
       "58        59  0.765720\n",
       "59        60  0.762940"
      ]
     },
     "execution_count": 4,
     "metadata": {},
     "output_type": "execute_result"
    }
   ],
   "source": [
    "dat[40:60]"
   ]
  },
  {
   "cell_type": "code",
   "execution_count": 63,
   "id": "e9b19298",
   "metadata": {},
   "outputs": [
    {
     "data": {
      "image/png": "[encoded data removed]",
      "text/plain": [
       "<Figure size 1000x800 with 1 Axes>"
      ]
     },
     "metadata": {},
     "output_type": "display_data"
    }
   ],
   "source": [
    "fig, ax = plt.subplots(figsize=(10,8))\n",
    "ax.plot(dat['Snapshot'],dat['Fraction'])\n",
    "plt.show()"
   ]
  },
  {
   "cell_type": "code",
   "execution_count": 68,
   "id": "5a5385ec",
   "metadata": {},
   "outputs": [],
   "source": [
    "f = h5py.File(f\"{paths.path_data}hail-mary/snapshot_data.hdf5\",'r')\n",
    "snap_dict = {}\n",
    "for key, val in f.items():\n",
    "    snap_dict[key] = np.array(val)\n",
    "f.close()"
   ]
  },
  {
   "cell_type": "code",
   "execution_count": 73,
   "id": "c09a9988",
   "metadata": {},
   "outputs": [
    {
     "data": {
      "image/png": "[encoded data removed]",
      "text/plain": [
       "<Figure size 800x600 with 1 Axes>"
      ]
     },
     "metadata": {},
     "output_type": "display_data"
    }
   ],
   "source": [
    "fig, ax = plt.subplots(figsize=(8,6))\n",
    "ax.plot(snap_dict['Redshift'][0:-1],dat['Fraction'])\n",
    "ax.set_xlim(-0.1,7.5)\n",
    "ax.set_xlabel(\"Redshift\")\n",
    "ax.set_ylabel(\"Fraction that merge\")\n",
    "plt.show()"
   ]
  },
  {
   "cell_type": "markdown",
   "id": "3a80cea4",
   "metadata": {},
   "source": [
    "## Checking an individual merger tree"
   ]
  },
  {
   "cell_type": "code",
   "execution_count": 9,
   "id": "f1d306bf",
   "metadata": {},
   "outputs": [],
   "source": [
    "snapshot = 40\n",
    "primary_id = 222536\n",
    "secondary_id = 222537\n",
    "\n",
    "treedict = {}\n",
    "for sub in [primary_id,secondary_id]:\n",
    "    treedict[sub] = TraceMergerTree(snapshot=snapshot,physics=\"hydro\",sim=\"TNG\",subfindID=sub)\n",
    "\n",
    "tree_primary = treedict[primary_id].mergedbranch\n",
    "tree_secondary = treedict[secondary_id].mergedbranch\n"
   ]
  },
  {
   "cell_type": "code",
   "execution_count": 11,
   "id": "6d182024",
   "metadata": {},
   "outputs": [
    {
     "data": {
      "text/plain": [
       "48"
      ]
     },
     "execution_count": 11,
     "metadata": {},
     "output_type": "execute_result"
    }
   ],
   "source": [
    "tree_primary['SnapNum'][51]"
   ]
  },
  {
   "cell_type": "code",
   "execution_count": 13,
   "id": "5a99ee75",
   "metadata": {},
   "outputs": [
    {
     "name": "stdout",
     "output_type": "stream",
     "text": [
      "DescendantID 17163820\n",
      "FirstProgenitorID 17163822\n",
      "FirstSubhaloInFOFGroupID 17163821\n",
      "GroupBHMass 0.0016737039\n",
      "GroupBHMdot 0.0033523042\n",
      "GroupCM [31350.701 37512.746 42879.79 ]\n",
      "GroupFirstSub 267835\n",
      "GroupGasMetalFractions [7.5509530e-01 2.4232708e-01 2.2328726e-04 7.3544637e-05 1.4363797e-03\n",
      " 4.2608022e-04 1.3223816e-04 1.1728159e-04 1.0132356e-04 6.7479436e-05]\n",
      "GroupGasMetallicity 0.0025776147\n",
      "GroupLen 338062\n",
      "GroupLenType [135836 186267      0      0  15954      5]\n",
      "GroupMass 109.20178\n",
      "GroupMassType [1.3864560e+01 9.4171806e+01 0.0000000e+00 0.0000000e+00 1.1637439e+00\n",
      " 1.6737055e-03]\n",
      "GroupNsubs 89\n",
      "GroupPos [31325.666 37513.41  42877.516]\n",
      "GroupSFR 13.041488\n",
      "GroupStarMetalFractions [7.4772078e-01 2.4343729e-01 7.3259161e-04 2.4252701e-04 4.9653333e-03\n",
      " 1.4804988e-03 4.5781379e-04 4.0228505e-04 3.3417941e-04 2.2673378e-04]\n",
      "GroupStarMetallicity 0.008841963\n",
      "GroupVel [-239.41829    15.865148   20.991928]\n",
      "GroupWindMass 0.04548151\n",
      "Group_M_Crit200 94.91338\n",
      "Group_M_Crit500 72.15929\n",
      "Group_M_Mean200 100.88101\n",
      "Group_M_TopHat200 100.93127\n",
      "Group_R_Crit200 219.45688\n",
      "Group_R_Crit500 147.57852\n",
      "Group_R_Mean200 241.2914\n",
      "Group_R_TopHat200 241.47539\n",
      "LastProgenitorID 17164825\n",
      "MainLeafProgenitorID 17163865\n",
      "Mass 1.5253177\n",
      "MassHistory 266.47253\n",
      "NextProgenitorID -1\n",
      "NextSubhaloInFOFGroupID 17161473\n",
      "NumParticles 3017\n",
      "RootDescendantID 17157342\n",
      "SnapNum 48\n",
      "SubfindID 267838\n",
      "SubhaloBHMass 0.00028733775\n",
      "SubhaloBHMdot 0.0008189517\n",
      "SubhaloBfldDisk 0.024362994\n",
      "SubhaloBfldHalo 0.002986444\n",
      "SubhaloCM [31247.59  37484.742 42916.05 ]\n",
      "SubhaloGasMetalFractions [7.4241680e-01 2.4413380e-01 1.2956583e-03 3.9398097e-04 7.3134177e-03\n",
      " 2.2706455e-03 6.8562332e-04 5.9459306e-04 5.5056775e-04 3.4491561e-04]\n",
      "SubhaloGasMetalFractionsHalfRad [7.3718005e-01 2.4470487e-01 1.7540762e-03 5.3196843e-04 9.8232841e-03\n",
      " 3.0794539e-03 9.2464639e-04 7.9818699e-04 7.4192556e-04 4.6151289e-04]\n",
      "SubhaloGasMetalFractionsMaxRad [7.4847698e-01 2.4331157e-01 7.6103222e-04 2.3508786e-04 4.5173676e-03\n",
      " 1.3726980e-03 4.2078167e-04 3.6564333e-04 3.2797558e-04 2.1085929e-04]\n",
      "SubhaloGasMetalFractionsSfr [7.4746841e-01 2.4331783e-01 8.5751479e-04 2.6317069e-04 5.0595761e-03\n",
      " 1.5497789e-03 4.7250674e-04 4.0900399e-04 3.6710940e-04 2.3507584e-04]\n",
      "SubhaloGasMetalFractionsSfrWeighted [7.4003249e-01 2.4418995e-01 1.5053769e-03 4.5666407e-04 8.5880989e-03\n",
      " 2.6869224e-03 8.0886367e-04 6.9536857e-04 6.3697546e-04 3.9930135e-04]\n",
      "SubhaloGasMetallicity 0.013449402\n",
      "SubhaloGasMetallicityHalfRad 0.018115055\n",
      "SubhaloGasMetallicityMaxRad 0.008211446\n",
      "SubhaloGasMetallicitySfr 0.009213736\n",
      "SubhaloGasMetallicitySfrWeighted 0.015777571\n",
      "SubhaloGrNr 1286\n",
      "SubhaloHalfmassRad 9.67668\n",
      "SubhaloHalfmassRadType [11.762128  9.824696  0.        0.        2.649675  0.      ]\n",
      "SubhaloID 17163821\n",
      "SubhaloIDMostbound 115905425503\n",
      "SubhaloIDRaw 48000000267838\n",
      "SubhaloLen 8951\n",
      "SubhaloLenType [3862 3017    0    0 2071    1]\n",
      "SubhaloMass 2.1128287\n",
      "SubhaloMassInHalfRad 0.26130876\n",
      "SubhaloMassInHalfRadType [0.06432506 0.11779881 0.         0.         0.07889753 0.00028734]\n",
      "SubhaloMassInMaxRad 1.2007335\n",
      "SubhaloMassInMaxRadType [1.9417298e-01 8.5998189e-01 0.0000000e+00 0.0000000e+00 1.4629136e-01\n",
      " 2.8733857e-04]\n",
      "SubhaloMassInRad 0.55511224\n",
      "SubhaloMassInRadType [9.7922958e-02 3.3974594e-01 0.0000000e+00 0.0000000e+00 1.1715603e-01\n",
      " 2.8733857e-04]\n",
      "SubhaloMassType [4.2926389e-01 1.5253177e+00 0.0000000e+00 0.0000000e+00 1.5795982e-01\n",
      " 2.8733857e-04]\n",
      "SubhaloParent 0\n",
      "SubhaloPos [31245.404 37484.414 42916.445]\n",
      "SubhaloSFR 1.6623588\n",
      "SubhaloSFRinHalfRad 1.1451937\n",
      "SubhaloSFRinMaxRad 1.4251733\n",
      "SubhaloSFRinRad 1.2598095\n",
      "SubhaloSpin [48.689728 80.123665 68.7345  ]\n",
      "SubhaloStarMetalFractions [7.4554944e-01 2.4337700e-01 8.7691599e-04 2.9748719e-04 6.2806336e-03\n",
      " 1.8572925e-03 5.7912187e-04 5.0327589e-04 4.0046673e-04 2.7836167e-04]\n",
      "SubhaloStarMetalFractionsHalfRad [7.4297923e-01 2.4380553e-01 1.0779242e-03 3.6075269e-04 7.4432185e-03\n",
      " 2.2279099e-03 6.8934297e-04 5.9785659e-04 4.8632626e-04 3.3192433e-04]\n",
      "SubhaloStarMetalFractionsMaxRad [7.4740225e-01 2.4303125e-01 7.4499933e-04 2.5441512e-04 5.4483088e-03\n",
      " 1.5990530e-03 5.0131633e-04 4.3558909e-04 3.4243317e-04 2.4041078e-04]\n",
      "SubhaloStarMetallicity 0.011073556\n",
      "SubhaloStarMetallicityHalfRad 0.013215255\n",
      "SubhaloStarMetallicityMaxRad 0.009566526\n",
      "SubhaloStellarPhotometrics [-20.362244 -20.023283 -20.208939 -22.02024  -20.23207  -20.306223\n",
      " -20.379362 -20.453135]\n",
      "SubhaloStellarPhotometricsMassInRad 0.058761615\n",
      "SubhaloStellarPhotometricsRad 1.4279581\n",
      "SubhaloVel [-350.11078   -14.656482  133.13216 ]\n",
      "SubhaloVelDisp 61.855362\n",
      "SubhaloVmax 99.01011\n",
      "SubhaloVmaxRad 10.930739\n",
      "SubhaloWindMass 0.0\n",
      "TreeID 0\n"
     ]
    }
   ],
   "source": [
    "for key,val in tree_primary.items():\n",
    "\n",
    "    print(key,val)"
   ]
  },
  {
   "cell_type": "code",
   "execution_count": 17,
   "id": "893bb12f",
   "metadata": {},
   "outputs": [
    {
     "data": {
      "text/plain": [
       "'1716386517161518'"
      ]
     },
     "execution_count": 17,
     "metadata": {},
     "output_type": "execute_result"
    }
   ],
   "source": [
    "str(tree_primary['SubhaloID'][-1])+str(tree_secondary['SubhaloID'][-1])"
   ]
  },
  {
   "cell_type": "code",
   "execution_count": 18,
   "id": "c7fd5ff6",
   "metadata": {},
   "outputs": [],
   "source": [
    "snapshot = 40\n",
    "primary_id = 472321\n",
    "secondary_id = 500736\n",
    "\n",
    "treedict = {}\n",
    "for sub in [primary_id,secondary_id]:\n",
    "    treedict[sub] = TraceMergerTree(snapshot=snapshot,physics=\"hydro\",sim=\"TNG\",subfindID=sub)\n",
    "\n",
    "tree_primary = treedict[primary_id].mergedbranch\n",
    "tree_secondary = treedict[secondary_id].mergedbranch\n"
   ]
  },
  {
   "cell_type": "code",
   "execution_count": 21,
   "id": "d80268ea",
   "metadata": {},
   "outputs": [
    {
     "data": {
      "text/plain": [
       "90000176600000094"
      ]
     },
     "execution_count": 21,
     "metadata": {},
     "output_type": "execute_result"
    }
   ],
   "source": [
    "tree_primary['SubhaloID'][-1]"
   ]
  },
  {
   "cell_type": "code",
   "execution_count": 22,
   "id": "2119692b",
   "metadata": {},
   "outputs": [
    {
     "data": {
      "text/plain": [
       "90000681100000094"
      ]
     },
     "execution_count": 22,
     "metadata": {},
     "output_type": "execute_result"
    }
   ],
   "source": [
    "tree_secondary['SubhaloID'][-1]"
   ]
  },
  {
   "cell_type": "code",
   "execution_count": 26,
   "id": "b54ddafe",
   "metadata": {},
   "outputs": [
    {
     "name": "stdout",
     "output_type": "stream",
     "text": [
      "9000068110000009490000176600000094\n"
     ]
    }
   ],
   "source": [
    "print(f\"{str(tree_secondary['SubhaloID'][-1])+str(tree_primary['SubhaloID'][-1])}\")"
   ]
  },
  {
   "cell_type": "code",
   "execution_count": 32,
   "id": "4091ff19",
   "metadata": {},
   "outputs": [],
   "source": [
    "pk = str(tree_secondary['SubhaloID'][-1])+str(tree_primary['SubhaloID'][-1])+str(984748328)"
   ]
  },
  {
   "cell_type": "code",
   "execution_count": 33,
   "id": "512e4a2b",
   "metadata": {},
   "outputs": [
    {
     "data": {
      "text/plain": [
       "array(['9000068110000009490000176600000094984748328'], dtype='<U43')"
      ]
     },
     "execution_count": 33,
     "metadata": {},
     "output_type": "execute_result"
    }
   ],
   "source": [
    "np.array([pk])"
   ]
  },
  {
   "cell_type": "code",
   "execution_count": null,
   "id": "a4f46b51",
   "metadata": {},
   "outputs": [],
   "source": [
    "dtype='<U43'"
   ]
  }
 ],
 "metadata": {
  "kernelspec": {
   "display_name": "Python 3 (ipykernel)",
   "language": "python",
   "name": "python3"
  },
  "language_info": {
   "codemirror_mode": {
    "name": "ipython",
    "version": 3
   },
   "file_extension": ".py",
   "mimetype": "text/x-python",
   "name": "python",
   "nbconvert_exporter": "python",
   "pygments_lexer": "ipython3",
   "version": "3.8.18"
  },
  "toc": {
   "base_numbering": 1,
   "nav_menu": {},
   "number_sections": true,
   "sideBar": true,
   "skip_h1_title": false,
   "title_cell": "Table of Contents",
   "title_sidebar": "Contents",
   "toc_cell": false,
   "toc_position": {
    "height": "calc(100% - 180px)",
    "left": "10px",
    "top": "150px",
    "width": "244px"
   },
   "toc_section_display": true,
   "toc_window_display": true
  }
 },
 "nbformat": 4,
 "nbformat_minor": 5
}
