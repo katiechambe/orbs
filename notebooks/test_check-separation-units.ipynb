{
 "cells": [
  {
   "cell_type": "code",
   "execution_count": 1,
   "id": "b66c068d",
   "metadata": {},
   "outputs": [
    {
     "name": "stdout",
     "output_type": "stream",
     "text": [
      "imported h5py...\n",
      "modules seem to have loaded?\n"
     ]
    }
   ],
   "source": [
    "import os\n",
    "import h5py\n",
    "import numpy as np\n",
    "import matplotlib.pyplot as plt\n",
    "import sys\n",
    "import importlib\n",
    "from astropy.cosmology import FlatLambdaCDM\n",
    "\n",
    "from utils_orbs.orb_paths import SetupPaths\n",
    "import utils_orbs.readsubfHDF5Py3 as readSub\n",
    "from utils_orbs.read_group_cats import ReadCats\n",
    "from utils_orbs.merger_trees import TraceMergerTree\n",
    "from utils_orbs.readMergerHistoryFiles import FindHistory\n",
    "from utils_orbs.vectorCorrection import vectorCorrection as vector\n",
    "\n",
    "paths = SetupPaths()"
   ]
  },
  {
   "cell_type": "code",
   "execution_count": 2,
   "id": "73beb0c2",
   "metadata": {},
   "outputs": [],
   "source": [
    "plt.show();\n",
    "plt.rcParams.update({'font.size':16,\"xtick.direction\":\"in\",\"ytick.direction\":\"in\", \n",
    "                     \"xtick.top\":True, \"ytick.right\":True,\"text.usetex\":False,\n",
    "                     \"xtick.labelsize\":18,\"ytick.labelsize\":18})"
   ]
  },
  {
   "cell_type": "markdown",
   "id": "1a9a3a7f",
   "metadata": {},
   "source": [
    "# Definitions for this notebook:"
   ]
  },
  {
   "cell_type": "code",
   "execution_count": 3,
   "id": "d1b0c605",
   "metadata": {},
   "outputs": [],
   "source": [
    "z_directory = {\"33\":\"z=2\",\"40\":\"z=1.5\",\"50\":\"z=1\"}"
   ]
  },
  {
   "cell_type": "markdown",
   "id": "24ea1827",
   "metadata": {},
   "source": [
    "## Load in data from hydro catalog"
   ]
  },
  {
   "cell_type": "code",
   "execution_count": 5,
   "id": "3d623103",
   "metadata": {},
   "outputs": [],
   "source": [
    "# load in z=1.5 cat\n",
    "catpath = paths.path_tnghydro\n",
    "keysel_default =  [\n",
    "            'GroupPos','Group_M_TopHat200', \n",
    "            'Group_R_TopHat200','GroupNsubs',\n",
    "            'GroupFirstSub',\n",
    "            'SubhaloGrNr','SubhaloMass',\n",
    "            'SubhaloPos','SubhaloVel' ]\n",
    "    \n",
    "catalog = readSub.subfind_catalog(\n",
    "            basedir=catpath,\n",
    "            snapnum=40,\n",
    "            keysel=keysel_default\n",
    "            )"
   ]
  },
  {
   "cell_type": "code",
   "execution_count": 14,
   "id": "d0330268",
   "metadata": {},
   "outputs": [
    {
     "data": {
      "text/plain": [
       "array([32281.42578125, 37403.015625  , 42837.59765625])"
      ]
     },
     "execution_count": 14,
     "metadata": {},
     "output_type": "execute_result"
    }
   ],
   "source": [
    "catalog.SubhaloPos[222536]"
   ]
  },
  {
   "cell_type": "markdown",
   "id": "02ffc8c0",
   "metadata": {},
   "source": [
    "## Load in data from orbit data"
   ]
  },
  {
   "cell_type": "code",
   "execution_count": 6,
   "id": "77e48e63",
   "metadata": {},
   "outputs": [],
   "source": [
    "orbit_dict = {}\n",
    "for snap in [33,40,50]:\n",
    "    f = h5py.File(f\"{paths.path_data}orbitdata_{snap}.hdf5\",'r')\n",
    "    orbit_dict[str(snap)] = {}\n",
    "    for key, val in f.items():\n",
    "        orbit_dict[str(snap)][key] = np.array(val)\n",
    "    f.close()\n",
    "\n",
    "f = h5py.File(f\"{paths.path_data}snapshot_data.hdf5\",'r')\n",
    "snap_dict = {}\n",
    "for key, val in f.items():\n",
    "    snap_dict[key] = np.array(val)\n",
    "f.close()"
   ]
  },
  {
   "cell_type": "code",
   "execution_count": 7,
   "id": "c98145a8",
   "metadata": {},
   "outputs": [
    {
     "name": "stdout",
     "output_type": "stream",
     "text": [
      "Subfind ID 1: 222536.0\n",
      "Subfind ID 2: 222537.0\n"
     ]
    }
   ],
   "source": [
    "print(f\"Subfind ID 1: {orbit_dict['40']['SubfindID1'][0]}\")\n",
    "print(f\"Subfind ID 2: {orbit_dict['40']['SubfindID2'][0]}\")"
   ]
  },
  {
   "cell_type": "code",
   "execution_count": 8,
   "id": "e8536524",
   "metadata": {},
   "outputs": [
    {
     "name": "stdout",
     "output_type": "stream",
     "text": [
      "Separation: 185.53270051150062 kpc\n",
      "Velocity: 145.11892700195312 km/s\n"
     ]
    }
   ],
   "source": [
    "loc = np.where(snap_dict['Snapshot'][::-1][:-1]==40)[0]\n",
    "print(f\"Separation: {orbit_dict['40']['Separations'][0][loc[0]]} kpc\") \n",
    "print(f\"Velocity: {orbit_dict['40']['Velocities'][0][loc[0]]} km/s\")"
   ]
  },
  {
   "cell_type": "markdown",
   "id": "f3de84dd",
   "metadata": {},
   "source": [
    "## Load in data from pair catalog"
   ]
  },
  {
   "cell_type": "code",
   "execution_count": 15,
   "id": "d4e15fcb",
   "metadata": {},
   "outputs": [],
   "source": [
    "f = h5py.File(f\"../data/lowmass_40.hdf5\", 'r')\n",
    "pairs = {}\n",
    "for key, val in f.items():\n",
    "    if key != \"Header\":\n",
    "        pairs[key] = np.array(val) \n",
    "f.close()"
   ]
  },
  {
   "cell_type": "code",
   "execution_count": 29,
   "id": "d97ef301",
   "metadata": {},
   "outputs": [
    {
     "data": {
      "text/plain": [
       "array([19096.23824094, 22125.94022781, 25340.79430247])"
      ]
     },
     "execution_count": 29,
     "metadata": {},
     "output_type": "execute_result"
    }
   ],
   "source": [
    "little_h  = 0.6774\n",
    "scale = 1/(1+catalog.redshift)\n",
    "\n",
    "pairs['Sub1 Pos'][0]"
   ]
  },
  {
   "cell_type": "code",
   "execution_count": 41,
   "id": "84d94bea",
   "metadata": {},
   "outputs": [
    {
     "name": "stdout",
     "output_type": "stream",
     "text": [
      "Masses are equal (in physical units)\n"
     ]
    }
   ],
   "source": [
    "# check that masses are equal:\n",
    "catmass = catalog.SubhaloMass[222536]\n",
    "samplemass = pairs['Sub1 Mass'][0]\n",
    "if catmass/little_h == samplemass:\n",
    "    print(\"Masses are equal (in physical units)\")\n",
    "else:\n",
    "    print(\"Masses are unequal\")\n"
   ]
  },
  {
   "cell_type": "code",
   "execution_count": 43,
   "id": "2f8f4214",
   "metadata": {},
   "outputs": [
    {
     "name": "stdout",
     "output_type": "stream",
     "text": [
      "Physical positions are equal (in physical units)\n"
     ]
    }
   ],
   "source": [
    "# check that positions are equal:\n",
    "catpos = catalog.SubhaloPos[222536]\n",
    "samplepos = pairs['Sub1 Pos'][0]\n",
    "if (scale*catpos/little_h == samplepos).all:\n",
    "    print(\"Physical positions are equal (in physical units)\")\n",
    "else:\n",
    "    print(\"Positions are unequal\")"
   ]
  },
  {
   "cell_type": "code",
   "execution_count": 34,
   "id": "ddc3bd47",
   "metadata": {},
   "outputs": [],
   "source": [
    "comov1 = catalog.SubhaloPos[222536]\n",
    "comov2 = catalog.SubhaloPos[222537]\n",
    "comovdist = np.linalg.norm(vector(comov1,comov2,75000))\n",
    "\n",
    "phys1 = pairs['Sub1 Pos'][0]\n",
    "phys2 = pairs['Sub2 Pos'][0]\n",
    "physdist = np.linalg.norm(vector(phys1,phys2,75000))"
   ]
  },
  {
   "cell_type": "code",
   "execution_count": 45,
   "id": "b274f40d",
   "metadata": {},
   "outputs": [
    {
     "name": "stdout",
     "output_type": "stream",
     "text": [
      "The physical separations are equal\n"
     ]
    }
   ],
   "source": [
    "if round(scale*comovdist/little_h,4) == round(physdist,4):\n",
    "    print(\"The physical separations are equal\")\n",
    "else:\n",
    "    print(\"Physical separations differ\")\n"
   ]
  },
  {
   "cell_type": "markdown",
   "id": "c4c6df2f",
   "metadata": {},
   "source": [
    "Units look correct, so I will be able to just divide the physical distance that I have by the scale and multiply by little h to get the units in ckpc/h! "
   ]
  },
  {
   "cell_type": "code",
   "execution_count": null,
   "id": "1c9dee1e",
   "metadata": {},
   "outputs": [],
   "source": []
  }
 ],
 "metadata": {
  "kernelspec": {
   "display_name": "Python 3 (ipykernel)",
   "language": "python",
   "name": "python3"
  },
  "language_info": {
   "codemirror_mode": {
    "name": "ipython",
    "version": 3
   },
   "file_extension": ".py",
   "mimetype": "text/x-python",
   "name": "python",
   "nbconvert_exporter": "python",
   "pygments_lexer": "ipython3",
   "version": "3.8.18"
  },
  "toc": {
   "base_numbering": 1,
   "nav_menu": {},
   "number_sections": true,
   "sideBar": true,
   "skip_h1_title": false,
   "title_cell": "Table of Contents",
   "title_sidebar": "Contents",
   "toc_cell": false,
   "toc_position": {
    "height": "calc(100% - 180px)",
    "left": "10px",
    "top": "150px",
    "width": "192px"
   },
   "toc_section_display": true,
   "toc_window_display": true
  }
 },
 "nbformat": 4,
 "nbformat_minor": 5
}
