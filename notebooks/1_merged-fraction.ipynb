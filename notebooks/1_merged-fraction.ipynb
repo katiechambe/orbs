{
 "cells": [
  {
   "cell_type": "markdown",
   "id": "569b1025",
   "metadata": {},
   "source": [
    "## to do some day - \n",
    "- update information about this notebook and what it does "
   ]
  },
  {
   "cell_type": "markdown",
   "id": "203cc3c2",
   "metadata": {},
   "source": [
    "Merger definition for this project: \n",
    " - RG 2015, 2017, Patton 2020, Ventou 2020 all use same definition of merging:\n",
    "     - when a subhalo has two or more direct progenitors, the progenitors \"merged\"\n",
    "     - can check the subhalo descendent ID's and find the first snapshot where they are the same? (would this cover places where the subhalo descendent has a progenitor that skips a snapshot? -> can check by doing Root Descendant ID check as well.)\n",
    "     \n",
    "\n",
    "to do: \n",
    "- quantify how many pairs will merge in the future\n",
    "- quantify the fraction that merge as a function of the separation of the pair at z=1, 1.5, 2\n",
    "- need to pull out all pairs at z=1, 1.5, 2 and their orbits\n"
   ]
  },
  {
   "cell_type": "markdown",
   "id": "d76a6f5e",
   "metadata": {},
   "source": [
    "\"merged\" snapshot after the descendant ID is the same number at a single snapshot\n",
    "\n",
    "## To do for Oct. 10:\n",
    "- make function to calculate the fraction for a given redshift\n",
    "- find the merger fractions for z=1,1.5,2\n",
    "- save the data for the merger fractions\n",
    "\n",
    "- think about next steps, i.e. saving separations\n",
    "- think about how to quantify the fraction that merge as a function of the separation (bin in separation at the redshift, find fraction of things in that separation that merge)\n",
    "\n",
    "**Done:**\n",
    "- implement merger definition for one pair in z=1.5\n",
    "- check for easiest way to define (and when?) \n",
    "- get merged fraction for z=1.5 via RootDescendantID method\n",
    "- get merged fraction for z=1.5 via merger definition"
   ]
  },
  {
   "cell_type": "code",
   "execution_count": 2,
   "id": "67b6f9a2",
   "metadata": {},
   "outputs": [
    {
     "name": "stdout",
     "output_type": "stream",
     "text": [
      "imported h5py...\n",
      "modules seem to have loaded?\n"
     ]
    }
   ],
   "source": [
    "import h5py\n",
    "import numpy as np\n",
    "import matplotlib.pyplot as plt\n",
    "import sys\n",
    "import importlib\n",
    "\n",
    "from utils_orbs.orb_paths import SetupPaths\n",
    "import utils_orbs.readsubfHDF5Py3 as readSub\n",
    "# from utils.read_group_cats import ReadCats\n",
    "from utils_orbs.merger_trees import TraceMergerTree\n",
    "from utils_orbs.readMergerHistoryFiles import FindHistory\n",
    "from utils_orbs.vectorCorrection import vectorCorrection as vector\n",
    "\n",
    "paths = SetupPaths()"
   ]
  },
  {
   "cell_type": "code",
   "execution_count": 3,
   "id": "56983432",
   "metadata": {},
   "outputs": [],
   "source": [
    "plt.show();\n",
    "plt.rcParams.update({'font.size':20,\"xtick.direction\":\"in\",\"ytick.direction\":\"in\", \n",
    "                     \"xtick.top\":True, \"ytick.right\":True,\"text.usetex\":False,\n",
    "                     \"xtick.labelsize\":18,\"ytick.labelsize\":18})"
   ]
  },
  {
   "cell_type": "markdown",
   "id": "17d263b6",
   "metadata": {},
   "source": [
    "Goal: \n",
    "- get first z=1.5 pair (snapshot 40), and pull out matched lists of descendant info"
   ]
  },
  {
   "cell_type": "code",
   "execution_count": 9,
   "id": "84943f11",
   "metadata": {},
   "outputs": [],
   "source": [
    "# assign all the data to a dictionary and close hdf5 file\n",
    "f = h5py.File(f\"../data/lowmass_z1p5.hdf5\", 'r')\n",
    "pairs = {}\n",
    "for key, val in f.items():\n",
    "    if key == \"Header\":\n",
    "        continue\n",
    "    pairs[key]=np.array(val)\n",
    "f.close()\n",
    "    "
   ]
  },
  {
   "cell_type": "code",
   "execution_count": 8,
   "id": "0e00f18e",
   "metadata": {},
   "outputs": [],
   "source": [
    "# grab subfind id's of first pair\n",
    "pair1 = pairs['Sub1 ID'][0]\n",
    "pair2 = pairs['Sub2 ID'][0]\n",
    "\n",
    "mass1 = pairs['Sub1 Mass'][0]\n",
    "mass2 = pairs['Sub2 Mass'][0]"
   ]
  },
  {
   "cell_type": "code",
   "execution_count": 26,
   "id": "876158d7",
   "metadata": {},
   "outputs": [],
   "source": [
    "# get the merger trees for each subhalo and make sure the mass makes sense\n",
    "# note: all values returned by the merger trees past, future, and merged \n",
    "#     branches are in simulation units\n",
    "treedict = {}\n",
    "for sub in [pair1,pair2]:\n",
    "    treedict[sub] = TraceMergerTree(snapshot=40,physics=\"hydro\",sim=\"TNG\",subfindID=sub)"
   ]
  },
  {
   "cell_type": "code",
   "execution_count": 28,
   "id": "5846ef52",
   "metadata": {},
   "outputs": [
    {
     "name": "stdout",
     "output_type": "stream",
     "text": [
      "35.549774260023966 35.549774260023966\n",
      "27.455131951988992 27.455131951988992\n"
     ]
    }
   ],
   "source": [
    "# converting to physical units for TNG and making sure masses are correct at z=1.5\n",
    "little_h = 0.6774\n",
    "\n",
    "print(mass1,treedict[pair1].mergedbranch['SubhaloMass'][treedict[pair1].mergedbranch['SnapNum']==40][0]/little_h)\n",
    "print(mass2,treedict[pair2].mergedbranch['SubhaloMass'][treedict[pair2].mergedbranch['SnapNum']==40][0]/little_h)"
   ]
  },
  {
   "cell_type": "markdown",
   "id": "0aeaefe8",
   "metadata": {},
   "source": [
    "- 'DescendantID'\n",
    "- 'FirstProgenitorID'\n",
    "- 'FirstSubhaloInFOFGroupID'\n",
    "- 'LastProgenitorID'\n",
    "- 'MainLeafProgenitorID'\n",
    "- 'Mass'\n",
    "- 'MassHistory'\n",
    "- 'NextProgenitorID'\n",
    "- 'NextSubhaloInFOFGroupID'\n",
    "- 'NumParticles'\n",
    "- 'RootDescendantID'\n",
    "- 'SnapNum'\n",
    "- 'SubfindID'"
   ]
  },
  {
   "cell_type": "markdown",
   "id": "b8eaba0f",
   "metadata": {},
   "source": [
    "If I want to make a loop that goes through and figures out the location/snapshot of merger, I can FIRST check for RootDescendantID to see if they are the same, and if they are, then they should have the same Descendant ID or Last Progenitor ID up until the snapshot where they merged (i.e. I can count them)"
   ]
  },
  {
   "cell_type": "code",
   "execution_count": 39,
   "id": "aec7c5fa",
   "metadata": {},
   "outputs": [
    {
     "data": {
      "text/plain": [
       "(array([ 0,  1,  2,  3,  4,  5,  6,  7,  8,  9, 10, 11, 12, 13, 14, 15, 16,\n",
       "        17, 18, 19, 20, 21, 22, 23, 24, 25, 26, 27, 28, 29, 30, 31, 32, 33,\n",
       "        34, 35, 36, 37, 38]),)"
      ]
     },
     "execution_count": 39,
     "metadata": {},
     "output_type": "execute_result"
    }
   ],
   "source": [
    "# this is where the \"previous progenitor\" is the same (meaning that they have merged at snapshot 38)\n",
    "np.where(treedict[pair1].mergedbranch['LastProgenitorID'][0:50] == treedict[pair2].mergedbranch['LastProgenitorID'][0:50])\n"
   ]
  },
  {
   "cell_type": "code",
   "execution_count": 44,
   "id": "a3273511",
   "metadata": {},
   "outputs": [
    {
     "data": {
      "text/plain": [
       "(array([ 0,  1,  2,  3,  4,  5,  6,  7,  8,  9, 10, 11, 12, 13, 14, 15, 16,\n",
       "        17, 18, 19, 20, 21, 22, 23, 24, 25, 26, 27, 28, 29, 30, 31, 32, 33,\n",
       "        34, 35, 36, 37, 38, 39]),)"
      ]
     },
     "execution_count": 44,
     "metadata": {},
     "output_type": "execute_result"
    }
   ],
   "source": [
    "# this is where the \"next descendent\" is the same (so they will merge at the second to last snapshot)\n",
    "np.where(treedict[pair1].mergedbranch['DescendantID'][0:50] == treedict[pair2].mergedbranch['DescendantID'][0:50])\n"
   ]
  },
  {
   "cell_type": "code",
   "execution_count": 61,
   "id": "a67895ab",
   "metadata": {},
   "outputs": [
    {
     "name": "stdout",
     "output_type": "stream",
     "text": [
      "The first snapshot AFTER merger is: 60\n",
      "The first snapshot before merger is: 61\n",
      "The first snapshot before merger is: 61\n"
     ]
    }
   ],
   "source": [
    "print(\"The first snapshot AFTER merger is:\",treedict[pair1].mergedbranch['SnapNum'][np.where(treedict[pair1].mergedbranch['DescendantID'][0:50] == treedict[pair2].mergedbranch['DescendantID'][0:50])][-1])\n",
    "print(\"The first snapshot before merger is:\",treedict[pair1].mergedbranch['SnapNum'][np.where(treedict[pair1].mergedbranch['LastProgenitorID'][0:50] == treedict[pair2].mergedbranch['LastProgenitorID'][0:50])][-1])\n",
    "print(\"The first snapshot before merger is:\",treedict[pair1].mergedbranch['SnapNum'][np.where(treedict[pair1].mergedbranch['SubfindID'][0:50] == treedict[pair2].mergedbranch['SubfindID'][0:50])][-1])\n",
    "\n"
   ]
  },
  {
   "cell_type": "markdown",
   "id": "b60e9043",
   "metadata": {},
   "source": [
    "___"
   ]
  },
  {
   "cell_type": "markdown",
   "id": "98b320fb",
   "metadata": {},
   "source": [
    "## Calculating full merger fraction for z=1.5"
   ]
  },
  {
   "cell_type": "markdown",
   "id": "32f5ceb2",
   "metadata": {},
   "source": [
    "**Notes:**\n",
    "\n",
    "I can use the Descendant ID to identify the snapshot where the two subhalos will next merge. "
   ]
  },
  {
   "cell_type": "markdown",
   "id": "23de2975",
   "metadata": {},
   "source": [
    "Now let's try to go through each of the pairs, and I will save 3 things: \n",
    "- Whether the pair merges via the 'RootDescendantID'\n",
    "- Whether the pair merges via the 'DescendantID'\n",
    "- What the snapshot after the 'DescendantID' equivalence happens"
   ]
  },
  {
   "cell_type": "markdown",
   "id": "6531ef21",
   "metadata": {},
   "source": [
    "The below script first checks if the RootDescendantID of the primary and secondary of each pair is the same (meaning they merge at some point in the simulation). If they do merge, mask the snapshots where both subhalos exist simultaneously and determine when they have the same descendant ID, and output the \"merger snapshot\" defined as the snapshot of the subhalo that results from merger. "
   ]
  },
  {
   "cell_type": "markdown",
   "id": "abb81dc9",
   "metadata": {},
   "source": [
    "*Might need to check if the groupID is the same at all previous snapshots (meaning they are \"infalling\") or to figure out how long it has been since infall.*"
   ]
  },
  {
   "cell_type": "code",
   "execution_count": 105,
   "id": "a136172f",
   "metadata": {},
   "outputs": [
    {
     "data": {
      "text/plain": [
       "{'MergersRoot': array([1., 0., 1., ..., 1., 1., 1.]),\n",
       " 'MergersDescendant': array([1., 0., 1., ..., 1., 1., 1.]),\n",
       " 'MergerSnapshot': array([61.,  0., 73., ..., 43., 41., 44.])}"
      ]
     },
     "execution_count": 105,
     "metadata": {},
     "output_type": "execute_result"
    }
   ],
   "source": [
    "merger_root, merger_desc, snap_merged = np.zeros((3,len(pairs['Sub1 ID'])))\n",
    "\n",
    "for ind in range(len(pairs['Sub1 ID'])):\n",
    "    primary_id = pairs['Sub1 ID'][ind]\n",
    "    secondary_id = pairs['Sub2 ID'][ind]\n",
    "    \n",
    "    treedict = {}\n",
    "    for sub in [primary_id,secondary_id]:\n",
    "        treedict[sub] = TraceMergerTree(snapshot=40,physics=\"hydro\",sim=\"TNG\",subfindID=sub)\n",
    "\n",
    "    tree_primary = treedict[primary_id].mergedbranch\n",
    "    tree_secondary = treedict[secondary_id].mergedbranch\n",
    "    \n",
    "    # check if root descendant ID is the same between the two halos\n",
    "    root1 = tree_primary['RootDescendantID'][0]\n",
    "    root2 = tree_secondary['RootDescendantID'][0]\n",
    "    check_root = root1 == root2\n",
    "    \n",
    "    if check_root:\n",
    "        merger_root[ind] = True\n",
    "    \n",
    "        # make masks to check descendants \n",
    "        snaps1 = tree_primary['SnapNum']\n",
    "        snaps2 = tree_secondary['SnapNum']\n",
    "\n",
    "        mask1 = np.isin(snaps1, snaps2)\n",
    "        mask2 = np.isin(snaps2, snaps1)\n",
    "\n",
    "        desc1 = tree_primary['DescendantID'][mask1]\n",
    "        desc2 = tree_secondary['DescendantID'][mask2]\n",
    "        \n",
    "        try:\n",
    "            ind_premerge = np.where(desc1==desc2)[0][-1]\n",
    "            ind_postmerge = np.where(desc1==desc2)[0][-2]\n",
    "            snap_premerge = tree_primary['SnapNum'][mask1][ind_premerge]\n",
    "            snap_postmerge = tree_primary['SnapNum'][mask1][ind_postmerge]\n",
    "            \n",
    "            merger_desc[ind] = True\n",
    "            snap_merged[ind] = snap_postmerge\n",
    "        \n",
    "        except IOError:\n",
    "            print('Error in the snapshot number')\n",
    "            \n",
    "merger_dict = {\"MergersRoot\":merger_root,\"MergersDescendant\":merger_desc,\"MergerSnapshot\":snap_merged}\n",
    "merger_dict"
   ]
  },
  {
   "cell_type": "code",
   "execution_count": 114,
   "id": "d9f452a4",
   "metadata": {},
   "outputs": [
    {
     "name": "stdout",
     "output_type": "stream",
     "text": [
      "Merger fraction defined based on the RootDescendantID: 0.901\n",
      "Merger fraction defined based on the Descendant ID: 0.901\n",
      "Average snapshot of mergers: 50.901\n"
     ]
    }
   ],
   "source": [
    "mergerfrac_root = np.count_nonzero(merger_dict['MergersRoot']) / len(merger_dict['MergersRoot'])\n",
    "mergerfrac_desc = np.count_nonzero(merger_dict['MergersDescendant']) / len(merger_dict['MergersDescendant'])\n",
    "print(f\"Merger fraction defined based on the RootDescendantID: {mergerfrac_root:.3f}\")\n",
    "print(f\"Merger fraction defined based on the Descendant ID: {mergerfrac_desc:.3f}\")\n",
    "print(f\"Average snapshot of mergers: {np.mean(merger_dict['MergerSnapshot'][merger_dict['MergerSnapshot']!=0]):.3f}\")\n"
   ]
  },
  {
   "cell_type": "markdown",
   "id": "8e63f3e6",
   "metadata": {},
   "source": [
    "## Creating merger fraction at z=1,1.5,2"
   ]
  },
  {
   "cell_type": "code",
   "execution_count": null,
   "id": "3971dd1e",
   "metadata": {},
   "outputs": [],
   "source": []
  },
  {
   "cell_type": "markdown",
   "id": "bd95ef4c",
   "metadata": {},
   "source": [
    "## Merger fraction as function of separation at z=1,1.5,2"
   ]
  },
  {
   "cell_type": "code",
   "execution_count": null,
   "id": "fb2f5b32",
   "metadata": {},
   "outputs": [],
   "source": []
  }
 ],
 "metadata": {
  "kernelspec": {
   "display_name": "Python 3",
   "language": "python",
   "name": "python3"
  },
  "language_info": {
   "codemirror_mode": {
    "name": "ipython",
    "version": 3
   },
   "file_extension": ".py",
   "mimetype": "text/x-python",
   "name": "python",
   "nbconvert_exporter": "python",
   "pygments_lexer": "ipython3",
   "version": "3.8.13"
  },
  "toc": {
   "base_numbering": 1,
   "nav_menu": {},
   "number_sections": true,
   "sideBar": true,
   "skip_h1_title": false,
   "title_cell": "Table of Contents",
   "title_sidebar": "Contents",
   "toc_cell": false,
   "toc_position": {},
   "toc_section_display": true,
   "toc_window_display": false
  }
 },
 "nbformat": 4,
 "nbformat_minor": 5
}
