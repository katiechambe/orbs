{
 "cells": [
  {
   "cell_type": "markdown",
   "id": "9202b4e6",
   "metadata": {},
   "source": [
    "## to do some day - \n",
    "- update information about this notebook and what it does "
   ]
  },
  {
   "cell_type": "markdown",
   "id": "bae7ff84",
   "metadata": {},
   "source": [
    "Merger definition for this project: \n",
    " - RG 2015, 2017, Patton 2020, Ventou 2020 all use same definition of merging:\n",
    "     - when a subhalo has two or more direct progenitors, the progenitors \"merged\"\n",
    "     - can check the subhalo descendent ID's and find the first snapshot where they are the same? (would this cover places where the subhalo descendent has a progenitor that skips a snapshot? -> can check by doing Root Descendant ID check as well.)\n",
    "     \n",
    "\n",
    "to do: \n",
    "- quantify how many pairs will merge in the future\n",
    "- quantify the fraction that merge as a function of the separation of the pair at z=1, 1.5, 2\n",
    "- need to pull out all pairs at z=1, 1.5, 2 and their orbits\n"
   ]
  },
  {
   "cell_type": "markdown",
   "id": "2a3e6b32",
   "metadata": {},
   "source": [
    "\"merged\" snapshot after the descendant ID is the same number at a single snapshot\n",
    "\n",
    "## To do for Oct. 17:\n",
    "- make function to calculate the fraction for a given redshift\n",
    "- find the merger fractions for z=1,1.5,2\n",
    "- save the data for the merger fractions\n",
    "\n",
    "- think about next steps, i.e. saving separations\n",
    "- think about how to quantify the fraction that merge as a function of the separation (bin in separation at the redshift, find fraction of things in that separation that merge)\n",
    "\n",
    "**Done:**\n",
    "- implement merger definition for one pair in z=1.5\n",
    "- check for easiest way to define (and when?) \n",
    "- get merged fraction for z=1.5 via RootDescendantID method\n",
    "- get merged fraction for z=1.5 via merger definition"
   ]
  },
  {
   "cell_type": "code",
   "execution_count": 1,
   "id": "1c3c6566",
   "metadata": {},
   "outputs": [
    {
     "name": "stdout",
     "output_type": "stream",
     "text": [
      "imported h5py...\n",
      "modules seem to have loaded?\n"
     ]
    }
   ],
   "source": [
    "import h5py\n",
    "import numpy as np\n",
    "import matplotlib.pyplot as plt\n",
    "import sys\n",
    "import importlib\n",
    "\n",
    "from utils_orbs.orb_paths import SetupPaths\n",
    "import utils_orbs.readsubfHDF5Py3 as readSub\n",
    "# from utils.read_group_cats import ReadCats\n",
    "from utils_orbs.merger_trees import TraceMergerTree\n",
    "from utils_orbs.readMergerHistoryFiles import FindHistory\n",
    "from utils_orbs.vectorCorrection import vectorCorrection as vector\n",
    "\n",
    "paths = SetupPaths()"
   ]
  },
  {
   "cell_type": "code",
   "execution_count": 2,
   "id": "2db6306d",
   "metadata": {},
   "outputs": [],
   "source": [
    "plt.show();\n",
    "plt.rcParams.update({'font.size':20,\"xtick.direction\":\"in\",\"ytick.direction\":\"in\", \n",
    "                     \"xtick.top\":True, \"ytick.right\":True,\"text.usetex\":False,\n",
    "                     \"xtick.labelsize\":18,\"ytick.labelsize\":18})"
   ]
  },
  {
   "cell_type": "markdown",
   "id": "9aff06b9",
   "metadata": {},
   "source": [
    "Goal: \n",
    "- get first z=1.5 pair (snapshot 40), and pull out matched lists of descendant info"
   ]
  },
  {
   "cell_type": "code",
   "execution_count": 9,
   "id": "d36c44a2",
   "metadata": {},
   "outputs": [],
   "source": [
    "# assign all the data to a dictionary and close hdf5 file\n",
    "f = h5py.File(f\"../data/lowmass_z1p5.hdf5\", 'r')\n",
    "pairs = {}\n",
    "for key, val in f.items():\n",
    "    if key == \"Header\":\n",
    "        continue\n",
    "    pairs[key]=np.array(val)\n",
    "f.close()\n",
    "    "
   ]
  },
  {
   "cell_type": "code",
   "execution_count": 8,
   "id": "257e8ebc",
   "metadata": {},
   "outputs": [],
   "source": [
    "# grab subfind id's of first pair\n",
    "pair1 = pairs['Sub1 ID'][0]\n",
    "pair2 = pairs['Sub2 ID'][0]\n",
    "\n",
    "mass1 = pairs['Sub1 Mass'][0]\n",
    "mass2 = pairs['Sub2 Mass'][0]"
   ]
  },
  {
   "cell_type": "code",
   "execution_count": 26,
   "id": "63292d65",
   "metadata": {},
   "outputs": [],
   "source": [
    "# get the merger trees for each subhalo and make sure the mass makes sense\n",
    "# note: all values returned by the merger trees past, future, and merged \n",
    "#     branches are in simulation units\n",
    "treedict = {}\n",
    "for sub in [pair1,pair2]:\n",
    "    treedict[sub] = TraceMergerTree(snapshot=40,physics=\"hydro\",sim=\"TNG\",subfindID=sub)"
   ]
  },
  {
   "cell_type": "code",
   "execution_count": 28,
   "id": "515ee274",
   "metadata": {},
   "outputs": [
    {
     "name": "stdout",
     "output_type": "stream",
     "text": [
      "35.549774260023966 35.549774260023966\n",
      "27.455131951988992 27.455131951988992\n"
     ]
    }
   ],
   "source": [
    "# converting to physical units for TNG and making sure masses are correct at z=1.5\n",
    "little_h = 0.6774\n",
    "\n",
    "print(mass1,treedict[pair1].mergedbranch['SubhaloMass'][treedict[pair1].mergedbranch['SnapNum']==40][0]/little_h)\n",
    "print(mass2,treedict[pair2].mergedbranch['SubhaloMass'][treedict[pair2].mergedbranch['SnapNum']==40][0]/little_h)"
   ]
  },
  {
   "cell_type": "markdown",
   "id": "f9930f1b",
   "metadata": {},
   "source": [
    "- 'DescendantID'\n",
    "- 'FirstProgenitorID'\n",
    "- 'FirstSubhaloInFOFGroupID'\n",
    "- 'LastProgenitorID'\n",
    "- 'MainLeafProgenitorID'\n",
    "- 'Mass'\n",
    "- 'MassHistory'\n",
    "- 'NextProgenitorID'\n",
    "- 'NextSubhaloInFOFGroupID'\n",
    "- 'NumParticles'\n",
    "- 'RootDescendantID'\n",
    "- 'SnapNum'\n",
    "- 'SubfindID'"
   ]
  },
  {
   "cell_type": "markdown",
   "id": "b5b639cb",
   "metadata": {},
   "source": [
    "If I want to make a loop that goes through and figures out the location/snapshot of merger, I can FIRST check for RootDescendantID to see if they are the same, and if they are, then they should have the same Descendant ID or Last Progenitor ID up until the snapshot where they merged (i.e. I can count them)"
   ]
  },
  {
   "cell_type": "code",
   "execution_count": 39,
   "id": "dcdcfb91",
   "metadata": {},
   "outputs": [
    {
     "data": {
      "text/plain": [
       "(array([ 0,  1,  2,  3,  4,  5,  6,  7,  8,  9, 10, 11, 12, 13, 14, 15, 16,\n",
       "        17, 18, 19, 20, 21, 22, 23, 24, 25, 26, 27, 28, 29, 30, 31, 32, 33,\n",
       "        34, 35, 36, 37, 38]),)"
      ]
     },
     "execution_count": 39,
     "metadata": {},
     "output_type": "execute_result"
    }
   ],
   "source": [
    "# this is where the \"previous progenitor\" is the same (meaning that they have merged at snapshot 38)\n",
    "np.where(treedict[pair1].mergedbranch['LastProgenitorID'][0:50] == treedict[pair2].mergedbranch['LastProgenitorID'][0:50])\n"
   ]
  },
  {
   "cell_type": "code",
   "execution_count": 44,
   "id": "041d2999",
   "metadata": {},
   "outputs": [
    {
     "data": {
      "text/plain": [
       "(array([ 0,  1,  2,  3,  4,  5,  6,  7,  8,  9, 10, 11, 12, 13, 14, 15, 16,\n",
       "        17, 18, 19, 20, 21, 22, 23, 24, 25, 26, 27, 28, 29, 30, 31, 32, 33,\n",
       "        34, 35, 36, 37, 38, 39]),)"
      ]
     },
     "execution_count": 44,
     "metadata": {},
     "output_type": "execute_result"
    }
   ],
   "source": [
    "# this is where the \"next descendent\" is the same (so they will merge at the second to last snapshot)\n",
    "np.where(treedict[pair1].mergedbranch['DescendantID'][0:50] == treedict[pair2].mergedbranch['DescendantID'][0:50])\n"
   ]
  },
  {
   "cell_type": "code",
   "execution_count": 61,
   "id": "fd242e10",
   "metadata": {},
   "outputs": [
    {
     "name": "stdout",
     "output_type": "stream",
     "text": [
      "The first snapshot AFTER merger is: 60\n",
      "The first snapshot before merger is: 61\n",
      "The first snapshot before merger is: 61\n"
     ]
    }
   ],
   "source": [
    "print(\"The first snapshot AFTER merger is:\",treedict[pair1].mergedbranch['SnapNum'][np.where(treedict[pair1].mergedbranch['DescendantID'][0:50] == treedict[pair2].mergedbranch['DescendantID'][0:50])][-1])\n",
    "print(\"The first snapshot before merger is:\",treedict[pair1].mergedbranch['SnapNum'][np.where(treedict[pair1].mergedbranch['LastProgenitorID'][0:50] == treedict[pair2].mergedbranch['LastProgenitorID'][0:50])][-1])\n",
    "print(\"The first snapshot before merger is:\",treedict[pair1].mergedbranch['SnapNum'][np.where(treedict[pair1].mergedbranch['SubfindID'][0:50] == treedict[pair2].mergedbranch['SubfindID'][0:50])][-1])\n",
    "\n"
   ]
  },
  {
   "cell_type": "markdown",
   "id": "3151f1f3",
   "metadata": {},
   "source": [
    "___"
   ]
  },
  {
   "cell_type": "markdown",
   "id": "bfe61134",
   "metadata": {},
   "source": [
    "## Calculating full merger fraction for z=1.5"
   ]
  },
  {
   "cell_type": "markdown",
   "id": "7946017f",
   "metadata": {},
   "source": [
    "**Notes:**\n",
    "\n",
    "I can use the Descendant ID to identify the snapshot where the two subhalos will next merge. "
   ]
  },
  {
   "cell_type": "markdown",
   "id": "ff2119c2",
   "metadata": {},
   "source": [
    "Now let's try to go through each of the pairs, and I will save 3 things: \n",
    "- Whether the pair merges via the 'RootDescendantID'\n",
    "- Whether the pair merges via the 'DescendantID'\n",
    "- What the snapshot after the 'DescendantID' equivalence happens"
   ]
  },
  {
   "cell_type": "markdown",
   "id": "39ec0eef",
   "metadata": {},
   "source": [
    "The below script first checks if the RootDescendantID of the primary and secondary of each pair is the same (meaning they merge at some point in the simulation). If they do merge, mask the snapshots where both subhalos exist simultaneously and determine when they have the same descendant ID, and output the \"merger snapshot\" defined as the snapshot of the subhalo that results from merger. "
   ]
  },
  {
   "cell_type": "markdown",
   "id": "855af982",
   "metadata": {},
   "source": [
    "*Might need to check if the groupID is the same at all previous snapshots (meaning they are \"infalling\") or to figure out how long it has been since infall.*"
   ]
  },
  {
   "cell_type": "code",
   "execution_count": 105,
   "id": "4a1198af",
   "metadata": {},
   "outputs": [
    {
     "data": {
      "text/plain": [
       "{'MergersRoot': array([1., 0., 1., ..., 1., 1., 1.]),\n",
       " 'MergersDescendant': array([1., 0., 1., ..., 1., 1., 1.]),\n",
       " 'MergerSnapshot': array([61.,  0., 73., ..., 43., 41., 44.])}"
      ]
     },
     "execution_count": 105,
     "metadata": {},
     "output_type": "execute_result"
    }
   ],
   "source": [
    "merger_root, merger_desc, snap_merged = np.zeros((3,len(pairs['Sub1 ID'])))\n",
    "\n",
    "for ind in range(len(pairs['Sub1 ID'])):\n",
    "    primary_id = pairs['Sub1 ID'][ind]\n",
    "    secondary_id = pairs['Sub2 ID'][ind]\n",
    "    \n",
    "    treedict = {}\n",
    "    for sub in [primary_id,secondary_id]:\n",
    "        treedict[sub] = TraceMergerTree(snapshot=40,physics=\"hydro\",sim=\"TNG\",subfindID=sub)\n",
    "\n",
    "    tree_primary = treedict[primary_id].mergedbranch\n",
    "    tree_secondary = treedict[secondary_id].mergedbranch\n",
    "    \n",
    "    # check if root descendant ID is the same between the two halos\n",
    "    root1 = tree_primary['RootDescendantID'][0]\n",
    "    root2 = tree_secondary['RootDescendantID'][0]\n",
    "    check_root = root1 == root2\n",
    "    \n",
    "    if check_root:\n",
    "        merger_root[ind] = True\n",
    "    \n",
    "        # make masks to check descendants \n",
    "        snaps1 = tree_primary['SnapNum']\n",
    "        snaps2 = tree_secondary['SnapNum']\n",
    "\n",
    "        mask1 = np.isin(snaps1, snaps2)\n",
    "        mask2 = np.isin(snaps2, snaps1)\n",
    "\n",
    "        desc1 = tree_primary['DescendantID'][mask1]\n",
    "        desc2 = tree_secondary['DescendantID'][mask2]\n",
    "        \n",
    "        try:\n",
    "            ind_premerge = np.where(desc1==desc2)[0][-1]\n",
    "            ind_postmerge = np.where(desc1==desc2)[0][-2]\n",
    "            snap_premerge = tree_primary['SnapNum'][mask1][ind_premerge]\n",
    "            snap_postmerge = tree_primary['SnapNum'][mask1][ind_postmerge]\n",
    "            \n",
    "            merger_desc[ind] = True\n",
    "            snap_merged[ind] = snap_postmerge\n",
    "        \n",
    "        except IOError:\n",
    "            print('Error in the snapshot number')\n",
    "            \n",
    "merger_dict = {\"MergersRoot\":merger_root,\"MergersDescendant\":merger_desc,\"MergerSnapshot\":snap_merged}\n",
    "merger_dict"
   ]
  },
  {
   "cell_type": "code",
   "execution_count": 114,
   "id": "8bc123af",
   "metadata": {},
   "outputs": [
    {
     "name": "stdout",
     "output_type": "stream",
     "text": [
      "Merger fraction defined based on the RootDescendantID: 0.901\n",
      "Merger fraction defined based on the Descendant ID: 0.901\n",
      "Average snapshot of mergers: 50.901\n"
     ]
    }
   ],
   "source": [
    "mergerfrac_root = np.count_nonzero(merger_dict['MergersRoot']) / len(merger_dict['MergersRoot'])\n",
    "mergerfrac_desc = np.count_nonzero(merger_dict['MergersDescendant']) / len(merger_dict['MergersDescendant'])\n",
    "print(f\"Merger fraction defined based on the RootDescendantID: {mergerfrac_root:.3f}\")\n",
    "print(f\"Merger fraction defined based on the Descendant ID: {mergerfrac_desc:.3f}\")\n",
    "print(f\"Average snapshot of mergers: {np.mean(merger_dict['MergerSnapshot'][merger_dict['MergerSnapshot']!=0]):.3f}\")\n"
   ]
  },
  {
   "cell_type": "markdown",
   "id": "d41c38ca",
   "metadata": {},
   "source": [
    "## Creating merger fraction at z=1,1.5,2"
   ]
  },
  {
   "cell_type": "markdown",
   "id": "6a607819",
   "metadata": {},
   "source": [
    "Save flag if pair merges before z=0, time of merger, and separation at the given snapshot"
   ]
  },
  {
   "cell_type": "code",
   "execution_count": 76,
   "id": "fd7723ad",
   "metadata": {
    "code_folding": []
   },
   "outputs": [],
   "source": [
    "def calculate_mergerfrac(red):\n",
    "    \"\"\"Note: this function is presently only defined for redshifts z=1, 1.5, 2\"\"\"\n",
    "    \n",
    "    snap_dict = {\"z=1\":50,\"z=1.5\":40,\"z=2\":33}\n",
    "    snapshot = snap_dict[f\"z={red}\"]\n",
    "\n",
    "    # assign all imported data to a dictionary and close hdf5 file\n",
    "    f = h5py.File(f\"../data/lowmass_{snapshot}.hdf5\", 'r')\n",
    "    pairs = {}\n",
    "    for key, val in f.items():\n",
    "        if key == \"Header\":\n",
    "            continue\n",
    "        pairs[key] = np.array(val)\n",
    "        \n",
    "        redshift = f[\"Header\"].attrs[\"Redshift\"]\n",
    "    f.close()\n",
    "    \n",
    "    # define characteristic values for the sim/snapshot\n",
    "    scale = 1/(1+redshift)\n",
    "    little_h = 0.6774\n",
    "\n",
    "    # create empty arrays to save data to\n",
    "    merger_root, merger_desc, snap_merged, sep_now = np.zeros((4,len(pairs['Sub1 ID'])))\n",
    "\n",
    "    # for each subhalo pair, check if they merge and update data arrays\n",
    "    for ind in range(len(pairs['Sub1 ID'])):\n",
    "        primary_id = pairs['Sub1 ID'][ind]\n",
    "        secondary_id = pairs['Sub2 ID'][ind]\n",
    "\n",
    "        treedict = {}\n",
    "        for sub in [primary_id,secondary_id]:\n",
    "            treedict[sub] = TraceMergerTree(snapshot=snapshot,physics=\"hydro\",sim=\"TNG\",subfindID=sub)\n",
    "\n",
    "        tree_primary = treedict[primary_id].mergedbranch\n",
    "        tree_secondary = treedict[secondary_id].mergedbranch\n",
    "\n",
    "        # check if root descendant ID is the same between the two halos\n",
    "        root1 = tree_primary['RootDescendantID'][0]\n",
    "        root2 = tree_secondary['RootDescendantID'][0]\n",
    "        check_root = root1 == root2\n",
    "\n",
    "        if check_root:\n",
    "            merger_root[ind] = True\n",
    "\n",
    "            # find overlapping descendant IDs\n",
    "            desc_mask1 = np.isin(tree_primary['DescendantID'],tree_secondary['DescendantID'])\n",
    "            desc_mask2 = np.isin(tree_secondary['DescendantID'],tree_primary['DescendantID'])\n",
    "\n",
    "            snap_overlap1 = tree_primary[\"SnapNum\"][desc_mask1]\n",
    "            snap_overlap2 = tree_secondary[\"SnapNum\"][desc_mask2]\n",
    "\n",
    "            if snap_overlap1[-1] == snap_overlap2[-1]:\n",
    "                merger_desc[ind] = True\n",
    "                snap_merged[ind] = snap_overlap1[-1]+1\n",
    "\n",
    "            elif abs(snap_overlap1[-1]-snap_overlap2[-1])==1:\n",
    "                merger_desc[ind] = True\n",
    "                snap_merged[ind] = np.min(np.intersect1d(snap_overlap1,snap_overlap2))\n",
    "            \n",
    "        else: \n",
    "            merger_root[ind] = False\n",
    "            merger_desc[ind] = False\n",
    "            snap_merged[ind] = 0\n",
    "            \n",
    "        pos1 = pairs[\"Sub1 Pos\"][ind] # in physical kpc\n",
    "        pos2 = pairs[\"Sub2 Pos\"][ind] # in physical kpc\n",
    "            \n",
    "        dist_phys = np.linalg.norm(vector(pos1,pos2,75000*(scale)/little_h))\n",
    "        sep_now[ind] = dist_phys\n",
    "\n",
    "    merger_dict = {\"MergersRoot\":merger_root,\"MergersDescendant\":merger_desc,\"MergerSnapshot\":snap_merged,\"Separation\":sep_now}\n",
    "\n",
    "    # defining the attributes that will be assigned to the merger dictionary\n",
    "    info_dict = {\"MergersRoot\":\"If true: The halos have the same RootDescendantID at z=0\", \n",
    "        \"MergersDescendant\":\"If true: The halos have the same descendantID at some snapshot between given snapshot and z=0\",\n",
    "        \"MergerSnapshot\":\"Snapshot at which 'merger' has occured\",\n",
    "        \"Separation\":\"Physical separation between the pair at the given snapshot\"}\n",
    "\n",
    "    # defining the dictionary that holds the header infomation about the data file\n",
    "    header_dict = {\"Details\":f\"Merged fraction and info for z={red}\",\n",
    "                \"Snapshot\":snapshot,\n",
    "                \"Redshift\":redshift,\n",
    "                \"Simulation\":\"TNG100-1\"}\n",
    "\n",
    "    # creating and saving the file\n",
    "    f = h5py.File(f\"../data/merged-fraction_{snapshot}.hdf5\", 'w')\n",
    "\n",
    "    dset = f.create_group('/Header')\n",
    "    for key in header_dict.keys():\n",
    "        dset.attrs[key] = header_dict[key]\n",
    "\n",
    "    for key, val in merger_dict.items():\n",
    "        val = np.array(val)\n",
    "        dset = f.create_dataset(f'/{key}', \n",
    "                                shape=val.shape,\n",
    "                                dtype=val.dtype)\n",
    "        dset.attrs[key] = info_dict[key]\n",
    "        dset[:] = val\n",
    "\n",
    "    f.close()    \n",
    "\n",
    "    # print statement when function completes successfully\n",
    "    print(f\"Saved merged fraction info for z={red}\")\n"
   ]
  },
  {
   "cell_type": "code",
   "execution_count": 79,
   "id": "3ea130a5",
   "metadata": {},
   "outputs": [
    {
     "name": "stdout",
     "output_type": "stream",
     "text": [
      "Saved merged fraction info for z=1.5\n"
     ]
    }
   ],
   "source": [
    "calculate_mergerfrac(1.5)"
   ]
  },
  {
   "cell_type": "code",
   "execution_count": 78,
   "id": "40eb7f02",
   "metadata": {},
   "outputs": [
    {
     "name": "stdout",
     "output_type": "stream",
     "text": [
      "Saved merged fraction info for z=1\n"
     ]
    }
   ],
   "source": [
    "calculate_mergerfrac(1)"
   ]
  },
  {
   "cell_type": "code",
   "execution_count": 77,
   "id": "ee6fc89b",
   "metadata": {},
   "outputs": [
    {
     "name": "stdout",
     "output_type": "stream",
     "text": [
      "Saved merged fraction info for z=2\n"
     ]
    }
   ],
   "source": [
    "calculate_mergerfrac(2)"
   ]
  },
  {
   "cell_type": "code",
   "execution_count": null,
   "id": "f6511997",
   "metadata": {},
   "outputs": [],
   "source": []
  },
  {
   "cell_type": "code",
   "execution_count": 80,
   "id": "c3bb4fe6",
   "metadata": {},
   "outputs": [
    {
     "name": "stdout",
     "output_type": "stream",
     "text": [
      "At snapshot  33 :\n",
      "-----------------------\n",
      "Merger fraction defined based on the RootDescendantID: 0.946\n",
      "Merger fraction defined based on the Descendant ID: 0.946\n",
      "Average snapshot of mergers: 41.701\n",
      "Average separation of pairs: 62.337\n",
      "At snapshot  40 :\n",
      "-----------------------\n",
      "Merger fraction defined based on the RootDescendantID: 0.901\n",
      "Merger fraction defined based on the Descendant ID: 0.901\n",
      "Average snapshot of mergers: 50.788\n",
      "Average separation of pairs: 75.256\n",
      "At snapshot  50 :\n",
      "-----------------------\n",
      "Merger fraction defined based on the RootDescendantID: 0.848\n",
      "Merger fraction defined based on the Descendant ID: 0.848\n",
      "Average snapshot of mergers: 63.587\n",
      "Average separation of pairs: 88.355\n"
     ]
    }
   ],
   "source": [
    "for i in [33, 40, 50]:\n",
    "    print(\"At snapshot \",i, \":\")\n",
    "    print(\"-----------------------\")\n",
    "    f = h5py.File(f\"../data/merged-fraction_{i}.hdf5\", 'r')\n",
    "    data_dict = {}\n",
    "    for key, val in f.items():\n",
    "        if key == \"Header\":\n",
    "            continue\n",
    "        data_dict[key] = np.array(val)\n",
    "    f.close()\n",
    "\n",
    "    mergerfrac_root = np.count_nonzero(data_dict['MergersRoot']) / len(data_dict['MergersRoot'])\n",
    "    mergerfrac_desc = np.count_nonzero(data_dict['MergersDescendant']) / len(data_dict['MergersDescendant'])\n",
    "    print(f\"Merger fraction defined based on the RootDescendantID: {mergerfrac_root:.3f}\")\n",
    "    print(f\"Merger fraction defined based on the Descendant ID: {mergerfrac_desc:.3f}\")\n",
    "    print(f\"Average snapshot of mergers: {np.mean(data_dict['MergerSnapshot'][data_dict['MergerSnapshot']!=0]):.3f}\")\n",
    "    print(f\"Average separation of pairs: {np.mean(data_dict['Separation']):.3f}\")\n",
    "\n"
   ]
  },
  {
   "cell_type": "markdown",
   "id": "13a9dab3",
   "metadata": {},
   "source": [
    "## Merger fraction as function of separation at z=1,1.5,2"
   ]
  },
  {
   "cell_type": "code",
   "execution_count": 81,
   "id": "9ff37981",
   "metadata": {},
   "outputs": [],
   "source": [
    "data_dict = {}\n",
    "for i in [33, 40, 50]:\n",
    "    f = h5py.File(f\"../data/merged-fraction_{i}.hdf5\", 'r')\n",
    "    data_dict[i] = {}\n",
    "    for key, val in f.items():\n",
    "        if key == \"Header\":\n",
    "            continue\n",
    "        data_dict[i][key] = np.array(val)\n",
    "    f.close()"
   ]
  },
  {
   "cell_type": "code",
   "execution_count": 91,
   "id": "85ffde5c",
   "metadata": {},
   "outputs": [
    {
     "data": {
      "text/plain": [
       "array([1., 0., 1., ..., 1., 1., 1.])"
      ]
     },
     "execution_count": 91,
     "metadata": {},
     "output_type": "execute_result"
    }
   ],
   "source": [
    "data_dict[40]['MergersRoot']"
   ]
  },
  {
   "cell_type": "code",
   "execution_count": 115,
   "id": "42f2acbf",
   "metadata": {},
   "outputs": [
    {
     "name": "stdout",
     "output_type": "stream",
     "text": [
      "[220 311 120  98 100 106 100  60  33  22  16   8   1   0   1]\n",
      "[220 313 131 109 120 125 122  73  48  28  21  10   4   0   3]\n"
     ]
    },
    {
     "name": "stderr",
     "output_type": "stream",
     "text": [
      "<ipython-input-115-532c72ff1d22>:5: RuntimeWarning: invalid value encountered in divide\n",
      "  div = np.array(merged_vals)/np.array(all_vals)\n"
     ]
    }
   ],
   "source": [
    "sep_bins = np.arange(0,310,20)\n",
    "merged_vals,_ = np.histogram(data_dict[40]['Separation'][data_dict[40]['MergersRoot']==1],bins=sep_bins)\n",
    "all_vals,_ = np.histogram(data_dict[40]['Separation'],bins=sep_bins)\n",
    "\n",
    "div = np.array(merged_vals)/np.array(all_vals)\n",
    "print(merged_vals)\n",
    "print(all_vals)"
   ]
  },
  {
   "cell_type": "code",
   "execution_count": 116,
   "id": "51eac92c",
   "metadata": {},
   "outputs": [
    {
     "data": {
      "text/plain": [
       "array([1.        , 0.99361022, 0.91603053, 0.89908257, 0.83333333,\n",
       "       0.848     , 0.81967213, 0.82191781, 0.6875    , 0.78571429,\n",
       "       0.76190476, 0.8       , 0.25      ,        nan, 0.33333333])"
      ]
     },
     "execution_count": 116,
     "metadata": {},
     "output_type": "execute_result"
    }
   ],
   "source": [
    "div"
   ]
  },
  {
   "cell_type": "code",
   "execution_count": 137,
   "id": "e3e5c909",
   "metadata": {},
   "outputs": [
    {
     "data": {
      "image/png": "[encoded data removed]",
      "text/plain": [
       "<Figure size 720x720 with 2 Axes>"
      ]
     },
     "metadata": {
      "needs_background": "light"
     },
     "output_type": "display_data"
    }
   ],
   "source": [
    "fig, ax = plt.subplots(2, 1, figsize=(10,10), sharey=False, sharex=True, gridspec_kw={'width_ratios': [1], 'height_ratios':[1,1],'wspace': 0.10,\"hspace\":0.04})\n",
    "\n",
    "ax[0].stairs(all_vals,sep_bins,fill=True,color=\"grey\",label=\"All pairs\")\n",
    "ax[0].stairs(merged_vals,sep_bins,fill=True,color=\"lightcoral\",label=\"Merged pairs\")\n",
    "ax[1].stairs(div,sep_bins,fill=True,color=\"olive\",)\n",
    "for i in np.arange(0,1.25,0.25):\n",
    "    ax[1].axhline(i, alpha=i,linestyle=\"dotted\",color=\"darkolivegreen\")\n",
    "\n",
    "ax[1].set_xlabel(\"Separation at z=1.5\")\n",
    "ax[0].set_ylabel(\"Total counts\")\n",
    "ax[1].set_ylabel(\"Fraction of pairs that merge\")\n",
    "ax[0].legend(frameon=False)\n",
    "\n",
    "plt.show()"
   ]
  },
  {
   "cell_type": "markdown",
   "id": "0c5bfde3",
   "metadata": {},
   "source": [
    "Merged sample, not merged sample, full sample, \n",
    "Observability windows (time spent in certain separation bins) for merged and non-merged (look at Lotz 2011 to see how they plot this?) \n"
   ]
  },
  {
   "cell_type": "code",
   "execution_count": null,
   "id": "65bcf8d5",
   "metadata": {},
   "outputs": [],
   "source": []
  },
  {
   "cell_type": "markdown",
   "id": "31b7bd67",
   "metadata": {},
   "source": [
    "## GRAVEYARD SPOOKY"
   ]
  },
  {
   "cell_type": "code",
   "execution_count": 17,
   "id": "4a9cc5fc",
   "metadata": {},
   "outputs": [],
   "source": [
    "red = 2\n",
    "snap_dict = {\"z=1\":50,\"z=1.5\":40,\"z=2\":33}\n",
    "snapshot = snap_dict[f\"z={red}\"]\n",
    "\n",
    "# assign all imported data to a dictionary and close hdf5 file\n",
    "f = h5py.File(f\"../data/lowmass_{snapshot}.hdf5\", 'r')\n",
    "pairs = {}\n",
    "for key, val in f.items():\n",
    "    if key == \"Header\":\n",
    "        continue\n",
    "    pairs[key] = np.array(val)\n",
    "\n",
    "    redshift = f[\"Header\"].attrs[\"Redshift\"]\n",
    "f.close()\n",
    "\n",
    "# define characteristic values for the sim/snapshot\n",
    "scale = 1/(1+redshift)\n",
    "little_h = 0.6774"
   ]
  },
  {
   "cell_type": "code",
   "execution_count": 71,
   "id": "f705b15b",
   "metadata": {},
   "outputs": [
    {
     "name": "stdout",
     "output_type": "stream",
     "text": [
      "39.0\n",
      "34.0\n",
      "41.0\n"
     ]
    },
    {
     "ename": "IndexError",
     "evalue": "index -2 is out of bounds for axis 0 with size 1",
     "output_type": "error",
     "traceback": [
      "\u001b[0;31m---------------------------------------------------------------------------\u001b[0m",
      "\u001b[0;31mIndexError\u001b[0m                                Traceback (most recent call last)",
      "Cell \u001b[0;32mIn [71], line 39\u001b[0m\n\u001b[1;32m     37\u001b[0m \u001b[38;5;28;01mtry\u001b[39;00m:\n\u001b[1;32m     38\u001b[0m     ind_premerge \u001b[38;5;241m=\u001b[39m np\u001b[38;5;241m.\u001b[39mwhere(desc1\u001b[38;5;241m==\u001b[39mdesc2)[\u001b[38;5;241m0\u001b[39m][\u001b[38;5;241m-\u001b[39m\u001b[38;5;241m1\u001b[39m]\n\u001b[0;32m---> 39\u001b[0m     ind_postmerge \u001b[38;5;241m=\u001b[39m \u001b[43mnp\u001b[49m\u001b[38;5;241;43m.\u001b[39;49m\u001b[43mwhere\u001b[49m\u001b[43m(\u001b[49m\u001b[43mdesc1\u001b[49m\u001b[38;5;241;43m==\u001b[39;49m\u001b[43mdesc2\u001b[49m\u001b[43m)\u001b[49m\u001b[43m[\u001b[49m\u001b[38;5;241;43m0\u001b[39;49m\u001b[43m]\u001b[49m\u001b[43m[\u001b[49m\u001b[38;5;241;43m-\u001b[39;49m\u001b[38;5;241;43m2\u001b[39;49m\u001b[43m]\u001b[49m\n\u001b[1;32m     40\u001b[0m     snap_premerge \u001b[38;5;241m=\u001b[39m tree_primary[\u001b[38;5;124m'\u001b[39m\u001b[38;5;124mSnapNum\u001b[39m\u001b[38;5;124m'\u001b[39m][mask1][ind_premerge]\n\u001b[1;32m     41\u001b[0m     snap_postmerge \u001b[38;5;241m=\u001b[39m tree_primary[\u001b[38;5;124m'\u001b[39m\u001b[38;5;124mSnapNum\u001b[39m\u001b[38;5;124m'\u001b[39m][mask1][ind_postmerge]\n",
      "\u001b[0;31mIndexError\u001b[0m: index -2 is out of bounds for axis 0 with size 1"
     ]
    }
   ],
   "source": [
    "# create empty arrays to save data to\n",
    "merger_root, merger_desc, snap_merged, sep_now = np.zeros((4,len(pairs['Sub1 ID'])))\n",
    "\n",
    "# for each subhalo pair, check if they merge and update data arrays\n",
    "for ind in range(len(pairs['Sub1 ID']))[540:545]:\n",
    "    primary_id = pairs['Sub1 ID'][ind]\n",
    "    secondary_id = pairs['Sub2 ID'][ind]\n",
    "\n",
    "    pos1 = pairs[\"Sub1 Pos\"][ind] # in physical kpc\n",
    "    pos2 = pairs[\"Sub2 Pos\"][ind] # in physical kpc\n",
    "\n",
    "    treedict = {}\n",
    "    for sub in [primary_id,secondary_id]:\n",
    "        treedict[sub] = TraceMergerTree(snapshot=snapshot,physics=\"hydro\",sim=\"TNG\",subfindID=sub)\n",
    "\n",
    "    tree_primary = treedict[primary_id].mergedbranch\n",
    "    tree_secondary = treedict[secondary_id].mergedbranch\n",
    "\n",
    "    # check if root descendant ID is the same between the two halos\n",
    "    root1 = tree_primary['RootDescendantID'][0]\n",
    "    root2 = tree_secondary['RootDescendantID'][0]\n",
    "    check_root = root1 == root2\n",
    "\n",
    "    if check_root:\n",
    "        merger_root[ind] = True\n",
    "\n",
    "        # make masks to check descendants \n",
    "        snaps1 = tree_primary['SnapNum']\n",
    "        snaps2 = tree_secondary['SnapNum']\n",
    "\n",
    "        mask1 = np.isin(snaps1, snaps2)\n",
    "        mask2 = np.isin(snaps2, snaps1)\n",
    "\n",
    "        desc1 = tree_primary['DescendantID'][mask1]\n",
    "        desc2 = tree_secondary['DescendantID'][mask2]\n",
    "\n",
    "        try:\n",
    "            ind_premerge = np.where(desc1==desc2)[0][-1]\n",
    "            ind_postmerge = np.where(desc1==desc2)[0][-2]\n",
    "            snap_premerge = tree_primary['SnapNum'][mask1][ind_premerge]\n",
    "            snap_postmerge = tree_primary['SnapNum'][mask1][ind_postmerge]\n",
    "\n",
    "            merger_desc[ind] = True\n",
    "            snap_merged[ind] = snap_postmerge        \n",
    "\n",
    "            print(snap_merged[ind])\n",
    "\n",
    "\n",
    "            dist_phys = np.linalg.norm(vector(pos1,pos2,75000*(scale)/little_h))\n",
    "\n",
    "            sep_now[ind] = dist_phys\n",
    "\n",
    "        except IOError:\n",
    "            print('Error in the snapshot number')\n",
    "\n",
    "merger_dict = {\"MergersRoot\":merger_root,\"MergersDescendant\":merger_desc,\"MergerSnapshot\":snap_merged,\"Separation\":sep_now}\n"
   ]
  },
  {
   "cell_type": "code",
   "execution_count": 55,
   "id": "3a16bebf",
   "metadata": {},
   "outputs": [
    {
     "data": {
      "text/plain": [
       "array([99, 98, 97, 96, 95, 94, 93, 92, 91, 90, 89, 88, 87, 86, 85, 84, 83,\n",
       "       82, 81, 80, 79, 78, 77, 76, 75, 74, 73, 72, 71, 70, 69, 68, 67, 66,\n",
       "       65, 64, 63, 62, 61, 60, 59, 58, 57, 56, 55, 54, 53, 52, 51, 50, 49,\n",
       "       48, 47, 46, 45, 44, 43, 42, 41, 40, 39, 38], dtype=int16)"
      ]
     },
     "execution_count": 55,
     "metadata": {},
     "output_type": "execute_result"
    }
   ],
   "source": [
    "tree_primary['SnapNum'][desc1==desc2][-1]"
   ]
  },
  {
   "cell_type": "code",
   "execution_count": 72,
   "id": "6d0917de",
   "metadata": {},
   "outputs": [
    {
     "name": "stdout",
     "output_type": "stream",
     "text": [
      "39.0\n",
      "34.0\n",
      "41.0\n",
      "99.0\n",
      "34.0\n"
     ]
    }
   ],
   "source": [
    "# create empty arrays to save data to\n",
    "merger_root, merger_desc, snap_merged, sep_now = np.zeros((4,len(pairs['Sub1 ID'])))\n",
    "\n",
    "# for each subhalo pair, check if they merge and update data arrays\n",
    "for ind in range(len(pairs['Sub1 ID']))[540:545]:\n",
    "    primary_id = pairs['Sub1 ID'][ind]\n",
    "    secondary_id = pairs['Sub2 ID'][ind]\n",
    "\n",
    "    pos1 = pairs[\"Sub1 Pos\"][ind] # in physical kpc\n",
    "    pos2 = pairs[\"Sub2 Pos\"][ind] # in physical kpc\n",
    "\n",
    "    treedict = {}\n",
    "    for sub in [primary_id,secondary_id]:\n",
    "        treedict[sub] = TraceMergerTree(snapshot=snapshot,physics=\"hydro\",sim=\"TNG\",subfindID=sub)\n",
    "\n",
    "    tree_primary = treedict[primary_id].mergedbranch\n",
    "    tree_secondary = treedict[secondary_id].mergedbranch\n",
    "\n",
    "    # check if root descendant ID is the same between the two halos\n",
    "    root1 = tree_primary['RootDescendantID'][0]\n",
    "    root2 = tree_secondary['RootDescendantID'][0]\n",
    "    check_root = root1 == root2\n",
    "\n",
    "    if check_root:\n",
    "        merger_root[ind] = True\n",
    "\n",
    "        # make masks to check descendants \n",
    "        snaps1 = tree_primary['SnapNum']\n",
    "        snaps2 = tree_secondary['SnapNum']\n",
    "\n",
    "        mask1 = np.isin(snaps1, snaps2)\n",
    "        mask2 = np.isin(snaps2, snaps1)\n",
    "            \n",
    "#         try:\n",
    "        # find overlapping descendant IDs\n",
    "        desc_mask1 = np.isin(tree_primary['DescendantID'],tree_secondary['DescendantID'])\n",
    "        desc_mask2 = np.isin(tree_secondary['DescendantID'],tree_primary['DescendantID'])\n",
    "\n",
    "        snap_overlap1 = tree_primary[\"SnapNum\"][desc_mask1]\n",
    "        snap_overlap2 = tree_secondary[\"SnapNum\"][desc_mask2]\n",
    "\n",
    "        if snap_overlap1[-1] == snap_overlap2[-1]:\n",
    "            merger_desc[ind] = True\n",
    "            snap_merged[ind] = snap_overlap1[-1]+1\n",
    "\n",
    "        elif abs(snap_overlap1[-1]-snap_overlap2[-1])==1:\n",
    "            merger_desc[ind] = True\n",
    "            snap_merged[ind] = np.min(np.intersect1d(snap_overlap1,snap_overlap2))\n",
    "            \n",
    "        print(snap_merged[ind])\n",
    "\n",
    "        dist_phys = np.linalg.norm(vector(pos1,pos2,75000*(scale)/little_h))\n",
    "        sep_now[ind] = dist_phys\n",
    "\n",
    "#         except IOError:\n",
    "#             print('Error in the snapshot number')\n",
    "            \n",
    "#         except IOError:\n",
    "#             print('Error in the snapshot number')    \n",
    "\n",
    "merger_dict = {\"MergersRoot\":merger_root,\"MergersDescendant\":merger_desc,\"MergerSnapshot\":snap_merged,\"Separation\":sep_now}"
   ]
  },
  {
   "cell_type": "code",
   "execution_count": 59,
   "id": "1932a583",
   "metadata": {},
   "outputs": [
    {
     "data": {
      "text/plain": [
       "array([38, 39, 40, 41, 42, 43, 44, 45, 46, 47, 48, 49, 50, 51, 52, 53, 54,\n",
       "       55, 56, 57, 58, 59, 60, 61, 62, 63, 64, 65, 66, 67, 68, 69, 70, 71,\n",
       "       72, 73, 74, 75, 76, 77, 78, 79, 80, 81, 82, 83, 84, 85, 86, 87, 88,\n",
       "       89, 90, 91, 92, 93, 94, 95, 96, 97, 98, 99], dtype=int16)"
      ]
     },
     "execution_count": 59,
     "metadata": {},
     "output_type": "execute_result"
    }
   ],
   "source": [
    "yy = tree_primary[\"SnapNum\"][np.isin(tree_primary['DescendantID'],tree_secondary['DescendantID'])]\n",
    "xx = tree_secondary[\"SnapNum\"][np.isin(tree_secondary['DescendantID'],tree_primary['DescendantID'])]\n",
    "# print(np.min(np.intersect1d(xx,yy))\n",
    "np.intersect1d(xx,yy)"
   ]
  },
  {
   "cell_type": "code",
   "execution_count": 65,
   "id": "a4852fd7",
   "metadata": {},
   "outputs": [],
   "source": [
    "xx=[99,98]"
   ]
  },
  {
   "cell_type": "code",
   "execution_count": 66,
   "id": "4b8a5c6a",
   "metadata": {},
   "outputs": [],
   "source": [
    "yy=[99,97]"
   ]
  },
  {
   "cell_type": "code",
   "execution_count": 69,
   "id": "2eeea5a7",
   "metadata": {},
   "outputs": [
    {
     "data": {
      "text/plain": [
       "1"
      ]
     },
     "execution_count": 69,
     "metadata": {},
     "output_type": "execute_result"
    }
   ],
   "source": [
    "abs(yy[-1]-xx[-1])"
   ]
  },
  {
   "cell_type": "code",
   "execution_count": 41,
   "id": "e25b2d80",
   "metadata": {},
   "outputs": [
    {
     "data": {
      "text/plain": [
       "array([99], dtype=int16)"
      ]
     },
     "execution_count": 41,
     "metadata": {},
     "output_type": "execute_result"
    }
   ],
   "source": [
    "np.intersect1d(xx,yy)"
   ]
  },
  {
   "cell_type": "code",
   "execution_count": 36,
   "id": "882506ca",
   "metadata": {},
   "outputs": [
    {
     "data": {
      "text/plain": [
       "1"
      ]
     },
     "execution_count": 36,
     "metadata": {},
     "output_type": "execute_result"
    }
   ],
   "source": [
    "len(np.where(desc1==desc2))"
   ]
  },
  {
   "cell_type": "code",
   "execution_count": 25,
   "id": "7358eb98",
   "metadata": {},
   "outputs": [
    {
     "data": {
      "text/plain": [
       "30000000200857835"
      ]
     },
     "execution_count": 25,
     "metadata": {},
     "output_type": "execute_result"
    }
   ],
   "source": [
    "tree_primary['RootDescendantID'][0]"
   ]
  },
  {
   "cell_type": "code",
   "execution_count": 26,
   "id": "a1d2afc1",
   "metadata": {},
   "outputs": [
    {
     "data": {
      "text/plain": [
       "30000000200857835"
      ]
     },
     "execution_count": 26,
     "metadata": {},
     "output_type": "execute_result"
    }
   ],
   "source": [
    "tree_secondary['RootDescendantID'][0]"
   ]
  },
  {
   "cell_type": "code",
   "execution_count": 32,
   "id": "0514ba19",
   "metadata": {},
   "outputs": [
    {
     "data": {
      "text/plain": [
       "array([               -1, 30000000200857835, 30000000200945538,\n",
       "       30000000200945539, 30000000200945540])"
      ]
     },
     "execution_count": 32,
     "metadata": {},
     "output_type": "execute_result"
    }
   ],
   "source": [
    "tree_primary['DescendantID'][:5]"
   ]
  },
  {
   "cell_type": "code",
   "execution_count": 33,
   "id": "dc93b948",
   "metadata": {},
   "outputs": [
    {
     "data": {
      "text/plain": [
       "array([               -1, 30000000200857835, 30000000200954319,\n",
       "       30000000200954320, 30000000200954321])"
      ]
     },
     "execution_count": 33,
     "metadata": {},
     "output_type": "execute_result"
    }
   ],
   "source": [
    "tree_secondary['DescendantID'][:5]"
   ]
  },
  {
   "cell_type": "code",
   "execution_count": 34,
   "id": "861fdf73",
   "metadata": {},
   "outputs": [
    {
     "data": {
      "text/plain": [
       "array([99, 98, 97, 96, 95], dtype=int16)"
      ]
     },
     "execution_count": 34,
     "metadata": {},
     "output_type": "execute_result"
    }
   ],
   "source": [
    "tree_primary[\"SnapNum\"][:5]"
   ]
  },
  {
   "cell_type": "code",
   "execution_count": 35,
   "id": "0f0420d0",
   "metadata": {
    "scrolled": true
   },
   "outputs": [
    {
     "data": {
      "text/plain": [
       "array([99, 97, 96, 95, 94], dtype=int16)"
      ]
     },
     "execution_count": 35,
     "metadata": {},
     "output_type": "execute_result"
    }
   ],
   "source": [
    "tree_secondary[\"SnapNum\"][:5]"
   ]
  }
 ],
 "metadata": {
  "kernelspec": {
   "display_name": "Python 3 (ipykernel)",
   "language": "python",
   "name": "python3"
  },
  "language_info": {
   "codemirror_mode": {
    "name": "ipython",
    "version": 3
   },
   "file_extension": ".py",
   "mimetype": "text/x-python",
   "name": "python",
   "nbconvert_exporter": "python",
   "pygments_lexer": "ipython3",
   "version": "3.8.18"
  },
  "toc": {
   "base_numbering": 1,
   "nav_menu": {},
   "number_sections": true,
   "sideBar": true,
   "skip_h1_title": false,
   "title_cell": "Table of Contents",
   "title_sidebar": "Contents",
   "toc_cell": false,
   "toc_position": {
    "height": "calc(100% - 180px)",
    "left": "10px",
    "top": "150px",
    "width": "308px"
   },
   "toc_section_display": true,
   "toc_window_display": true
  }
 },
 "nbformat": 4,
 "nbformat_minor": 5
}
