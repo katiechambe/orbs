{
 "cells": [
  {
   "cell_type": "code",
   "execution_count": 1,
   "id": "14a9db6e",
   "metadata": {},
   "outputs": [
    {
     "name": "stdout",
     "output_type": "stream",
     "text": [
      "imported h5py...\n",
      "modules seem to have loaded?\n"
     ]
    }
   ],
   "source": [
    "import os\n",
    "import h5py\n",
    "import numpy as np\n",
    "import matplotlib.pyplot as plt\n",
    "import sys\n",
    "import importlib\n",
    "from astropy.cosmology import FlatLambdaCDM\n",
    "\n",
    "from utils_orbs.orb_paths import SetupPaths\n",
    "import utils_orbs.readsubfHDF5Py3 as readSub\n",
    "from utils_orbs.read_group_cats import ReadCats\n",
    "from utils_orbs.merger_trees import TraceMergerTree\n",
    "from utils_orbs.readMergerHistoryFiles import FindHistory\n",
    "from utils_orbs.vectorCorrection import vectorCorrection as vector\n",
    "\n",
    "paths = SetupPaths()"
   ]
  },
  {
   "cell_type": "code",
   "execution_count": 2,
   "id": "3f16a792",
   "metadata": {},
   "outputs": [],
   "source": [
    "plt.show();\n",
    "plt.rcParams.update({'font.size':16,\"xtick.direction\":\"in\",\"ytick.direction\":\"in\", \n",
    "                     \"xtick.top\":True, \"ytick.right\":True,\"text.usetex\":False,\n",
    "                     \"xtick.labelsize\":18,\"ytick.labelsize\":18})"
   ]
  },
  {
   "cell_type": "markdown",
   "id": "cdf93e11",
   "metadata": {},
   "source": [
    "# Definitions for this notebook:"
   ]
  },
  {
   "cell_type": "code",
   "execution_count": 3,
   "id": "d8908caf",
   "metadata": {},
   "outputs": [],
   "source": [
    "z_directory = {\"33\":\"z=2\",\"40\":\"z=1.5\",\"50\":\"z=1\"}"
   ]
  },
  {
   "cell_type": "markdown",
   "id": "ee0c8973",
   "metadata": {},
   "source": [
    "## Load in data from hydro catalog"
   ]
  },
  {
   "cell_type": "code",
   "execution_count": 52,
   "id": "81850748",
   "metadata": {},
   "outputs": [],
   "source": [
    "# load in z=1.5 cat\n",
    "catpath = paths.path_tnghydro\n",
    "keysel_default =  [\n",
    "            'GroupPos','Group_M_TopHat200', \n",
    "            'Group_R_TopHat200','GroupNsubs',\n",
    "            'GroupFirstSub',\n",
    "            'SubhaloGrNr','SubhaloMass',\n",
    "            'SubhaloPos','SubhaloVel' ]\n",
    "    \n",
    "catalog = readSub.subfind_catalog(\n",
    "            basedir=catpath,\n",
    "            snapnum=50,\n",
    "            keysel=keysel_default\n",
    "            )"
   ]
  },
  {
   "cell_type": "code",
   "execution_count": 53,
   "id": "e7b69d35",
   "metadata": {},
   "outputs": [
    {
     "data": {
      "text/plain": [
       "0.9972942257819404"
      ]
     },
     "execution_count": 53,
     "metadata": {},
     "output_type": "execute_result"
    }
   ],
   "source": [
    "catalog.redshift"
   ]
  },
  {
   "cell_type": "code",
   "execution_count": 54,
   "id": "4c9d9653",
   "metadata": {},
   "outputs": [
    {
     "data": {
      "text/plain": [
       "2781"
      ]
     },
     "execution_count": 54,
     "metadata": {},
     "output_type": "execute_result"
    }
   ],
   "source": [
    "catalog.SubhaloGrNr[345349]"
   ]
  },
  {
   "cell_type": "markdown",
   "id": "c19fdbf5",
   "metadata": {},
   "source": [
    "## Load in data from orbit data"
   ]
  },
  {
   "cell_type": "code",
   "execution_count": 4,
   "id": "5639ac6b",
   "metadata": {},
   "outputs": [],
   "source": [
    "orbit_dict = {}\n",
    "for snap in [33,40,50]:\n",
    "    f = h5py.File(f\"{paths.path_data}orbitdata_{snap}.hdf5\",'r')\n",
    "    orbit_dict[str(snap)] = {}\n",
    "    for key, val in f.items():\n",
    "        orbit_dict[str(snap)][key] = np.array(val)\n",
    "    f.close()\n",
    "\n",
    "f = h5py.File(f\"{paths.path_data}snapshot_data.hdf5\",'r')\n",
    "snap_dict = {}\n",
    "for key, val in f.items():\n",
    "    snap_dict[key] = np.array(val)\n",
    "f.close()"
   ]
  },
  {
   "cell_type": "code",
   "execution_count": 39,
   "id": "7c24b8c9",
   "metadata": {},
   "outputs": [],
   "source": [
    "loc = np.where(snap_dict['Snapshot'][::-1][:-1]==40)[0]\n"
   ]
  },
  {
   "cell_type": "code",
   "execution_count": 6,
   "id": "060fe443",
   "metadata": {},
   "outputs": [
    {
     "name": "stdout",
     "output_type": "stream",
     "text": [
      "Subfind ID 1: 296198.0\n",
      "Subfind ID 2: 296197.0\n"
     ]
    }
   ],
   "source": [
    "print(f\"Subfind ID 1: {orbit_dict['50']['SubfindID1'][0]}\")\n",
    "print(f\"Subfind ID 2: {orbit_dict['50']['SubfindID2'][0]}\")"
   ]
  },
  {
   "cell_type": "code",
   "execution_count": 28,
   "id": "0657b08c",
   "metadata": {},
   "outputs": [
    {
     "data": {
      "text/plain": [
       "29.659290018986198"
      ]
     },
     "execution_count": 28,
     "metadata": {},
     "output_type": "execute_result"
    }
   ],
   "source": [
    "orbit_dict['50']['Separations'][i][loc[0]]"
   ]
  },
  {
   "cell_type": "code",
   "execution_count": 21,
   "id": "33d71fae",
   "metadata": {},
   "outputs": [
    {
     "data": {
      "text/plain": [
       "array([  0.        ,   0.        ,   0.        ,   0.        ,\n",
       "         0.        ,   0.        ,   0.        ,   0.        ,\n",
       "         0.        ,   0.        ,   0.        ,   0.        ,\n",
       "         0.        ,   0.        ,   0.        ,   0.        ,\n",
       "         0.        ,   0.        ,   0.        ,   0.        ,\n",
       "         0.        ,   0.        ,   0.        ,   0.        ,\n",
       "         0.        ,   0.        ,   0.        ,   0.        ,\n",
       "         0.        ,   0.        ,   0.        ,   0.        ,\n",
       "         3.87299324,  15.54514329,  28.72411657,  15.52381958,\n",
       "        48.77615373,  69.82232054,  83.13017474,  87.59695578,\n",
       "        86.47259912,  76.58478689,  64.12880754,  52.69403326,\n",
       "        59.09816758,  78.10851464, 104.75594497, 128.66122267,\n",
       "       145.8184515 , 170.63988386, 188.38308619, 202.64539896,\n",
       "       215.10186892, 225.89459571, 243.063789  , 256.93761605,\n",
       "       276.30978543, 289.89131736, 305.78816854, 323.29356808,\n",
       "       331.81403432, 351.32876001, 368.17057697, 383.43312969,\n",
       "       396.82988692, 407.8015721 , 409.82649325, 402.10610186,\n",
       "       392.51883093, 382.33341001, 371.94965561, 362.32412297,\n",
       "       351.42498624, 338.45615183, 329.09564472, 306.73865872,\n",
       "       297.89514228, 290.33791071, 279.3750501 , 272.9951112 ,\n",
       "       259.4796658 , 245.59829098, 230.18538094, 221.3197422 ,\n",
       "       212.32042584, 201.95467527, 196.31428095, 182.06546965,\n",
       "       169.23917196, 163.83139196, 157.10880519, 148.76031226,\n",
       "       141.49869478, 134.87598599, 129.99390654, 123.89793811,\n",
       "       113.90542092, 104.46354359,          nan])"
      ]
     },
     "execution_count": 21,
     "metadata": {},
     "output_type": "execute_result"
    }
   ],
   "source": [
    "orbit_dict['40']['Separations'][4]"
   ]
  },
  {
   "cell_type": "code",
   "execution_count": 25,
   "id": "2cbbe2fb",
   "metadata": {},
   "outputs": [
    {
     "data": {
      "text/plain": [
       "250969.0"
      ]
     },
     "execution_count": 25,
     "metadata": {},
     "output_type": "execute_result"
    }
   ],
   "source": [
    "orbit_dict['50']['SubfindID1'][13]"
   ]
  },
  {
   "cell_type": "code",
   "execution_count": 24,
   "id": "6544d33f",
   "metadata": {},
   "outputs": [
    {
     "name": "stdout",
     "output_type": "stream",
     "text": [
      "comov: 12.566809998335831\n",
      "phys: 7.420614111801494\n"
     ]
    }
   ],
   "source": [
    "print(\"comov:\",orbit_dict['40']['Separations'][13][loc[0]]/scale*little_h)\n",
    "print(\"phys:\",orbit_dict['40']['Separations'][13][loc[0]])"
   ]
  },
  {
   "cell_type": "code",
   "execution_count": 40,
   "id": "170518dc",
   "metadata": {},
   "outputs": [
    {
     "name": "stdout",
     "output_type": "stream",
     "text": [
      "0: 314.19962831622627 ckpc/h\n",
      "1: 614.2084940020025 ckpc/h\n",
      "2: 522.1321301294241 ckpc/h\n",
      "3: 261.18252113441145 ckpc/h\n",
      "4: 547.4976575368576 ckpc/h\n",
      "5: 402.9521303989837 ckpc/h\n",
      "6: 280.01690064800914 ckpc/h\n",
      "7: 307.9563836962059 ckpc/h\n",
      "8: 254.49572602327353 ckpc/h\n",
      "9: 413.37960946768385 ckpc/h\n",
      "10: 286.90529593815256 ckpc/h\n",
      "11: 295.33979007006724 ckpc/h\n",
      "12: 321.67559765341696 ckpc/h\n",
      "13: 12.566809998335831 ckpc/h\n",
      "14: 280.390542754227 ckpc/h\n",
      "15: 289.59804681311226 ckpc/h\n",
      "16: 339.05284964223966 ckpc/h\n",
      "17: 277.66129067162296 ckpc/h\n",
      "18: 346.97554180680373 ckpc/h\n",
      "19: 356.89211663004914 ckpc/h\n",
      "20: 393.20371737765186 ckpc/h\n",
      "21: 281.11878356792147 ckpc/h\n",
      "22: 262.6011454022076 ckpc/h\n",
      "23: 301.880480200599 ckpc/h\n",
      "24: 296.52736192212825 ckpc/h\n",
      "25: 344.2068507399659 ckpc/h\n",
      "26: 367.2314971852575 ckpc/h\n",
      "27: 245.08438710151668 ckpc/h\n",
      "28: 225.15473819166158 ckpc/h\n",
      "29: 298.91473159715053 ckpc/h\n",
      "30: 211.0262503837661 ckpc/h\n",
      "31: 286.203294309895 ckpc/h\n",
      "32: 487.16259326742573 ckpc/h\n",
      "33: 326.8696146949095 ckpc/h\n",
      "34: 207.98091477906107 ckpc/h\n",
      "35: 375.5402221362721 ckpc/h\n",
      "36: 324.88455766912693 ckpc/h\n",
      "37: 221.5352951243177 ckpc/h\n",
      "38: 293.31164919023075 ckpc/h\n",
      "39: 155.67631513629183 ckpc/h\n",
      "40: 228.94139551797062 ckpc/h\n",
      "41: 350.93658714355774 ckpc/h\n",
      "42: 397.82484635930825 ckpc/h\n",
      "43: 287.1937387161308 ckpc/h\n",
      "44: 250.0711429819427 ckpc/h\n",
      "45: 174.73824403665148 ckpc/h\n",
      "46: 503.9616490055073 ckpc/h\n",
      "47: 302.62777733506647 ckpc/h\n",
      "48: 372.85424843530996 ckpc/h\n",
      "49: 224.63283759936527 ckpc/h\n",
      "50: 145.41495939150235 ckpc/h\n",
      "51: 277.2349535033847 ckpc/h\n",
      "52: 285.53412037421043 ckpc/h\n",
      "53: 244.06082974764564 ckpc/h\n",
      "54: 339.5359528054599 ckpc/h\n",
      "55: 262.02342234754104 ckpc/h\n",
      "56: 267.6177790221743 ckpc/h\n",
      "57: 198.43600942688172 ckpc/h\n",
      "58: 363.9402761272446 ckpc/h\n",
      "59: 255.7659134801386 ckpc/h\n",
      "60: 187.76591644100336 ckpc/h\n",
      "61: 358.98838060066157 ckpc/h\n",
      "62: 186.43609655565362 ckpc/h\n",
      "63: 321.4939394043107 ckpc/h\n",
      "64: 474.20012774667134 ckpc/h\n",
      "65: 144.81460217521706 ckpc/h\n",
      "66: 308.25363714200785 ckpc/h\n",
      "67: 348.96588413138034 ckpc/h\n",
      "68: 362.23281145680505 ckpc/h\n",
      "69: 50.7291555735498 ckpc/h\n",
      "70: 314.3271111595261 ckpc/h\n",
      "71: 214.25709340501183 ckpc/h\n",
      "72: 253.92290461171348 ckpc/h\n",
      "73: 298.8785132719449 ckpc/h\n",
      "74: 246.15039143716785 ckpc/h\n",
      "75: 351.16615243443124 ckpc/h\n",
      "76: 46.31989124532201 ckpc/h\n",
      "77: 274.27932886784424 ckpc/h\n",
      "78: 342.9338924733396 ckpc/h\n",
      "79: 93.78446846283599 ckpc/h\n",
      "80: 307.0174350151232 ckpc/h\n",
      "81: 207.31855582920826 ckpc/h\n",
      "82: 206.24680249200892 ckpc/h\n",
      "83: 148.45361609492707 ckpc/h\n",
      "84: 249.64294108365192 ckpc/h\n",
      "85: 243.08995515841306 ckpc/h\n",
      "86: 284.25396663734193 ckpc/h\n",
      "87: 153.7720165134848 ckpc/h\n",
      "88: 189.04414972958293 ckpc/h\n",
      "89: 216.99205536205315 ckpc/h\n",
      "90: 308.73793883556385 ckpc/h\n",
      "91: 157.64147585142342 ckpc/h\n",
      "92: 234.64368835533884 ckpc/h\n",
      "93: 159.50551656837285 ckpc/h\n",
      "94: 58.33359524681605 ckpc/h\n",
      "95: 182.97438743789127 ckpc/h\n",
      "96: 387.6195078609097 ckpc/h\n",
      "97: 132.33972236639775 ckpc/h\n",
      "98: 151.17964704111483 ckpc/h\n",
      "99: 215.0281506147823 ckpc/h\n"
     ]
    }
   ],
   "source": [
    "scale = 1/(2.5)\n",
    "little_h  = 0.6774\n",
    "for i in range(100):\n",
    "    print(f\"{i}: {orbit_dict['40']['Separations'][i][loc[0]]/scale*little_h} ckpc/h\") "
   ]
  },
  {
   "cell_type": "code",
   "execution_count": 51,
   "id": "f093465d",
   "metadata": {},
   "outputs": [
    {
     "name": "stdout",
     "output_type": "stream",
     "text": [
      "z=1, snapshot 50\n",
      "---\n",
      "- Subhalo 345349/345352 with comov:28.72 ckpc/h  and phys: 21.20 ckpc/h\n",
      "- Subhalo 354245/354247 with comov:69.77 ckpc/h  and phys: 51.50 ckpc/h\n",
      "- Subhalo 364526/364528 with comov:36.83 ckpc/h  and phys: 27.18 ckpc/h\n",
      "- Subhalo 375812/375814 with comov:43.55 ckpc/h  and phys: 32.15 ckpc/h\n",
      "- Subhalo 377390/377392 with comov:37.03 ckpc/h  and phys: 27.33 ckpc/h\n",
      "- Subhalo 379964/379966 with comov:45.35 ckpc/h  and phys: 33.47 ckpc/h\n",
      "- Subhalo 386982/386978 with comov:40.18 ckpc/h  and phys: 29.66 ckpc/h\n",
      "z=1.5, snapshot 40\n",
      "---\n",
      "- Subhalo 223269 and 223270 with comov:614.21 ckpc/h  and phys: 362.69 ckpc/h\n",
      "- Subhalo 250969 and 250973 with comov:12.57 ckpc/h  and phys: 7.42 ckpc/h\n",
      "- Subhalo 285676 and 285678 with comov:46.32 ckpc/h  and phys: 27.35 ckpc/h\n",
      "- Subhalo 286766 and 286769 with comov:93.78 ckpc/h  and phys: 55.38 ckpc/h\n",
      "- Subhalo 294517 and 294519 with comov:58.33 ckpc/h  and phys: 34.45 ckpc/h\n"
     ]
    }
   ],
   "source": [
    "print(\"z=1, snapshot 50\")\n",
    "print(\"---\")\n",
    "for i in [12,20,49,69,72,80,99]:\n",
    "    scale = 1/2\n",
    "    loc = np.where(snap_dict['Snapshot'][::-1][:-1]==50)[0]\n",
    "    print(f\"- Subhalo {orbit_dict['50']['SubfindID1'][i]:g}/{orbit_dict['50']['SubfindID2'][i]:g} with comov:{orbit_dict['50']['Separations'][i][loc[0]]/scale*little_h:.2f} ckpc/h  and phys: {orbit_dict['50']['Separations'][i][loc[0]]:.2f} ckpc/h\")\n",
    "\n",
    "print(\"z=1.5, snapshot 40\")\n",
    "print(\"---\")\n",
    "for i in [1,13,76,79,94]:\n",
    "    scale = 1/2.5\n",
    "    loc = np.where(snap_dict['Snapshot'][::-1][:-1]==40)[0]\n",
    "    print(f\"- Subhalo {orbit_dict['40']['SubfindID1'][i]:g} and {orbit_dict['40']['SubfindID2'][i]:g} with comov:{orbit_dict['40']['Separations'][i][loc[0]]/scale*little_h:.2f} ckpc/h  and phys: {orbit_dict['40']['Separations'][i][loc[0]]:.2f} ckpc/h\")\n",
    "          "
   ]
  },
  {
   "cell_type": "code",
   "execution_count": 7,
   "id": "724b6006",
   "metadata": {},
   "outputs": [
    {
     "name": "stdout",
     "output_type": "stream",
     "text": [
      "Separation: 518.9960620880878 kpc\n",
      "Velocity: 519.6427001953125 km/s\n"
     ]
    }
   ],
   "source": [
    "loc = np.where(snap_dict['Snapshot'][::-1][:-1]==40)[0]\n",
    "print(f\"Separation: {orbit_dict['50']['Separations'][0][loc[0]]} kpc\") \n",
    "print(f\"Velocity: {orbit_dict['50']['Velocities'][0][loc[0]]} km/s\")"
   ]
  },
  {
   "cell_type": "markdown",
   "id": "6ea29703",
   "metadata": {},
   "source": [
    "List of close pairs that could make for cool plots: \n",
    "\n",
    "z=1, snapshot 50\n",
    "---\n",
    "- Subhalo 345349 with comov:28.72 ckpc/h  and phys: 21.20 ckpc/h\n",
    "- Subhalo 354245 with comov:69.77 ckpc/h  and phys: 51.50 ckpc/h\n",
    "- Subhalo 364526 with comov:36.83 ckpc/h  and phys: 27.18 ckpc/h\n",
    "- Subhalo 375812 with comov:43.55 ckpc/h  and phys: 32.15 ckpc/h\n",
    "- Subhalo 377390 with comov:37.03 ckpc/h  and phys: 27.33 ckpc/h\n",
    "- Subhalo 379964 with comov:45.35 ckpc/h  and phys: 33.47 ckpc/h\n",
    "- Subhalo 386982 with comov:40.18 ckpc/h  and phys: 29.66 ckpc/h\n",
    "\n",
    "z=1.5, snapshot 40\n",
    "---\n",
    "- Subhalo 250969 with comov:12.57 ckpc/h  and phys: 7.42 ckpc/h\n",
    "- Subhalo 285676 with comov:46.32 ckpc/h  and phys: 27.35 ckpc/h\n",
    "- Subhalo 286766 with comov:93.78 ckpc/h  and phys: 55.38 ckpc/h\n",
    "- Subhalo 294517 with comov:58.33 ckpc/h  and phys: 34.45 ckpc/h\n"
   ]
  },
  {
   "cell_type": "code",
   "execution_count": 50,
   "id": "aa89693d",
   "metadata": {},
   "outputs": [
    {
     "data": {
      "text/plain": [
       "3.54295837023915"
      ]
     },
     "execution_count": 50,
     "metadata": {},
     "output_type": "execute_result"
    }
   ],
   "source": [
    "6*scale/little_h"
   ]
  },
  {
   "cell_type": "code",
   "execution_count": null,
   "id": "11e4f7a9",
   "metadata": {},
   "outputs": [],
   "source": []
  }
 ],
 "metadata": {
  "kernelspec": {
   "display_name": "Python 3 (ipykernel)",
   "language": "python",
   "name": "python3"
  },
  "language_info": {
   "codemirror_mode": {
    "name": "ipython",
    "version": 3
   },
   "file_extension": ".py",
   "mimetype": "text/x-python",
   "name": "python",
   "nbconvert_exporter": "python",
   "pygments_lexer": "ipython3",
   "version": "3.8.18"
  },
  "toc": {
   "base_numbering": 1,
   "nav_menu": {},
   "number_sections": true,
   "sideBar": true,
   "skip_h1_title": false,
   "title_cell": "Table of Contents",
   "title_sidebar": "Contents",
   "toc_cell": false,
   "toc_position": {
    "height": "calc(100% - 180px)",
    "left": "10px",
    "top": "150px",
    "width": "192px"
   },
   "toc_section_display": true,
   "toc_window_display": true
  }
 },
 "nbformat": 4,
 "nbformat_minor": 5
}
